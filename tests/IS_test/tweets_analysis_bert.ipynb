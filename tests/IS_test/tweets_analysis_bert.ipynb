{
 "cells": [
  {
   "cell_type": "code",
   "execution_count": 33,
   "metadata": {},
   "outputs": [],
   "source": [
    "import numpy as np\n",
    "import pandas as pd\n",
    "import torch\n",
    "import transformers\n",
    "\n",
    "from tqdm import notebook\n",
    "from sklearn.linear_model import LogisticRegression\n",
    "from sklearn.model_selection import train_test_split\n",
    "from sklearn.metrics import f1_score\n",
    "\n",
    "from sklearn.preprocessing import StandardScaler\n",
    "\n",
    "from catboost import CatBoostClassifier\n",
    "from catboost import Pool"
   ]
  },
  {
   "cell_type": "code",
   "execution_count": 2,
   "metadata": {},
   "outputs": [],
   "source": [
    "columns = ['id', 'tdate', 'tname', 'ttext', 'ttype', 'trep', 'trtw', 'tfav', 'tstcount', 'tfol', 'tfrien', 'listcount']\n",
    "\n",
    "negative_df = pd.read_csv('./datasets/negative.csv', sep=';', names=columns)\n",
    "positive_df = pd.read_csv('./datasets/positive.csv', sep=';', names=columns)"
   ]
  },
  {
   "cell_type": "code",
   "execution_count": 3,
   "metadata": {},
   "outputs": [],
   "source": [
    "tweets_df = pd.concat([negative_df, positive_df])\n",
    "\n",
    "del negative_df\n",
    "del positive_df"
   ]
  },
  {
   "cell_type": "code",
   "execution_count": 4,
   "metadata": {},
   "outputs": [],
   "source": [
    "tweets_df.set_index(['id'], inplace=True)\n",
    "tweets_df.drop(labels='tname', axis=1, inplace=True)"
   ]
  },
  {
   "cell_type": "code",
   "execution_count": 5,
   "metadata": {},
   "outputs": [],
   "source": [
    "tweets_df.loc[tweets_df['ttype'] == -1, 'ttype'] = 0"
   ]
  },
  {
   "cell_type": "code",
   "execution_count": 6,
   "metadata": {},
   "outputs": [],
   "source": [
    "tweets_df = tweets_df.sample(n=2000, random_state=123456)"
   ]
  },
  {
   "cell_type": "code",
   "execution_count": 7,
   "metadata": {},
   "outputs": [
    {
     "name": "stdout",
     "output_type": "stream",
     "text": [
      "<class 'pandas.core.frame.DataFrame'>\n",
      "Int64Index: 2000 entries, 409919406907867136 to 417728925910175744\n",
      "Data columns (total 10 columns):\n",
      " #   Column     Non-Null Count  Dtype \n",
      "---  ------     --------------  ----- \n",
      " 0   tdate      2000 non-null   int64 \n",
      " 1   ttext      2000 non-null   object\n",
      " 2   ttype      2000 non-null   int64 \n",
      " 3   trep       2000 non-null   int64 \n",
      " 4   trtw       2000 non-null   int64 \n",
      " 5   tfav       2000 non-null   int64 \n",
      " 6   tstcount   2000 non-null   int64 \n",
      " 7   tfol       2000 non-null   int64 \n",
      " 8   tfrien     2000 non-null   int64 \n",
      " 9   listcount  2000 non-null   int64 \n",
      "dtypes: int64(9), object(1)\n",
      "memory usage: 171.9+ KB\n"
     ]
    },
    {
     "data": {
      "text/plain": [
       "None"
      ]
     },
     "metadata": {},
     "output_type": "display_data"
    },
    {
     "data": {
      "text/html": [
       "<div>\n",
       "<style scoped>\n",
       "    .dataframe tbody tr th:only-of-type {\n",
       "        vertical-align: middle;\n",
       "    }\n",
       "\n",
       "    .dataframe tbody tr th {\n",
       "        vertical-align: top;\n",
       "    }\n",
       "\n",
       "    .dataframe thead th {\n",
       "        text-align: right;\n",
       "    }\n",
       "</style>\n",
       "<table border=\"1\" class=\"dataframe\">\n",
       "  <thead>\n",
       "    <tr style=\"text-align: right;\">\n",
       "      <th></th>\n",
       "      <th>tdate</th>\n",
       "      <th>ttext</th>\n",
       "      <th>ttype</th>\n",
       "      <th>trep</th>\n",
       "      <th>trtw</th>\n",
       "      <th>tfav</th>\n",
       "      <th>tstcount</th>\n",
       "      <th>tfol</th>\n",
       "      <th>tfrien</th>\n",
       "      <th>listcount</th>\n",
       "    </tr>\n",
       "    <tr>\n",
       "      <th>id</th>\n",
       "      <th></th>\n",
       "      <th></th>\n",
       "      <th></th>\n",
       "      <th></th>\n",
       "      <th></th>\n",
       "      <th></th>\n",
       "      <th></th>\n",
       "      <th></th>\n",
       "      <th></th>\n",
       "      <th></th>\n",
       "    </tr>\n",
       "  </thead>\n",
       "  <tbody>\n",
       "    <tr>\n",
       "      <th>409919406907867136</th>\n",
       "      <td>1386567377</td>\n",
       "      <td>@Maria_Brovko Может в сонник заглянуть? К чему...</td>\n",
       "      <td>1</td>\n",
       "      <td>0</td>\n",
       "      <td>0</td>\n",
       "      <td>0</td>\n",
       "      <td>1918</td>\n",
       "      <td>27</td>\n",
       "      <td>94</td>\n",
       "      <td>1</td>\n",
       "    </tr>\n",
       "    <tr>\n",
       "      <th>410869105265491968</th>\n",
       "      <td>1386793802</td>\n",
       "      <td>Закончим этот день предновогодним озорством ;)...</td>\n",
       "      <td>1</td>\n",
       "      <td>0</td>\n",
       "      <td>0</td>\n",
       "      <td>0</td>\n",
       "      <td>6020</td>\n",
       "      <td>114</td>\n",
       "      <td>189</td>\n",
       "      <td>1</td>\n",
       "    </tr>\n",
       "    <tr>\n",
       "      <th>410798792842039296</th>\n",
       "      <td>1386777039</td>\n",
       "      <td>Мне Урупон шею свернет :-)\\nЛента, я Вас любил...</td>\n",
       "      <td>1</td>\n",
       "      <td>0</td>\n",
       "      <td>0</td>\n",
       "      <td>0</td>\n",
       "      <td>19852</td>\n",
       "      <td>347</td>\n",
       "      <td>175</td>\n",
       "      <td>7</td>\n",
       "    </tr>\n",
       "    <tr>\n",
       "      <th>410738861644726272</th>\n",
       "      <td>1386762750</td>\n",
       "      <td>@_skylovesme_ посмотри мои твиты за сегодняшне...</td>\n",
       "      <td>1</td>\n",
       "      <td>0</td>\n",
       "      <td>0</td>\n",
       "      <td>0</td>\n",
       "      <td>28123</td>\n",
       "      <td>287</td>\n",
       "      <td>198</td>\n",
       "      <td>3</td>\n",
       "    </tr>\n",
       "    <tr>\n",
       "      <th>408910075903082496</th>\n",
       "      <td>1386326733</td>\n",
       "      <td>Я так хотела побыстрее попробывать сырный суп,...</td>\n",
       "      <td>0</td>\n",
       "      <td>0</td>\n",
       "      <td>0</td>\n",
       "      <td>0</td>\n",
       "      <td>218</td>\n",
       "      <td>7</td>\n",
       "      <td>6</td>\n",
       "      <td>0</td>\n",
       "    </tr>\n",
       "  </tbody>\n",
       "</table>\n",
       "</div>"
      ],
      "text/plain": [
       "                         tdate  \\\n",
       "id                               \n",
       "409919406907867136  1386567377   \n",
       "410869105265491968  1386793802   \n",
       "410798792842039296  1386777039   \n",
       "410738861644726272  1386762750   \n",
       "408910075903082496  1386326733   \n",
       "\n",
       "                                                                ttext  ttype  \\\n",
       "id                                                                             \n",
       "409919406907867136  @Maria_Brovko Может в сонник заглянуть? К чему...      1   \n",
       "410869105265491968  Закончим этот день предновогодним озорством ;)...      1   \n",
       "410798792842039296  Мне Урупон шею свернет :-)\\nЛента, я Вас любил...      1   \n",
       "410738861644726272  @_skylovesme_ посмотри мои твиты за сегодняшне...      1   \n",
       "408910075903082496  Я так хотела побыстрее попробывать сырный суп,...      0   \n",
       "\n",
       "                    trep  trtw  tfav  tstcount  tfol  tfrien  listcount  \n",
       "id                                                                       \n",
       "409919406907867136     0     0     0      1918    27      94          1  \n",
       "410869105265491968     0     0     0      6020   114     189          1  \n",
       "410798792842039296     0     0     0     19852   347     175          7  \n",
       "410738861644726272     0     0     0     28123   287     198          3  \n",
       "408910075903082496     0     0     0       218     7       6          0  "
      ]
     },
     "metadata": {},
     "output_type": "display_data"
    }
   ],
   "source": [
    "display(tweets_df.info())\n",
    "display(tweets_df.head(5))"
   ]
  },
  {
   "cell_type": "code",
   "execution_count": 8,
   "metadata": {},
   "outputs": [],
   "source": [
    "# инициализации токенизатора\n",
    "tokenizer = transformers.BertTokenizer(vocab_file='./datasets/bert/vocab.txt')\n",
    "\n",
    "# преобразование твитов в токены\n",
    "tokenized = tweets_df['ttext'].apply(lambda x: tokenizer.encode(x, add_special_tokens=True))\n",
    "\n",
    "max_len = 0\n",
    "\n",
    "for i in tokenized.values:\n",
    "    if len(i) > max_len:\n",
    "        max_len = len(i)\n",
    "\n",
    "# выравнивание векторов по длине наибольшего вектора и заполнение нулями\n",
    "padded = np.array([i + [0]*(max_len - len(i)) for i in tokenized.values])\n",
    "\n",
    "# разбиение на значимые и не значимые токены\n",
    "attention_mask = np.where(padded != 0, 1, 0)"
   ]
  },
  {
   "cell_type": "code",
   "execution_count": 9,
   "metadata": {},
   "outputs": [],
   "source": [
    "# инициализации предобученной модели\n",
    "config = transformers.BertConfig.from_json_file(\n",
    "    './datasets/bert/bert_config.json')\n",
    "\n",
    "model = transformers.BertModel.from_pretrained(\n",
    "    './datasets/bert/pytorch_model.bin', config=config)"
   ]
  },
  {
   "cell_type": "code",
   "execution_count": 10,
   "metadata": {},
   "outputs": [
    {
     "data": {
      "application/vnd.jupyter.widget-view+json": {
       "model_id": "857cf634e6844e2f86b4ca2d2a15db59",
       "version_major": 2,
       "version_minor": 0
      },
      "text/plain": [
       "HBox(children=(FloatProgress(value=0.0, max=20.0), HTML(value='')))"
      ]
     },
     "metadata": {},
     "output_type": "display_data"
    },
    {
     "name": "stdout",
     "output_type": "stream",
     "text": [
      "\n"
     ]
    }
   ],
   "source": [
    "# преобразование векторов и маски моделью в признаки \n",
    "\n",
    "batch_size = 100\n",
    "embeddings = []\n",
    "\n",
    "for i in notebook.tqdm(range(padded.shape[0] // batch_size)):\n",
    "    batch = torch.LongTensor(padded[batch_size*i:batch_size*(i+1)]) \n",
    "    attention_mask_batch = torch.LongTensor(attention_mask[batch_size*i:batch_size*(i+1)])\n",
    "        \n",
    "    with torch.no_grad():\n",
    "        batch_embeddings = model(batch, attention_mask=attention_mask_batch)\n",
    "        \n",
    "    embeddings.append(batch_embeddings[0][:,0,:].numpy())"
   ]
  },
  {
   "cell_type": "code",
   "execution_count": 11,
   "metadata": {},
   "outputs": [],
   "source": [
    "features = np.concatenate(embeddings)\n",
    "target = tweets_df['ttype']\n",
    "\n",
    "features_train, features_test, target_train, target_test = train_test_split(features, target, test_size=0.5, random_state=123456)"
   ]
  },
  {
   "cell_type": "code",
   "execution_count": 12,
   "metadata": {},
   "outputs": [
    {
     "data": {
      "text/plain": [
       "LogisticRegression(n_jobs=-1, random_state=123456)"
      ]
     },
     "execution_count": 12,
     "metadata": {},
     "output_type": "execute_result"
    }
   ],
   "source": [
    "model = LogisticRegression(solver='lbfgs', n_jobs=-1, random_state=123456)\n",
    "model.fit(features_train, target_train)"
   ]
  },
  {
   "cell_type": "code",
   "execution_count": 13,
   "metadata": {},
   "outputs": [
    {
     "name": "stdout",
     "output_type": "stream",
     "text": [
      "LogisticRegression: F1-score=0.9638095238095238\n"
     ]
    }
   ],
   "source": [
    "predicted = model.predict(features_test)\n",
    "\n",
    "model_f1_score = f1_score(target_test, predicted)\n",
    "print(f'{type(model).__name__}: F1-score={model_f1_score}')"
   ]
  },
  {
   "cell_type": "code",
   "execution_count": 15,
   "metadata": {},
   "outputs": [],
   "source": [
    "train_pool = Pool(features_train, target_train)\n",
    "test_pool = Pool(features_test, target_test) "
   ]
  },
  {
   "cell_type": "code",
   "execution_count": 17,
   "metadata": {},
   "outputs": [
    {
     "name": "stdout",
     "output_type": "stream",
     "text": [
      "Learning rate set to 0.004275\n",
      "0:\tlearn: 0.8669355\ttest: 0.8043265\tbest: 0.8043265 (0)\ttotal: 43ms\tremaining: 1h 11m 41s\n",
      "100:\tlearn: 0.9453441\ttest: 0.8940956\tbest: 0.9004651 (47)\ttotal: 3.93s\tremaining: 1h 4m 48s\n",
      "200:\tlearn: 0.9704985\ttest: 0.9177570\tbest: 0.9177570 (198)\ttotal: 7.82s\tremaining: 1h 4m 42s\n",
      "300:\tlearn: 0.9806320\ttest: 0.9269663\tbest: 0.9269663 (295)\ttotal: 11.8s\tremaining: 1h 4m 52s\n",
      "400:\tlearn: 0.9897751\ttest: 0.9305816\tbest: 0.9314554 (377)\ttotal: 15.7s\tremaining: 1h 5m 3s\n",
      "500:\tlearn: 0.9928205\ttest: 0.9350894\tbest: 0.9360902 (490)\ttotal: 19.8s\tremaining: 1h 5m 28s\n",
      "600:\tlearn: 0.9938398\ttest: 0.9388523\tbest: 0.9388523 (584)\ttotal: 23.8s\tremaining: 1h 5m 33s\n",
      "700:\tlearn: 0.9969168\ttest: 0.9408451\tbest: 0.9408451 (684)\ttotal: 27.8s\tremaining: 1h 5m 44s\n",
      "800:\tlearn: 0.9989701\ttest: 0.9398496\tbest: 0.9408451 (684)\ttotal: 31.9s\tremaining: 1h 5m 45s\n",
      "900:\tlearn: 1.0000000\ttest: 0.9398496\tbest: 0.9408451 (684)\ttotal: 35.9s\tremaining: 1h 5m 47s\n",
      "1000:\tlearn: 1.0000000\ttest: 0.9416196\tbest: 0.9416196 (946)\ttotal: 40s\tremaining: 1h 5m 52s\n",
      "1100:\tlearn: 1.0000000\ttest: 0.9426152\tbest: 0.9426152 (1008)\ttotal: 44.1s\tremaining: 1h 6m 2s\n",
      "1200:\tlearn: 1.0000000\ttest: 0.9427230\tbest: 0.9437148 (1180)\ttotal: 48.2s\tremaining: 1h 6m 8s\n",
      "1300:\tlearn: 1.0000000\ttest: 0.9437148\tbest: 0.9446009 (1271)\ttotal: 52.4s\tremaining: 1h 6m 17s\n",
      "1400:\tlearn: 1.0000000\ttest: 0.9465792\tbest: 0.9465792 (1400)\ttotal: 56.8s\tremaining: 1h 6m 34s\n",
      "1500:\tlearn: 1.0000000\ttest: 0.9456929\tbest: 0.9465792 (1400)\ttotal: 1m 1s\tremaining: 1h 6m 47s\n",
      "1600:\tlearn: 1.0000000\ttest: 0.9456929\tbest: 0.9465792 (1400)\ttotal: 1m 5s\tremaining: 1h 6m 53s\n",
      "1700:\tlearn: 1.0000000\ttest: 0.9465792\tbest: 0.9465792 (1400)\ttotal: 1m 9s\tremaining: 1h 6m 59s\n",
      "1800:\tlearn: 1.0000000\ttest: 0.9466791\tbest: 0.9475655 (1742)\ttotal: 1m 13s\tremaining: 1h 6m 56s\n",
      "1900:\tlearn: 1.0000000\ttest: 0.9475655\tbest: 0.9475655 (1742)\ttotal: 1m 17s\tremaining: 1h 6m 54s\n",
      "2000:\tlearn: 1.0000000\ttest: 0.9494382\tbest: 0.9494382 (1981)\ttotal: 1m 21s\tremaining: 1h 6m 51s\n",
      "2100:\tlearn: 1.0000000\ttest: 0.9484536\tbest: 0.9494382 (1981)\ttotal: 1m 26s\tremaining: 1h 6m 47s\n",
      "2200:\tlearn: 1.0000000\ttest: 0.9466791\tbest: 0.9494382 (1981)\ttotal: 1m 30s\tremaining: 1h 7m 4s\n",
      "2300:\tlearn: 1.0000000\ttest: 0.9493433\tbest: 0.9513109 (2260)\ttotal: 1m 35s\tremaining: 1h 7m 21s\n",
      "2400:\tlearn: 1.0000000\ttest: 0.9483568\tbest: 0.9513109 (2260)\ttotal: 1m 39s\tremaining: 1h 7m 26s\n",
      "2500:\tlearn: 1.0000000\ttest: 0.9493433\tbest: 0.9513109 (2260)\ttotal: 1m 44s\tremaining: 1h 7m 42s\n",
      "2600:\tlearn: 1.0000000\ttest: 0.9503280\tbest: 0.9513109 (2260)\ttotal: 1m 48s\tremaining: 1h 7m 58s\n",
      "2700:\tlearn: 1.0000000\ttest: 0.9493433\tbest: 0.9513109 (2260)\ttotal: 1m 53s\tremaining: 1h 8m\n",
      "2800:\tlearn: 1.0000000\ttest: 0.9493433\tbest: 0.9513109 (2260)\ttotal: 1m 57s\tremaining: 1h 8m 1s\n",
      "2900:\tlearn: 1.0000000\ttest: 0.9493433\tbest: 0.9513109 (2260)\ttotal: 2m 1s\tremaining: 1h 8m\n",
      "3000:\tlearn: 1.0000000\ttest: 0.9503280\tbest: 0.9513109 (2260)\ttotal: 2m 6s\tremaining: 1h 7m 52s\n",
      "3100:\tlearn: 1.0000000\ttest: 0.9512195\tbest: 0.9522024 (3024)\ttotal: 2m 10s\tremaining: 1h 7m 55s\n",
      "3200:\tlearn: 1.0000000\ttest: 0.9503280\tbest: 0.9522024 (3024)\ttotal: 2m 14s\tremaining: 1h 7m 48s\n",
      "3300:\tlearn: 1.0000000\ttest: 0.9513109\tbest: 0.9522024 (3024)\ttotal: 2m 19s\tremaining: 1h 7m 52s\n",
      "3400:\tlearn: 1.0000000\ttest: 0.9513109\tbest: 0.9522024 (3024)\ttotal: 2m 23s\tremaining: 1h 7m 58s\n",
      "3500:\tlearn: 1.0000000\ttest: 0.9522919\tbest: 0.9531835 (3496)\ttotal: 2m 28s\tremaining: 1h 8m 4s\n",
      "3600:\tlearn: 1.0000000\ttest: 0.9531835\tbest: 0.9531835 (3496)\ttotal: 2m 32s\tremaining: 1h 8m 4s\n",
      "3700:\tlearn: 1.0000000\ttest: 0.9531835\tbest: 0.9531835 (3496)\ttotal: 2m 36s\tremaining: 1h 7m 56s\n",
      "3800:\tlearn: 1.0000000\ttest: 0.9513109\tbest: 0.9531835 (3496)\ttotal: 2m 41s\tremaining: 1h 8m 3s\n",
      "3900:\tlearn: 1.0000000\ttest: 0.9522919\tbest: 0.9531835 (3496)\ttotal: 2m 46s\tremaining: 1h 8m 26s\n",
      "4000:\tlearn: 1.0000000\ttest: 0.9531835\tbest: 0.9531835 (3496)\ttotal: 2m 51s\tremaining: 1h 8m 42s\n",
      "4100:\tlearn: 1.0000000\ttest: 0.9522024\tbest: 0.9531835 (3496)\ttotal: 2m 56s\tremaining: 1h 8m 57s\n",
      "4200:\tlearn: 1.0000000\ttest: 0.9513109\tbest: 0.9531835 (3496)\ttotal: 3m 2s\tremaining: 1h 9m 11s\n",
      "4300:\tlearn: 1.0000000\ttest: 0.9522024\tbest: 0.9531835 (3496)\ttotal: 3m 7s\tremaining: 1h 9m 27s\n",
      "4400:\tlearn: 1.0000000\ttest: 0.9531835\tbest: 0.9531835 (3496)\ttotal: 3m 12s\tremaining: 1h 9m 41s\n",
      "Stopped by overfitting detector  (1000 iterations wait)\n",
      "\n",
      "bestTest = 0.9531835206\n",
      "bestIteration = 3496\n",
      "\n",
      "Shrink model to first 3497 iterations.\n"
     ]
    },
    {
     "data": {
      "text/plain": [
       "<catboost.core.CatBoostClassifier at 0x1634ebb20>"
      ]
     },
     "execution_count": 17,
     "metadata": {},
     "output_type": "execute_result"
    }
   ],
   "source": [
    "cat_model = CatBoostClassifier(iterations=100000, early_stopping_rounds=1000, thread_count=-1, eval_metric='F1', random_state=123456)\n",
    "cat_model.fit(train_pool, eval_set=test_pool, verbose=100)"
   ]
  },
  {
   "cell_type": "code",
   "execution_count": null,
   "metadata": {},
   "outputs": [],
   "source": []
  },
  {
   "cell_type": "code",
   "execution_count": 34,
   "metadata": {},
   "outputs": [],
   "source": [
    "scaler_columns = tweets_df.drop(columns=['tdate', 'ttext', 'ttype']).columns.to_list()\n",
    "\n",
    "scaler = StandardScaler()\n",
    "tweets_df.loc[:, scaler_columns] = pd.DataFrame(scaler.fit_transform(tweets_df.loc[:, scaler_columns]), index=tweets_df.index, columns=scaler_columns)"
   ]
  },
  {
   "cell_type": "code",
   "execution_count": 35,
   "metadata": {},
   "outputs": [],
   "source": [
    "features_df = pd.DataFrame(features, index=tweets_df.index)\n",
    "features_df = features_df.join(tweets_df.drop(labels=['tdate', 'ttext', 'ttype'], axis=1))"
   ]
  },
  {
   "cell_type": "code",
   "execution_count": 36,
   "metadata": {},
   "outputs": [],
   "source": [
    "features_train, features_test, target_train, target_test = train_test_split(features_df, target, test_size=0.5, random_state=123456)"
   ]
  },
  {
   "cell_type": "code",
   "execution_count": 37,
   "metadata": {},
   "outputs": [
    {
     "data": {
      "text/plain": [
       "LogisticRegression(n_jobs=-1, random_state=123456)"
      ]
     },
     "execution_count": 37,
     "metadata": {},
     "output_type": "execute_result"
    }
   ],
   "source": [
    "model = LogisticRegression(solver='lbfgs', n_jobs=-1, random_state=123456)\n",
    "model.fit(features_train, target_train)"
   ]
  },
  {
   "cell_type": "code",
   "execution_count": 38,
   "metadata": {},
   "outputs": [
    {
     "name": "stdout",
     "output_type": "stream",
     "text": [
      "LogisticRegression: F1-score=0.9629629629629628\n"
     ]
    }
   ],
   "source": [
    "predicted = model.predict(features_test)\n",
    "\n",
    "model_f1_score = f1_score(target_test, predicted)\n",
    "print(f'{type(model).__name__}: F1-score={model_f1_score}')"
   ]
  },
  {
   "cell_type": "code",
   "execution_count": null,
   "metadata": {},
   "outputs": [],
   "source": []
  },
  {
   "cell_type": "code",
   "execution_count": 40,
   "metadata": {},
   "outputs": [],
   "source": [
    "train_pool = Pool(features_train, target_train)\n",
    "test_pool = Pool(features_test, target_test) "
   ]
  },
  {
   "cell_type": "code",
   "execution_count": 41,
   "metadata": {},
   "outputs": [
    {
     "name": "stdout",
     "output_type": "stream",
     "text": [
      "Learning rate set to 0.004275\n",
      "0:\tlearn: 0.8835821\ttest: 0.8349328\tbest: 0.8349328 (0)\ttotal: 48.3ms\tremaining: 1h 20m 28s\n",
      "100:\tlearn: 0.9503546\ttest: 0.9041353\tbest: 0.9041353 (100)\ttotal: 3.96s\tremaining: 1h 5m 15s\n",
      "200:\tlearn: 0.9704383\ttest: 0.9178470\tbest: 0.9198869 (196)\ttotal: 7.46s\tremaining: 1h 1m 45s\n",
      "300:\tlearn: 0.9785933\ttest: 0.9266917\tbest: 0.9266917 (293)\ttotal: 11s\tremaining: 1h 52s\n",
      "400:\tlearn: 0.9866940\ttest: 0.9294450\tbest: 0.9294450 (380)\ttotal: 14.7s\tremaining: 1h 56s\n",
      "500:\tlearn: 0.9918033\ttest: 0.9329556\tbest: 0.9330820 (477)\ttotal: 19.1s\tremaining: 1h 3m 6s\n",
      "600:\tlearn: 0.9938398\ttest: 0.9368520\tbest: 0.9368520 (593)\ttotal: 23.3s\tremaining: 1h 4m 13s\n",
      "700:\tlearn: 0.9969168\ttest: 0.9398496\tbest: 0.9398496 (652)\ttotal: 27.6s\tremaining: 1h 5m 11s\n",
      "800:\tlearn: 0.9979424\ttest: 0.9435028\tbest: 0.9444967 (756)\ttotal: 31.8s\tremaining: 1h 5m 34s\n",
      "900:\tlearn: 1.0000000\ttest: 0.9444967\tbest: 0.9444967 (756)\ttotal: 35.7s\tremaining: 1h 5m 28s\n",
      "1000:\tlearn: 1.0000000\ttest: 0.9436090\tbest: 0.9444967 (756)\ttotal: 40s\tremaining: 1h 5m 56s\n",
      "1100:\tlearn: 1.0000000\ttest: 0.9446009\tbest: 0.9446009 (1013)\ttotal: 44.4s\tremaining: 1h 6m 29s\n",
      "1200:\tlearn: 1.0000000\ttest: 0.9436090\tbest: 0.9446009 (1013)\ttotal: 48.6s\tremaining: 1h 6m 41s\n",
      "1300:\tlearn: 1.0000000\ttest: 0.9436090\tbest: 0.9446009 (1013)\ttotal: 53.2s\tremaining: 1h 7m 16s\n",
      "1400:\tlearn: 1.0000000\ttest: 0.9444967\tbest: 0.9446009 (1013)\ttotal: 57.7s\tremaining: 1h 7m 40s\n",
      "1500:\tlearn: 1.0000000\ttest: 0.9436090\tbest: 0.9446009 (1013)\ttotal: 1m 1s\tremaining: 1h 7m 40s\n",
      "1600:\tlearn: 1.0000000\ttest: 0.9454887\tbest: 0.9454887 (1595)\ttotal: 1m 6s\tremaining: 1h 7m 54s\n",
      "1700:\tlearn: 1.0000000\ttest: 0.9454887\tbest: 0.9463782 (1692)\ttotal: 1m 10s\tremaining: 1h 7m 45s\n",
      "1800:\tlearn: 1.0000000\ttest: 0.9464789\tbest: 0.9464789 (1743)\ttotal: 1m 14s\tremaining: 1h 7m 28s\n",
      "1900:\tlearn: 1.0000000\ttest: 0.9455910\tbest: 0.9464789 (1743)\ttotal: 1m 18s\tremaining: 1h 7m 12s\n",
      "2000:\tlearn: 1.0000000\ttest: 0.9474672\tbest: 0.9474672 (1992)\ttotal: 1m 22s\tremaining: 1h 6m 57s\n",
      "2100:\tlearn: 1.0000000\ttest: 0.9473684\tbest: 0.9474672 (1992)\ttotal: 1m 25s\tremaining: 1h 6m 45s\n",
      "2200:\tlearn: 1.0000000\ttest: 0.9503280\tbest: 0.9503280 (2150)\ttotal: 1m 30s\tremaining: 1h 6m 52s\n",
      "2300:\tlearn: 1.0000000\ttest: 0.9522024\tbest: 0.9522919 (2282)\ttotal: 1m 34s\tremaining: 1h 7m 9s\n",
      "2400:\tlearn: 1.0000000\ttest: 0.9531835\tbest: 0.9531835 (2310)\ttotal: 1m 39s\tremaining: 1h 7m 43s\n",
      "2500:\tlearn: 1.0000000\ttest: 0.9513109\tbest: 0.9531835 (2310)\ttotal: 1m 45s\tremaining: 1h 8m 31s\n",
      "2600:\tlearn: 1.0000000\ttest: 0.9513109\tbest: 0.9531835 (2310)\ttotal: 1m 50s\tremaining: 1h 9m 13s\n",
      "2700:\tlearn: 1.0000000\ttest: 0.9513109\tbest: 0.9531835 (2310)\ttotal: 1m 58s\tremaining: 1h 11m 1s\n",
      "2800:\tlearn: 1.0000000\ttest: 0.9513109\tbest: 0.9531835 (2310)\ttotal: 2m 9s\tremaining: 1h 15m\n",
      "2900:\tlearn: 1.0000000\ttest: 0.9522024\tbest: 0.9531835 (2310)\ttotal: 2m 16s\tremaining: 1h 16m 13s\n",
      "3000:\tlearn: 1.0000000\ttest: 0.9522024\tbest: 0.9531835 (2310)\ttotal: 2m 23s\tremaining: 1h 17m 26s\n",
      "3100:\tlearn: 1.0000000\ttest: 0.9550562\tbest: 0.9550562 (3065)\ttotal: 2m 29s\tremaining: 1h 17m 43s\n",
      "3200:\tlearn: 1.0000000\ttest: 0.9550562\tbest: 0.9550562 (3065)\ttotal: 2m 34s\tremaining: 1h 17m 44s\n",
      "3300:\tlearn: 1.0000000\ttest: 0.9540769\tbest: 0.9550562 (3065)\ttotal: 2m 39s\tremaining: 1h 18m 1s\n",
      "3400:\tlearn: 1.0000000\ttest: 0.9550562\tbest: 0.9550562 (3065)\ttotal: 2m 45s\tremaining: 1h 18m 12s\n",
      "3500:\tlearn: 1.0000000\ttest: 0.9560337\tbest: 0.9560337 (3487)\ttotal: 2m 49s\tremaining: 1h 18m\n",
      "3600:\tlearn: 1.0000000\ttest: 0.9560337\tbest: 0.9560337 (3487)\ttotal: 2m 54s\tremaining: 1h 17m 54s\n",
      "3700:\tlearn: 1.0000000\ttest: 0.9560337\tbest: 0.9560337 (3487)\ttotal: 2m 59s\tremaining: 1h 17m 41s\n",
      "3800:\tlearn: 1.0000000\ttest: 0.9560337\tbest: 0.9560337 (3487)\ttotal: 3m 3s\tremaining: 1h 17m 36s\n",
      "3900:\tlearn: 1.0000000\ttest: 0.9541628\tbest: 0.9570093 (3818)\ttotal: 3m 8s\tremaining: 1h 17m 27s\n",
      "4000:\tlearn: 1.0000000\ttest: 0.9550562\tbest: 0.9570093 (3818)\ttotal: 3m 13s\tremaining: 1h 17m 21s\n",
      "4100:\tlearn: 1.0000000\ttest: 0.9532710\tbest: 0.9570093 (3818)\ttotal: 3m 19s\tremaining: 1h 17m 49s\n",
      "4200:\tlearn: 1.0000000\ttest: 0.9541628\tbest: 0.9570093 (3818)\ttotal: 3m 28s\tremaining: 1h 19m 4s\n",
      "4300:\tlearn: 1.0000000\ttest: 0.9551402\tbest: 0.9570093 (3818)\ttotal: 3m 34s\tremaining: 1h 19m 27s\n",
      "4400:\tlearn: 1.0000000\ttest: 0.9541628\tbest: 0.9570093 (3818)\ttotal: 3m 43s\tremaining: 1h 20m 44s\n",
      "4500:\tlearn: 1.0000000\ttest: 0.9561158\tbest: 0.9570093 (3818)\ttotal: 3m 52s\tremaining: 1h 22m 10s\n",
      "4600:\tlearn: 1.0000000\ttest: 0.9561158\tbest: 0.9570093 (3818)\ttotal: 3m 58s\tremaining: 1h 22m 35s\n",
      "4700:\tlearn: 1.0000000\ttest: 0.9561158\tbest: 0.9570093 (3818)\ttotal: 4m 4s\tremaining: 1h 22m 37s\n",
      "4800:\tlearn: 1.0000000\ttest: 0.9561158\tbest: 0.9570093 (3818)\ttotal: 4m 9s\tremaining: 1h 22m 30s\n",
      "Stopped by overfitting detector  (1000 iterations wait)\n",
      "\n",
      "bestTest = 0.9570093458\n",
      "bestIteration = 3818\n",
      "\n",
      "Shrink model to first 3819 iterations.\n"
     ]
    },
    {
     "data": {
      "text/plain": [
       "<catboost.core.CatBoostClassifier at 0x163b57250>"
      ]
     },
     "execution_count": 41,
     "metadata": {},
     "output_type": "execute_result"
    }
   ],
   "source": [
    "cat_model = CatBoostClassifier(iterations=100000, early_stopping_rounds=1000, thread_count=-1, eval_metric='F1', random_state=123456)\n",
    "cat_model.fit(train_pool, eval_set=test_pool, verbose=100)"
   ]
  },
  {
   "cell_type": "markdown",
   "metadata": {},
   "source": [
    "Обработка твитов моделью Bert показала результаты намного лучше, при меньшей выборке, чем TfidfVectorizer. Добавление других признаком так же не привело к увеличению качества классификации. "
   ]
  },
  {
   "cell_type": "code",
   "execution_count": null,
   "metadata": {},
   "outputs": [],
   "source": []
  }
 ],
 "metadata": {
  "kernelspec": {
   "display_name": "Python 3",
   "language": "python",
   "name": "python3"
  },
  "language_info": {
   "codemirror_mode": {
    "name": "ipython",
    "version": 3
   },
   "file_extension": ".py",
   "mimetype": "text/x-python",
   "name": "python",
   "nbconvert_exporter": "python",
   "pygments_lexer": "ipython3",
   "version": "3.8.3"
  }
 },
 "nbformat": 4,
 "nbformat_minor": 4
}
