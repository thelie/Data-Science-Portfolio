{
 "cells": [
  {
   "cell_type": "markdown",
   "metadata": {
    "colab_type": "text",
    "id": "1lZWOb5WGrdT"
   },
   "source": [
    "## Описание данных\n",
    "### Признаки\n",
    "\n",
    "- `id`: уникальный номер сообщения в системе twitter;\n",
    "- `tdate`: дата публикации сообщения (твита);\n",
    "- `tname`: имя пользователя, опубликовавшего сообщение;\n",
    "- `ttext`: текст сообщения (твита);\n",
    "- `ttype`: поле в котором в дальнейшем будет указано к кому классу относится твит (положительный, отрицательный, нейтральный);\n",
    "- `trep`: количество реплаев к данному сообщению. В настоящий момент API твиттера не отдает эту информацию;\n",
    "- `trtw`: число ретвитов\n",
    "- `tfav`: число сколько раз данное сообщение было добавлено в избранное другими пользователями;\n",
    "- `tstcount`: число всех сообщений пользователя в сети twitter;\n",
    "- `tfol`: количество фоловеров пользователя (тех людей, которые читают пользователя);\n",
    "- `tfrien`: количество друзей пользователя (те люди, которых читает пользователь);\n",
    "- `listcount`: количество листов-подписок в которые добавлен твиттер-пользователь."
   ]
  },
  {
   "cell_type": "code",
   "execution_count": 36,
   "metadata": {
    "colab": {},
    "colab_type": "code",
    "id": "fodhAz0FEuD-"
   },
   "outputs": [],
   "source": [
    "import pandas as pd\n",
    "import numpy as np\n",
    "import nltk\n",
    "import re\n",
    "\n",
    "from datetime import datetime\n",
    "from pymystem3 import Mystem\n",
    "\n",
    "from nltk.corpus import stopwords as nltk_stopwords\n",
    "\n",
    "from sklearn.feature_extraction.text import TfidfVectorizer\n",
    "from sklearn.linear_model import LogisticRegression\n",
    "from sklearn.model_selection import cross_val_score, train_test_split\n",
    "from sklearn.metrics import f1_score\n",
    "from sklearn.preprocessing import StandardScaler\n",
    "\n",
    "from catboost import CatBoostClassifier\n",
    "from catboost import Pool"
   ]
  },
  {
   "cell_type": "code",
   "execution_count": 2,
   "metadata": {
    "colab": {},
    "colab_type": "code",
    "id": "obZcbypBFVE1"
   },
   "outputs": [],
   "source": [
    "columns = ['id', 'tdate', 'tname', 'ttext', 'ttype', 'trep', 'trtw', 'tfav', 'tstcount', 'tfol', 'tfrien', 'listcount']\n",
    "\n",
    "negative_df = pd.read_csv('./datasets/negative.csv', sep=';', names=columns)\n",
    "positive_df = pd.read_csv('./datasets/positive.csv', sep=';', names=columns)"
   ]
  },
  {
   "cell_type": "code",
   "execution_count": 3,
   "metadata": {
    "colab": {
     "base_uri": "https://localhost:8080/",
     "height": 51
    },
    "colab_type": "code",
    "id": "U5nCPtMXLPis",
    "outputId": "a0956591-3641-4de8-eff4-15afdb74a95e"
   },
   "outputs": [
    {
     "name": "stdout",
     "output_type": "stream",
     "text": [
      "0\n",
      "0\n"
     ]
    }
   ],
   "source": [
    "negative_duplicated_ids = negative_df.loc[negative_df['id'].duplicated() == True]\n",
    "positive_duplicated_ids = positive_df.loc[positive_df['id'].duplicated() == True]\n",
    "\n",
    "print(len(negative_duplicated_ids))\n",
    "print(len(positive_duplicated_ids))"
   ]
  },
  {
   "cell_type": "code",
   "execution_count": 4,
   "metadata": {
    "colab": {},
    "colab_type": "code",
    "id": "_D6Xv3mbLOSw"
   },
   "outputs": [],
   "source": [
    "tweets_df = pd.concat([negative_df, positive_df])\n",
    "\n",
    "del negative_df\n",
    "del positive_df"
   ]
  },
  {
   "cell_type": "code",
   "execution_count": 5,
   "metadata": {
    "colab": {},
    "colab_type": "code",
    "id": "DyNJgH3OL3F4"
   },
   "outputs": [],
   "source": [
    "tweets_df.set_index(['id'], inplace=True)\n",
    "tweets_df.drop(labels='tname', axis=1, inplace=True)"
   ]
  },
  {
   "cell_type": "code",
   "execution_count": 6,
   "metadata": {},
   "outputs": [],
   "source": [
    "tweets_df = tweets_df.sample(frac=0.1, random_state=123456)"
   ]
  },
  {
   "cell_type": "code",
   "execution_count": 7,
   "metadata": {
    "colab": {
     "base_uri": "https://localhost:8080/",
     "height": 541
    },
    "colab_type": "code",
    "id": "TitCrBFmFXIg",
    "outputId": "b006271f-9e24-4c3f-89a9-5d867732601a"
   },
   "outputs": [
    {
     "name": "stdout",
     "output_type": "stream",
     "text": [
      "<class 'pandas.core.frame.DataFrame'>\n",
      "Int64Index: 22683 entries, 409919406907867136 to 409407608362377216\n",
      "Data columns (total 10 columns):\n",
      " #   Column     Non-Null Count  Dtype \n",
      "---  ------     --------------  ----- \n",
      " 0   tdate      22683 non-null  int64 \n",
      " 1   ttext      22683 non-null  object\n",
      " 2   ttype      22683 non-null  int64 \n",
      " 3   trep       22683 non-null  int64 \n",
      " 4   trtw       22683 non-null  int64 \n",
      " 5   tfav       22683 non-null  int64 \n",
      " 6   tstcount   22683 non-null  int64 \n",
      " 7   tfol       22683 non-null  int64 \n",
      " 8   tfrien     22683 non-null  int64 \n",
      " 9   listcount  22683 non-null  int64 \n",
      "dtypes: int64(9), object(1)\n",
      "memory usage: 1.9+ MB\n"
     ]
    },
    {
     "data": {
      "text/plain": [
       "None"
      ]
     },
     "metadata": {},
     "output_type": "display_data"
    },
    {
     "data": {
      "text/html": [
       "<div>\n",
       "<style scoped>\n",
       "    .dataframe tbody tr th:only-of-type {\n",
       "        vertical-align: middle;\n",
       "    }\n",
       "\n",
       "    .dataframe tbody tr th {\n",
       "        vertical-align: top;\n",
       "    }\n",
       "\n",
       "    .dataframe thead th {\n",
       "        text-align: right;\n",
       "    }\n",
       "</style>\n",
       "<table border=\"1\" class=\"dataframe\">\n",
       "  <thead>\n",
       "    <tr style=\"text-align: right;\">\n",
       "      <th></th>\n",
       "      <th>tdate</th>\n",
       "      <th>ttext</th>\n",
       "      <th>ttype</th>\n",
       "      <th>trep</th>\n",
       "      <th>trtw</th>\n",
       "      <th>tfav</th>\n",
       "      <th>tstcount</th>\n",
       "      <th>tfol</th>\n",
       "      <th>tfrien</th>\n",
       "      <th>listcount</th>\n",
       "    </tr>\n",
       "    <tr>\n",
       "      <th>id</th>\n",
       "      <th></th>\n",
       "      <th></th>\n",
       "      <th></th>\n",
       "      <th></th>\n",
       "      <th></th>\n",
       "      <th></th>\n",
       "      <th></th>\n",
       "      <th></th>\n",
       "      <th></th>\n",
       "      <th></th>\n",
       "    </tr>\n",
       "  </thead>\n",
       "  <tbody>\n",
       "    <tr>\n",
       "      <th>409919406907867136</th>\n",
       "      <td>1386567377</td>\n",
       "      <td>@Maria_Brovko Может в сонник заглянуть? К чему...</td>\n",
       "      <td>1</td>\n",
       "      <td>0</td>\n",
       "      <td>0</td>\n",
       "      <td>0</td>\n",
       "      <td>1918</td>\n",
       "      <td>27</td>\n",
       "      <td>94</td>\n",
       "      <td>1</td>\n",
       "    </tr>\n",
       "    <tr>\n",
       "      <th>410869105265491968</th>\n",
       "      <td>1386793802</td>\n",
       "      <td>Закончим этот день предновогодним озорством ;)...</td>\n",
       "      <td>1</td>\n",
       "      <td>0</td>\n",
       "      <td>0</td>\n",
       "      <td>0</td>\n",
       "      <td>6020</td>\n",
       "      <td>114</td>\n",
       "      <td>189</td>\n",
       "      <td>1</td>\n",
       "    </tr>\n",
       "    <tr>\n",
       "      <th>410798792842039296</th>\n",
       "      <td>1386777039</td>\n",
       "      <td>Мне Урупон шею свернет :-)\\nЛента, я Вас любил...</td>\n",
       "      <td>1</td>\n",
       "      <td>0</td>\n",
       "      <td>0</td>\n",
       "      <td>0</td>\n",
       "      <td>19852</td>\n",
       "      <td>347</td>\n",
       "      <td>175</td>\n",
       "      <td>7</td>\n",
       "    </tr>\n",
       "    <tr>\n",
       "      <th>410738861644726272</th>\n",
       "      <td>1386762750</td>\n",
       "      <td>@_skylovesme_ посмотри мои твиты за сегодняшне...</td>\n",
       "      <td>1</td>\n",
       "      <td>0</td>\n",
       "      <td>0</td>\n",
       "      <td>0</td>\n",
       "      <td>28123</td>\n",
       "      <td>287</td>\n",
       "      <td>198</td>\n",
       "      <td>3</td>\n",
       "    </tr>\n",
       "    <tr>\n",
       "      <th>408910075903082496</th>\n",
       "      <td>1386326733</td>\n",
       "      <td>Я так хотела побыстрее попробывать сырный суп,...</td>\n",
       "      <td>-1</td>\n",
       "      <td>0</td>\n",
       "      <td>0</td>\n",
       "      <td>0</td>\n",
       "      <td>218</td>\n",
       "      <td>7</td>\n",
       "      <td>6</td>\n",
       "      <td>0</td>\n",
       "    </tr>\n",
       "  </tbody>\n",
       "</table>\n",
       "</div>"
      ],
      "text/plain": [
       "                         tdate  \\\n",
       "id                               \n",
       "409919406907867136  1386567377   \n",
       "410869105265491968  1386793802   \n",
       "410798792842039296  1386777039   \n",
       "410738861644726272  1386762750   \n",
       "408910075903082496  1386326733   \n",
       "\n",
       "                                                                ttext  ttype  \\\n",
       "id                                                                             \n",
       "409919406907867136  @Maria_Brovko Может в сонник заглянуть? К чему...      1   \n",
       "410869105265491968  Закончим этот день предновогодним озорством ;)...      1   \n",
       "410798792842039296  Мне Урупон шею свернет :-)\\nЛента, я Вас любил...      1   \n",
       "410738861644726272  @_skylovesme_ посмотри мои твиты за сегодняшне...      1   \n",
       "408910075903082496  Я так хотела побыстрее попробывать сырный суп,...     -1   \n",
       "\n",
       "                    trep  trtw  tfav  tstcount  tfol  tfrien  listcount  \n",
       "id                                                                       \n",
       "409919406907867136     0     0     0      1918    27      94          1  \n",
       "410869105265491968     0     0     0      6020   114     189          1  \n",
       "410798792842039296     0     0     0     19852   347     175          7  \n",
       "410738861644726272     0     0     0     28123   287     198          3  \n",
       "408910075903082496     0     0     0       218     7       6          0  "
      ]
     },
     "metadata": {},
     "output_type": "display_data"
    }
   ],
   "source": [
    "display(tweets_df.info())\n",
    "display(tweets_df.head(5))"
   ]
  },
  {
   "cell_type": "code",
   "execution_count": 8,
   "metadata": {
    "colab": {},
    "colab_type": "code",
    "id": "O7dk9MWjJ9-0"
   },
   "outputs": [],
   "source": [
    "tweets_df['tdate'] = pd.to_datetime(tweets_df['tdate'], unit='s')"
   ]
  },
  {
   "cell_type": "code",
   "execution_count": 9,
   "metadata": {},
   "outputs": [],
   "source": [
    "tweets_df.loc[tweets_df['ttype'] == -1, 'ttype'] = 0"
   ]
  },
  {
   "cell_type": "code",
   "execution_count": 10,
   "metadata": {},
   "outputs": [
    {
     "data": {
      "text/html": [
       "<div>\n",
       "<style scoped>\n",
       "    .dataframe tbody tr th:only-of-type {\n",
       "        vertical-align: middle;\n",
       "    }\n",
       "\n",
       "    .dataframe tbody tr th {\n",
       "        vertical-align: top;\n",
       "    }\n",
       "\n",
       "    .dataframe thead th {\n",
       "        text-align: right;\n",
       "    }\n",
       "</style>\n",
       "<table border=\"1\" class=\"dataframe\">\n",
       "  <thead>\n",
       "    <tr style=\"text-align: right;\">\n",
       "      <th></th>\n",
       "      <th>tdate</th>\n",
       "      <th>ttext</th>\n",
       "      <th>ttype</th>\n",
       "      <th>trep</th>\n",
       "      <th>trtw</th>\n",
       "      <th>tfav</th>\n",
       "      <th>tstcount</th>\n",
       "      <th>tfol</th>\n",
       "      <th>tfrien</th>\n",
       "      <th>listcount</th>\n",
       "    </tr>\n",
       "    <tr>\n",
       "      <th>id</th>\n",
       "      <th></th>\n",
       "      <th></th>\n",
       "      <th></th>\n",
       "      <th></th>\n",
       "      <th></th>\n",
       "      <th></th>\n",
       "      <th></th>\n",
       "      <th></th>\n",
       "      <th></th>\n",
       "      <th></th>\n",
       "    </tr>\n",
       "  </thead>\n",
       "  <tbody>\n",
       "    <tr>\n",
       "      <th>409919406907867136</th>\n",
       "      <td>2013-12-09 05:36:17</td>\n",
       "      <td>@Maria_Brovko Может в сонник заглянуть? К чему...</td>\n",
       "      <td>1</td>\n",
       "      <td>0</td>\n",
       "      <td>0</td>\n",
       "      <td>0</td>\n",
       "      <td>1918</td>\n",
       "      <td>27</td>\n",
       "      <td>94</td>\n",
       "      <td>1</td>\n",
       "    </tr>\n",
       "    <tr>\n",
       "      <th>410869105265491968</th>\n",
       "      <td>2013-12-11 20:30:02</td>\n",
       "      <td>Закончим этот день предновогодним озорством ;)...</td>\n",
       "      <td>1</td>\n",
       "      <td>0</td>\n",
       "      <td>0</td>\n",
       "      <td>0</td>\n",
       "      <td>6020</td>\n",
       "      <td>114</td>\n",
       "      <td>189</td>\n",
       "      <td>1</td>\n",
       "    </tr>\n",
       "    <tr>\n",
       "      <th>410798792842039296</th>\n",
       "      <td>2013-12-11 15:50:39</td>\n",
       "      <td>Мне Урупон шею свернет :-)\\nЛента, я Вас любил...</td>\n",
       "      <td>1</td>\n",
       "      <td>0</td>\n",
       "      <td>0</td>\n",
       "      <td>0</td>\n",
       "      <td>19852</td>\n",
       "      <td>347</td>\n",
       "      <td>175</td>\n",
       "      <td>7</td>\n",
       "    </tr>\n",
       "    <tr>\n",
       "      <th>410738861644726272</th>\n",
       "      <td>2013-12-11 11:52:30</td>\n",
       "      <td>@_skylovesme_ посмотри мои твиты за сегодняшне...</td>\n",
       "      <td>1</td>\n",
       "      <td>0</td>\n",
       "      <td>0</td>\n",
       "      <td>0</td>\n",
       "      <td>28123</td>\n",
       "      <td>287</td>\n",
       "      <td>198</td>\n",
       "      <td>3</td>\n",
       "    </tr>\n",
       "    <tr>\n",
       "      <th>408910075903082496</th>\n",
       "      <td>2013-12-06 10:45:33</td>\n",
       "      <td>Я так хотела побыстрее попробывать сырный суп,...</td>\n",
       "      <td>0</td>\n",
       "      <td>0</td>\n",
       "      <td>0</td>\n",
       "      <td>0</td>\n",
       "      <td>218</td>\n",
       "      <td>7</td>\n",
       "      <td>6</td>\n",
       "      <td>0</td>\n",
       "    </tr>\n",
       "  </tbody>\n",
       "</table>\n",
       "</div>"
      ],
      "text/plain": [
       "                                 tdate  \\\n",
       "id                                       \n",
       "409919406907867136 2013-12-09 05:36:17   \n",
       "410869105265491968 2013-12-11 20:30:02   \n",
       "410798792842039296 2013-12-11 15:50:39   \n",
       "410738861644726272 2013-12-11 11:52:30   \n",
       "408910075903082496 2013-12-06 10:45:33   \n",
       "\n",
       "                                                                ttext  ttype  \\\n",
       "id                                                                             \n",
       "409919406907867136  @Maria_Brovko Может в сонник заглянуть? К чему...      1   \n",
       "410869105265491968  Закончим этот день предновогодним озорством ;)...      1   \n",
       "410798792842039296  Мне Урупон шею свернет :-)\\nЛента, я Вас любил...      1   \n",
       "410738861644726272  @_skylovesme_ посмотри мои твиты за сегодняшне...      1   \n",
       "408910075903082496  Я так хотела побыстрее попробывать сырный суп,...      0   \n",
       "\n",
       "                    trep  trtw  tfav  tstcount  tfol  tfrien  listcount  \n",
       "id                                                                       \n",
       "409919406907867136     0     0     0      1918    27      94          1  \n",
       "410869105265491968     0     0     0      6020   114     189          1  \n",
       "410798792842039296     0     0     0     19852   347     175          7  \n",
       "410738861644726272     0     0     0     28123   287     198          3  \n",
       "408910075903082496     0     0     0       218     7       6          0  "
      ]
     },
     "metadata": {},
     "output_type": "display_data"
    }
   ],
   "source": [
    "display(tweets_df.head(5))"
   ]
  },
  {
   "cell_type": "markdown",
   "metadata": {},
   "source": [
    "### Очистка текста твита\n",
    "\n",
    "Решил оставить только кириллицу. Наверное можно было вытащить еще смайлики в отдельный признак (положительный/негативный), не уверен что не ухудшит результат. "
   ]
  },
  {
   "cell_type": "code",
   "execution_count": 11,
   "metadata": {},
   "outputs": [],
   "source": [
    "m = Mystem()\n",
    "    \n",
    "def lemmatize(text):\n",
    "    lemm_list = m.lemmatize(text)\n",
    "    lemm_text = \"\".join(lemm_list)\n",
    "        \n",
    "    return lemm_text\n",
    "\n",
    "\n",
    "def clear_text(text):\n",
    "    reg = r'[^а-яА-ЯёЁ]'\n",
    "    text = re.sub(reg, ' ', text)\n",
    "    text = text.split()\n",
    "    text = \" \".join(text)\n",
    "    \n",
    "    return text\n",
    "\n",
    "def text_process(text):\n",
    "    proccesed_text = lemmatize(clear_text(text)) \n",
    "    \n",
    "    return proccesed_text"
   ]
  },
  {
   "cell_type": "code",
   "execution_count": 12,
   "metadata": {},
   "outputs": [],
   "source": [
    "tweets_df['ttext_clear'] = tweets_df['ttext'].apply(text_process)"
   ]
  },
  {
   "cell_type": "code",
   "execution_count": 13,
   "metadata": {},
   "outputs": [],
   "source": [
    "# tweets_df.to_csv(\"./datasets/tweets_lemm.csv\")"
   ]
  },
  {
   "cell_type": "code",
   "execution_count": 14,
   "metadata": {},
   "outputs": [],
   "source": [
    "tweets_df.drop(labels='ttext', axis=1, inplace=True)"
   ]
  },
  {
   "cell_type": "code",
   "execution_count": 15,
   "metadata": {},
   "outputs": [
    {
     "data": {
      "text/html": [
       "<div>\n",
       "<style scoped>\n",
       "    .dataframe tbody tr th:only-of-type {\n",
       "        vertical-align: middle;\n",
       "    }\n",
       "\n",
       "    .dataframe tbody tr th {\n",
       "        vertical-align: top;\n",
       "    }\n",
       "\n",
       "    .dataframe thead th {\n",
       "        text-align: right;\n",
       "    }\n",
       "</style>\n",
       "<table border=\"1\" class=\"dataframe\">\n",
       "  <thead>\n",
       "    <tr style=\"text-align: right;\">\n",
       "      <th></th>\n",
       "      <th>tdate</th>\n",
       "      <th>ttype</th>\n",
       "      <th>trep</th>\n",
       "      <th>trtw</th>\n",
       "      <th>tfav</th>\n",
       "      <th>tstcount</th>\n",
       "      <th>tfol</th>\n",
       "      <th>tfrien</th>\n",
       "      <th>listcount</th>\n",
       "      <th>ttext_clear</th>\n",
       "    </tr>\n",
       "    <tr>\n",
       "      <th>id</th>\n",
       "      <th></th>\n",
       "      <th></th>\n",
       "      <th></th>\n",
       "      <th></th>\n",
       "      <th></th>\n",
       "      <th></th>\n",
       "      <th></th>\n",
       "      <th></th>\n",
       "      <th></th>\n",
       "      <th></th>\n",
       "    </tr>\n",
       "  </thead>\n",
       "  <tbody>\n",
       "    <tr>\n",
       "      <th>409919406907867136</th>\n",
       "      <td>2013-12-09 05:36:17</td>\n",
       "      <td>1</td>\n",
       "      <td>0</td>\n",
       "      <td>0</td>\n",
       "      <td>0</td>\n",
       "      <td>1918</td>\n",
       "      <td>27</td>\n",
       "      <td>94</td>\n",
       "      <td>1</td>\n",
       "      <td>может в сонник заглядывать к что этот чушь\\n</td>\n",
       "    </tr>\n",
       "    <tr>\n",
       "      <th>410869105265491968</th>\n",
       "      <td>2013-12-11 20:30:02</td>\n",
       "      <td>1</td>\n",
       "      <td>0</td>\n",
       "      <td>0</td>\n",
       "      <td>0</td>\n",
       "      <td>6020</td>\n",
       "      <td>114</td>\n",
       "      <td>189</td>\n",
       "      <td>1</td>\n",
       "      <td>заканчивать этот день предновогодний озорство ...</td>\n",
       "    </tr>\n",
       "    <tr>\n",
       "      <th>410798792842039296</th>\n",
       "      <td>2013-12-11 15:50:39</td>\n",
       "      <td>1</td>\n",
       "      <td>0</td>\n",
       "      <td>0</td>\n",
       "      <td>0</td>\n",
       "      <td>19852</td>\n",
       "      <td>347</td>\n",
       "      <td>175</td>\n",
       "      <td>7</td>\n",
       "      <td>я урупон шея свертывать лента я вы любить с\\n</td>\n",
       "    </tr>\n",
       "    <tr>\n",
       "      <th>410738861644726272</th>\n",
       "      <td>2013-12-11 11:52:30</td>\n",
       "      <td>1</td>\n",
       "      <td>0</td>\n",
       "      <td>0</td>\n",
       "      <td>0</td>\n",
       "      <td>28123</td>\n",
       "      <td>287</td>\n",
       "      <td>198</td>\n",
       "      <td>3</td>\n",
       "      <td>посмотреть мой твита за сегодняшний утро если ...</td>\n",
       "    </tr>\n",
       "    <tr>\n",
       "      <th>408910075903082496</th>\n",
       "      <td>2013-12-06 10:45:33</td>\n",
       "      <td>0</td>\n",
       "      <td>0</td>\n",
       "      <td>0</td>\n",
       "      <td>0</td>\n",
       "      <td>218</td>\n",
       "      <td>7</td>\n",
       "      <td>6</td>\n",
       "      <td>0</td>\n",
       "      <td>я так хотеть быстро попробывать сырный суп что...</td>\n",
       "    </tr>\n",
       "  </tbody>\n",
       "</table>\n",
       "</div>"
      ],
      "text/plain": [
       "                                 tdate  ttype  trep  trtw  tfav  tstcount  \\\n",
       "id                                                                          \n",
       "409919406907867136 2013-12-09 05:36:17      1     0     0     0      1918   \n",
       "410869105265491968 2013-12-11 20:30:02      1     0     0     0      6020   \n",
       "410798792842039296 2013-12-11 15:50:39      1     0     0     0     19852   \n",
       "410738861644726272 2013-12-11 11:52:30      1     0     0     0     28123   \n",
       "408910075903082496 2013-12-06 10:45:33      0     0     0     0       218   \n",
       "\n",
       "                    tfol  tfrien  listcount  \\\n",
       "id                                            \n",
       "409919406907867136    27      94          1   \n",
       "410869105265491968   114     189          1   \n",
       "410798792842039296   347     175          7   \n",
       "410738861644726272   287     198          3   \n",
       "408910075903082496     7       6          0   \n",
       "\n",
       "                                                          ttext_clear  \n",
       "id                                                                     \n",
       "409919406907867136       может в сонник заглядывать к что этот чушь\\n  \n",
       "410869105265491968  заканчивать этот день предновогодний озорство ...  \n",
       "410798792842039296      я урупон шея свертывать лента я вы любить с\\n  \n",
       "410738861644726272  посмотреть мой твита за сегодняшний утро если ...  \n",
       "408910075903082496  я так хотеть быстро попробывать сырный суп что...  "
      ]
     },
     "execution_count": 15,
     "metadata": {},
     "output_type": "execute_result"
    }
   ],
   "source": [
    "tweets_df.head(5)"
   ]
  },
  {
   "cell_type": "code",
   "execution_count": 16,
   "metadata": {},
   "outputs": [],
   "source": [
    "scaler_columns = tweets_df.drop(columns=['tdate', 'ttext_clear', 'ttype']).columns.to_list()\n",
    "\n",
    "scaler = StandardScaler()\n",
    "tweets_df.loc[:, scaler_columns] = pd.DataFrame(scaler.fit_transform(tweets_df.loc[:, scaler_columns]), index=tweets_df.index, columns=scaler_columns)"
   ]
  },
  {
   "cell_type": "markdown",
   "metadata": {},
   "source": [
    "Отмасштабировал численные признаки, для приведения к единому масштабу и устранения разброса."
   ]
  },
  {
   "cell_type": "code",
   "execution_count": 17,
   "metadata": {},
   "outputs": [],
   "source": [
    "features = tweets_df.drop(labels=['tdate', 'ttype'], axis=1)\n",
    "target = tweets_df['ttype']"
   ]
  },
  {
   "cell_type": "code",
   "execution_count": 18,
   "metadata": {},
   "outputs": [],
   "source": [
    "features_train, features_test, target_train, target_test = train_test_split(features, target, test_size=0.75, random_state=123456)"
   ]
  },
  {
   "cell_type": "code",
   "execution_count": 19,
   "metadata": {},
   "outputs": [],
   "source": [
    "corpus_train = features_train['ttext_clear'].values.astype('U')\n",
    "corpus_test = features_test['ttext_clear'].values.astype('U')"
   ]
  },
  {
   "cell_type": "code",
   "execution_count": 20,
   "metadata": {},
   "outputs": [
    {
     "name": "stderr",
     "output_type": "stream",
     "text": [
      "[nltk_data] Downloading package stopwords to\n",
      "[nltk_data]     /Users/thelie/nltk_data...\n",
      "[nltk_data]   Package stopwords is already up-to-date!\n"
     ]
    }
   ],
   "source": [
    "nltk.download('stopwords')\n",
    "stopwords = set(nltk_stopwords.words('russian'))\n",
    "\n",
    "count_tf_idf = TfidfVectorizer(stop_words=stopwords)\n",
    "tf_idf_train = count_tf_idf.fit_transform(corpus_train)\n",
    "\n",
    "tf_idf_test = count_tf_idf.transform(corpus_test)"
   ]
  },
  {
   "cell_type": "markdown",
   "metadata": {},
   "source": [
    "Создал матрицу с частотой слов для создания признака для модели."
   ]
  },
  {
   "cell_type": "code",
   "execution_count": 21,
   "metadata": {},
   "outputs": [
    {
     "name": "stderr",
     "output_type": "stream",
     "text": [
      "/Users/thelie/.pyenv/versions/3.8.3/envs/data_science_env/lib/python3.8/site-packages/pandas/core/frame.py:3990: SettingWithCopyWarning: \n",
      "A value is trying to be set on a copy of a slice from a DataFrame\n",
      "\n",
      "See the caveats in the documentation: https://pandas.pydata.org/pandas-docs/stable/user_guide/indexing.html#returning-a-view-versus-a-copy\n",
      "  return super().drop(\n"
     ]
    }
   ],
   "source": [
    "tf_idf_train_df = pd.DataFrame(tf_idf_train.toarray(), index=features_train.index)\n",
    "tf_idf_test_df = pd.DataFrame(tf_idf_test.toarray(), index=features_test.index)\n",
    "\n",
    "features_train.drop(labels='ttext_clear', axis=1, inplace=True)\n",
    "features_test.drop(labels='ttext_clear', axis=1, inplace=True)"
   ]
  },
  {
   "cell_type": "code",
   "execution_count": 22,
   "metadata": {},
   "outputs": [],
   "source": [
    "features_train = features_train.join(tf_idf_train_df)\n",
    "features_test = features_test.join(tf_idf_test_df)"
   ]
  },
  {
   "cell_type": "code",
   "execution_count": 23,
   "metadata": {},
   "outputs": [
    {
     "data": {
      "text/plain": [
       "LogisticRegression(n_jobs=-1, random_state=123456)"
      ]
     },
     "execution_count": 23,
     "metadata": {},
     "output_type": "execute_result"
    }
   ],
   "source": [
    "log_model = LogisticRegression(n_jobs=-1, random_state=123456)\n",
    "\n",
    "# log_f1_score = cross_val_score(log_model, tf_idf_train_df, target, scoring='f1', cv=5, n_jobs=-1)\n",
    "log_model.fit(tf_idf_train_df, target_train)"
   ]
  },
  {
   "cell_type": "code",
   "execution_count": 24,
   "metadata": {},
   "outputs": [
    {
     "name": "stdout",
     "output_type": "stream",
     "text": [
      "LogisticRegression: F1-score=0.678467373976142\n"
     ]
    }
   ],
   "source": [
    "predicted = log_model.predict(tf_idf_test_df)\n",
    "\n",
    "log_model_f1 = f1_score(target_test, predicted)\n",
    "print(f'{type(log_model).__name__}: F1-score={log_model_f1}')"
   ]
  },
  {
   "cell_type": "code",
   "execution_count": 25,
   "metadata": {},
   "outputs": [
    {
     "data": {
      "text/plain": [
       "LogisticRegression(n_jobs=-1, random_state=123456)"
      ]
     },
     "execution_count": 25,
     "metadata": {},
     "output_type": "execute_result"
    }
   ],
   "source": [
    "log_model_2 = LogisticRegression(n_jobs=-1, random_state=123456)\n",
    "\n",
    "# log_f1_score = cross_val_score(log_model, features_train, target, scoring='f1', cv=5, n_jobs=-1)\n",
    "log_model_2.fit(features_train, target_train)"
   ]
  },
  {
   "cell_type": "code",
   "execution_count": 26,
   "metadata": {},
   "outputs": [
    {
     "name": "stdout",
     "output_type": "stream",
     "text": [
      "LogisticRegression: F1-score=0.6786677676851087\n"
     ]
    }
   ],
   "source": [
    "predicted_2 = log_model_2.predict(features_test)\n",
    "\n",
    "log_model_f1_2 = f1_score(target_test, predicted_2)\n",
    "print(f'{type(log_model_2).__name__}: F1-score={log_model_f1_2}')"
   ]
  },
  {
   "cell_type": "code",
   "execution_count": null,
   "metadata": {},
   "outputs": [],
   "source": []
  },
  {
   "cell_type": "code",
   "execution_count": 27,
   "metadata": {},
   "outputs": [],
   "source": [
    "train_pool = Pool(features_train, target_train)\n",
    "test_pool = Pool(features_test, target_test) "
   ]
  },
  {
   "cell_type": "markdown",
   "metadata": {},
   "source": [
    "cat_model = CatBoostClassifier(iterations=100000, early_stopping_rounds=2000, learning_rate=0.05, thread_count=-1, eval_metric='F1', random_state=123456)"
   ]
  },
  {
   "cell_type": "code",
   "execution_count": 29,
   "metadata": {},
   "outputs": [
    {
     "name": "stdout",
     "output_type": "stream",
     "text": [
      "0:\tlearn: 0.6889163\ttest: 0.6734907\tbest: 0.6734907 (0)\ttotal: 94.6ms\tremaining: 2h 37m 42s\n",
      "100:\tlearn: 0.7147067\ttest: 0.6675011\tbest: 0.6756152 (1)\ttotal: 2.4s\tremaining: 39m 31s\n",
      "200:\tlearn: 0.7432088\ttest: 0.6743581\tbest: 0.6756152 (1)\ttotal: 4.67s\tremaining: 38m 36s\n",
      "300:\tlearn: 0.7748547\ttest: 0.6721621\tbest: 0.6772224 (244)\ttotal: 6.94s\tremaining: 38m 20s\n",
      "400:\tlearn: 0.7981366\ttest: 0.6681232\tbest: 0.6772224 (244)\ttotal: 9.24s\tremaining: 38m 14s\n",
      "500:\tlearn: 0.8172789\ttest: 0.6685680\tbest: 0.6772224 (244)\ttotal: 11.5s\tremaining: 38m 8s\n",
      "600:\tlearn: 0.8348406\ttest: 0.6688774\tbest: 0.6772224 (244)\ttotal: 13.8s\tremaining: 38m 5s\n",
      "700:\tlearn: 0.8542167\ttest: 0.6683071\tbest: 0.6772224 (244)\ttotal: 16.1s\tremaining: 38m 3s\n",
      "800:\tlearn: 0.8692990\ttest: 0.6699692\tbest: 0.6772224 (244)\ttotal: 18.5s\tremaining: 38m 9s\n",
      "900:\tlearn: 0.8826960\ttest: 0.6699361\tbest: 0.6772224 (244)\ttotal: 20.8s\tremaining: 38m 6s\n",
      "1000:\tlearn: 0.8937622\ttest: 0.6707580\tbest: 0.6772224 (244)\ttotal: 23.1s\tremaining: 38m 4s\n",
      "1100:\tlearn: 0.9054385\ttest: 0.6699933\tbest: 0.6772224 (244)\ttotal: 25.4s\tremaining: 38m 2s\n",
      "1200:\tlearn: 0.9156982\ttest: 0.6698581\tbest: 0.6772224 (244)\ttotal: 27.8s\tremaining: 38m 4s\n",
      "1300:\tlearn: 0.9241402\ttest: 0.6675962\tbest: 0.6772224 (244)\ttotal: 30.1s\tremaining: 38m 2s\n",
      "1400:\tlearn: 0.9302326\ttest: 0.6664429\tbest: 0.6772224 (244)\ttotal: 32.4s\tremaining: 38m 1s\n",
      "1500:\tlearn: 0.9349620\ttest: 0.6659200\tbest: 0.6772224 (244)\ttotal: 34.8s\tremaining: 38m\n",
      "1600:\tlearn: 0.9415079\ttest: 0.6639762\tbest: 0.6772224 (244)\ttotal: 37.1s\tremaining: 38m\n",
      "1700:\tlearn: 0.9472986\ttest: 0.6625063\tbest: 0.6772224 (244)\ttotal: 39.5s\tremaining: 38m 1s\n",
      "1800:\tlearn: 0.9514660\ttest: 0.6621667\tbest: 0.6772224 (244)\ttotal: 41.9s\tremaining: 38m 5s\n",
      "1900:\tlearn: 0.9551942\ttest: 0.6620534\tbest: 0.6772224 (244)\ttotal: 44.3s\tremaining: 38m 8s\n",
      "2000:\tlearn: 0.9588040\ttest: 0.6615289\tbest: 0.6772224 (244)\ttotal: 46.8s\tremaining: 38m 12s\n",
      "2100:\tlearn: 0.9608790\ttest: 0.6611440\tbest: 0.6772224 (244)\ttotal: 49.4s\tremaining: 38m 19s\n",
      "2200:\tlearn: 0.9653449\ttest: 0.6605391\tbest: 0.6772224 (244)\ttotal: 52.5s\tremaining: 38m 54s\n",
      "Stopped by overfitting detector  (2000 iterations wait)\n",
      "\n",
      "bestTest = 0.6772223947\n",
      "bestIteration = 244\n",
      "\n",
      "Shrink model to first 245 iterations.\n"
     ]
    },
    {
     "data": {
      "text/plain": [
       "<catboost.core.CatBoostClassifier at 0x137dd77c0>"
      ]
     },
     "execution_count": 29,
     "metadata": {},
     "output_type": "execute_result"
    }
   ],
   "source": [
    "cat_model.fit(train_pool, eval_set=test_pool, verbose=100)"
   ]
  },
  {
   "cell_type": "markdown",
   "metadata": {},
   "source": [
    "Для метрики выбрал F1-меру, так как наиболее подходящую для задачи классификации и отражающую полноту и точность модели."
   ]
  },
  {
   "cell_type": "markdown",
   "metadata": {},
   "source": [
    "У обоих моделей низкий результат и не почти отличается друг от друга. Видимо результат больше зависит от способа обработки текста твитов, а не от самой модели классификации.\n",
    "\n",
    "В отдельном ноутбуке результат с применением модели Bert."
   ]
  },
  {
   "cell_type": "code",
   "execution_count": null,
   "metadata": {},
   "outputs": [],
   "source": []
  }
 ],
 "metadata": {
  "colab": {
   "collapsed_sections": [],
   "name": "tweets_analysis.ipynb",
   "provenance": []
  },
  "kernelspec": {
   "display_name": "Python 3",
   "language": "python",
   "name": "python3"
  },
  "language_info": {
   "codemirror_mode": {
    "name": "ipython",
    "version": 3
   },
   "file_extension": ".py",
   "mimetype": "text/x-python",
   "name": "python",
   "nbconvert_exporter": "python",
   "pygments_lexer": "ipython3",
   "version": "3.8.3"
  }
 },
 "nbformat": 4,
 "nbformat_minor": 4
}
