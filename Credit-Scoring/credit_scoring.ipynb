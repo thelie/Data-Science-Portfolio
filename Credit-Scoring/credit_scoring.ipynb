{
 "cells": [
  {
   "cell_type": "markdown",
   "metadata": {},
   "source": [
    "# Исследование надёжности заёмщиков"
   ]
  },
  {
   "cell_type": "code",
   "execution_count": 1,
   "metadata": {},
   "outputs": [],
   "source": [
    "import pandas as pd\n",
    "from pymystem3 import Mystem\n",
    "from collections import Counter"
   ]
  },
  {
   "cell_type": "code",
   "execution_count": 2,
   "metadata": {},
   "outputs": [
    {
     "name": "stdout",
     "output_type": "stream",
     "text": [
      "<class 'pandas.core.frame.DataFrame'>\n",
      "RangeIndex: 21525 entries, 0 to 21524\n",
      "Data columns (total 12 columns):\n",
      " #   Column            Non-Null Count  Dtype  \n",
      "---  ------            --------------  -----  \n",
      " 0   children          21525 non-null  int64  \n",
      " 1   days_employed     19351 non-null  float64\n",
      " 2   dob_years         21525 non-null  int64  \n",
      " 3   education         21525 non-null  object \n",
      " 4   education_id      21525 non-null  int64  \n",
      " 5   family_status     21525 non-null  object \n",
      " 6   family_status_id  21525 non-null  int64  \n",
      " 7   gender            21525 non-null  object \n",
      " 8   income_type       21525 non-null  object \n",
      " 9   debt              21525 non-null  int64  \n",
      " 10  total_income      19351 non-null  float64\n",
      " 11  purpose           21525 non-null  object \n",
      "dtypes: float64(2), int64(5), object(5)\n",
      "memory usage: 2.0+ MB\n"
     ]
    }
   ],
   "source": [
    "data = pd.read_csv('data.csv')"
   ]
  },
  {
   "cell_type": "markdown",
   "metadata": {},
   "source": [
    "## 2. Предобработка данных"
   ]
  },
  {
   "cell_type": "code",
   "execution_count": null,
   "metadata": {},
   "outputs": [],
   "source": [
    "data.info()"
   ]
  },
  {
   "cell_type": "markdown",
   "metadata": {},
   "source": [
    "### Данные о количестве детей заемщика"
   ]
  },
  {
   "cell_type": "code",
   "execution_count": 3,
   "metadata": {},
   "outputs": [
    {
     "data": {
      "text/plain": [
       " 0     14149\n",
       " 1      4818\n",
       " 2      2055\n",
       " 3       330\n",
       " 20       76\n",
       "-1        47\n",
       " 4        41\n",
       " 5         9\n",
       "Name: children, dtype: int64"
      ]
     },
     "execution_count": 3,
     "metadata": {},
     "output_type": "execute_result"
    }
   ],
   "source": [
    "data['children'].value_counts()"
   ]
  },
  {
   "cell_type": "markdown",
   "metadata": {},
   "source": [
    "В данных присутствуют отрицательные значения количества детей у заемщика"
   ]
  },
  {
   "cell_type": "code",
   "execution_count": 4,
   "metadata": {},
   "outputs": [
    {
     "name": "stdout",
     "output_type": "stream",
     "text": [
      "Процент ошибочно заполненных данных о количестве детей: 0.22%\n"
     ]
    }
   ],
   "source": [
    "children_percent = data.loc[data['children'] < 0, 'children'].count() / data.shape[0]\n",
    "print(f'Процент ошибочно заполненных данных о количестве детей: {children_percent:.2%}')"
   ]
  },
  {
   "cell_type": "code",
   "execution_count": 5,
   "metadata": {},
   "outputs": [
    {
     "name": "stdout",
     "output_type": "stream",
     "text": [
      "Процент ошибочно заполненных данных о количестве детей: 0.00%\n"
     ]
    }
   ],
   "source": [
    "median_children = int(data[data['children'] >= 0]['children'].median())\n",
    "data.loc[data['children'] < 0, 'children'] = median_children\n",
    "children_percent = data.loc[data['children'] < 0, 'children'].count() / data.shape[0]\n",
    "print(f'Процент ошибочно заполненных данных о количестве детей: {children_percent:.2%}')"
   ]
  },
  {
   "cell_type": "markdown",
   "metadata": {},
   "source": [
    "**Вывод:** Пропущенные значения о количестве детей отсутствуют, но есть менее 1% некорректно заполненных данных. Наиболее вероятная причина появления таких данных - это ошибка ввода данных оператором.\n",
    "Ошибочные данные о количестве детей заменены значением медианы, на случай изменения среднего значения в будущих наборах данных."
   ]
  },
  {
   "cell_type": "markdown",
   "metadata": {},
   "source": [
    "### Возраст клиента"
   ]
  },
  {
   "cell_type": "code",
   "execution_count": 6,
   "metadata": {},
   "outputs": [
    {
     "name": "stdout",
     "output_type": "stream",
     "text": [
      "Процент не заполненных данных возраста клиента: 0.47%\n"
     ]
    }
   ],
   "source": [
    "dob_years_percent = data[data['dob_years'] == 0]['dob_years'].count() / data.shape[0]\n",
    "print(f'Процент не заполненных данных возраста клиента: {dob_years_percent:.2%}')\n",
    "\n",
    "data.loc[data['dob_years'] == 0, 'dob_years'] = int(data['dob_years'].median())"
   ]
  },
  {
   "cell_type": "markdown",
   "metadata": {},
   "source": [
    "**Вывод:** Некоррентно заполнено менее 1% данных о возрасте клиентов. Наиболее вероятная причина появления таких данных - это ошибка ввода данных оператором.\n",
    "Ошибочные данные о количестве детей заменены значением медианы."
   ]
  },
  {
   "cell_type": "markdown",
   "metadata": {},
   "source": [
    "### Данные об общем трудовом стаже в днях"
   ]
  },
  {
   "cell_type": "code",
   "execution_count": 7,
   "metadata": {},
   "outputs": [
    {
     "name": "stdout",
     "output_type": "stream",
     "text": [
      "Процент отрицательных дней трудового стажа: 73.90%\n",
      "Процент нулевых дней трудового стажа: 0.00%\n",
      "Процент положительный дней трудового стажа: 16.00%\n",
      "Средний трудовой стаж в днях положительных значений: 365213\n"
     ]
    }
   ],
   "source": [
    "negative_days_employed = data.loc[data['days_employed'] < 0, 'days_employed'].count() / data.shape[0]\n",
    "null_days_empolyed = data.loc[data['days_employed'] == 0, 'days_employed'].count() / data.shape[0]\n",
    "positive_days_empolyed = data.loc[data['days_employed'] > 0, 'days_employed'].count() / data.shape[0]\n",
    "\n",
    "print(f'Процент отрицательных дней трудового стажа: {negative_days_employed:.2%}')\n",
    "print(f'Процент нулевых дней трудового стажа: {null_days_empolyed:.2%}')\n",
    "print(f'Процент положительный дней трудового стажа: {positive_days_empolyed:.2%}')\n",
    "\n",
    "mean_positive_days = data.loc[data['days_employed'] > 0, 'days_employed'].median()\n",
    "mean_negative_days = data.loc[data['days_employed'] < 0, 'days_employed'].median()\n",
    "\n",
    "print(f'Средний трудовой стаж в днях положительных значений: {mean_positive_days:.0f}')"
   ]
  },
  {
   "cell_type": "code",
   "execution_count": 8,
   "metadata": {},
   "outputs": [
    {
     "data": {
      "text/plain": [
       "пенсионер      3443\n",
       "безработный       2\n",
       "Name: income_type, dtype: int64"
      ]
     },
     "execution_count": 8,
     "metadata": {},
     "output_type": "execute_result"
    }
   ],
   "source": [
    "data.loc[data['days_employed'] > 0, 'income_type'].value_counts()"
   ]
  },
  {
   "cell_type": "code",
   "execution_count": 9,
   "metadata": {},
   "outputs": [
    {
     "data": {
      "text/plain": [
       "сотрудник          10014\n",
       "компаньон           4577\n",
       "госслужащий         1312\n",
       "предприниматель        1\n",
       "студент                1\n",
       "в декрете              1\n",
       "Name: income_type, dtype: int64"
      ]
     },
     "execution_count": 9,
     "metadata": {},
     "output_type": "execute_result"
    }
   ],
   "source": [
    "data.loc[data['days_employed'] < 0, 'income_type'].value_counts()"
   ]
  },
  {
   "cell_type": "code",
   "execution_count": 10,
   "metadata": {},
   "outputs": [],
   "source": [
    "data.loc[data['days_employed'] < 0, 'days_employed'] = data.loc[data['days_employed'] < 0, 'days_employed'].abs()\n",
    "data.loc[data['days_employed'] > 0, 'days_employed'] = 0"
   ]
  },
  {
   "cell_type": "markdown",
   "metadata": {},
   "source": [
    "**Вывод:** Положительные значения данных трудового стажа имеют слишком большое значение. Средний трудовой стаж в днях положительных значений 365213 дней. Так же данные принадлежат пенсионерам и безработным, следовательно не имеют значения в данном исследовании и могут быть обнулены. Пропущенные значения \n",
    "\n",
    "Большая часть значений имеет отрицательное число, что указывает на возможную ошибку в обработке данных. Но абсолютное значение пригодно для обработки."
   ]
  },
  {
   "cell_type": "markdown",
   "metadata": {},
   "source": [
    "### Данные семейного статуса и образования"
   ]
  },
  {
   "cell_type": "code",
   "execution_count": 11,
   "metadata": {},
   "outputs": [],
   "source": [
    "data['family_status'] = data['family_status'].str.lower()\n",
    "data['education'] = data['education'].str.lower()\n",
    "data['gender'] = data['gender'].str.lower()"
   ]
  },
  {
   "cell_type": "code",
   "execution_count": 12,
   "metadata": {},
   "outputs": [],
   "source": [
    "data.loc[(data['gender'] != 'f')& (data['gender'] != 'm'),'gender'] = 'non-bin'"
   ]
  },
  {
   "cell_type": "markdown",
   "metadata": {},
   "source": [
    "Данные семейного положнния, образования и пола переведены в нижний регистр для приведения к единому виду. Обнаружил клиента неопределенного пола, изменил значение 'XNA' на более общепринятое. "
   ]
  },
  {
   "cell_type": "markdown",
   "metadata": {},
   "source": [
    "### Замена вещественного на целочисленный тип"
   ]
  },
  {
   "cell_type": "code",
   "execution_count": 13,
   "metadata": {},
   "outputs": [],
   "source": [
    "def convert_to_int(x):\n",
    "    try:\n",
    "        return int(x)\n",
    "    except:\n",
    "        return 0\n",
    "    \n",
    "data['days_employed'] = data['days_employed'].apply(convert_to_int)\n",
    "data['total_income'] = data['total_income'].apply(convert_to_int)"
   ]
  },
  {
   "cell_type": "code",
   "execution_count": 14,
   "metadata": {},
   "outputs": [
    {
     "name": "stdout",
     "output_type": "stream",
     "text": [
      "<class 'pandas.core.frame.DataFrame'>\n",
      "RangeIndex: 21525 entries, 0 to 21524\n",
      "Data columns (total 12 columns):\n",
      " #   Column            Non-Null Count  Dtype \n",
      "---  ------            --------------  ----- \n",
      " 0   children          21525 non-null  int64 \n",
      " 1   days_employed     21525 non-null  int64 \n",
      " 2   dob_years         21525 non-null  int64 \n",
      " 3   education         21525 non-null  object\n",
      " 4   education_id      21525 non-null  int64 \n",
      " 5   family_status     21525 non-null  object\n",
      " 6   family_status_id  21525 non-null  int64 \n",
      " 7   gender            21525 non-null  object\n",
      " 8   income_type       21525 non-null  object\n",
      " 9   debt              21525 non-null  int64 \n",
      " 10  total_income      21525 non-null  int64 \n",
      " 11  purpose           21525 non-null  object\n",
      "dtypes: int64(7), object(5)\n",
      "memory usage: 2.0+ MB\n"
     ]
    }
   ],
   "source": [
    "data.info()"
   ]
  },
  {
   "cell_type": "markdown",
   "metadata": {},
   "source": [
    "### Замена целочисленного типа на логический в задолженности клиента"
   ]
  },
  {
   "cell_type": "code",
   "execution_count": 15,
   "metadata": {},
   "outputs": [],
   "source": [
    "data['debt'] = data['debt'].astype('bool')"
   ]
  },
  {
   "cell_type": "markdown",
   "metadata": {},
   "source": [
    "При изменение типа данных, некорректные строки заменены нулевыми значениям"
   ]
  },
  {
   "cell_type": "markdown",
   "metadata": {},
   "source": [
    "### Удаление дубликатов данных"
   ]
  },
  {
   "cell_type": "code",
   "execution_count": 16,
   "metadata": {},
   "outputs": [],
   "source": [
    "data = data.drop_duplicates().reset_index(drop = True)"
   ]
  },
  {
   "cell_type": "markdown",
   "metadata": {},
   "source": [
    "Предполагаю что дубликаты появились из-за того что в изначальной базе данны были личные данные заемщиков. В исследовании они не являются необходими данными."
   ]
  },
  {
   "cell_type": "markdown",
   "metadata": {},
   "source": [
    "### Леммизация целей получения кредита"
   ]
  },
  {
   "cell_type": "code",
   "execution_count": 17,
   "metadata": {},
   "outputs": [
    {
     "data": {
      "text/plain": [
       "array(['покупка жилья', 'приобретение автомобиля',\n",
       "       'дополнительное образование', 'сыграть свадьбу',\n",
       "       'операции с жильем', 'образование', 'на проведение свадьбы',\n",
       "       'покупка жилья для семьи', 'покупка недвижимости',\n",
       "       'покупка коммерческой недвижимости', 'покупка жилой недвижимости',\n",
       "       'строительство собственной недвижимости', 'недвижимость',\n",
       "       'строительство недвижимости', 'на покупку подержанного автомобиля',\n",
       "       'на покупку своего автомобиля',\n",
       "       'операции с коммерческой недвижимостью',\n",
       "       'строительство жилой недвижимости', 'жилье',\n",
       "       'операции со своей недвижимостью', 'автомобили',\n",
       "       'заняться образованием', 'сделка с подержанным автомобилем',\n",
       "       'получение образования', 'автомобиль', 'свадьба',\n",
       "       'получение дополнительного образования', 'покупка своего жилья',\n",
       "       'операции с недвижимостью', 'получение высшего образования',\n",
       "       'свой автомобиль', 'сделка с автомобилем',\n",
       "       'профильное образование', 'высшее образование',\n",
       "       'покупка жилья для сдачи', 'на покупку автомобиля', 'ремонт жилью',\n",
       "       'заняться высшим образованием'], dtype=object)"
      ]
     },
     "execution_count": 17,
     "metadata": {},
     "output_type": "execute_result"
    }
   ],
   "source": [
    "data['purpose'].unique()"
   ]
  },
  {
   "cell_type": "code",
   "execution_count": 18,
   "metadata": {},
   "outputs": [],
   "source": [
    "m = Mystem()\n",
    "\n",
    "def lemmatize_purpose(row):\n",
    "    lemma = m.lemmatize(row)\n",
    "        \n",
    "    if 'жилье' in lemma or 'недвижимость' in lemma:\n",
    "        return 'ипотека'\n",
    "    elif 'автомобиль' in lemma:\n",
    "        return 'автокредит'\n",
    "    elif 'образование' in lemma:\n",
    "        return 'кредит на образование'\n",
    "    elif 'свадьба' in lemma:\n",
    "        return 'кредит на свадьбу'        \n",
    "    else:\n",
    "        return 'потребительский'\n",
    "\n",
    "purpose_dict = pd.DataFrame([], columns=['purpose_id', 'purpose_type'])   \n",
    "purpose_dict['purpose_type'] = data['purpose'].apply(lemmatize_purpose)\n",
    "purpose_dict = purpose_dict.drop_duplicates().reset_index(drop=True)\n",
    "purpose_dict['purpose_id'] = purpose_dict.index"
   ]
  },
  {
   "cell_type": "code",
   "execution_count": 19,
   "metadata": {},
   "outputs": [],
   "source": [
    "def purpose_id(row):\n",
    "    return int(purpose_dict[purpose_dict['purpose_type'] == row]['purpose_id'])\n",
    "\n",
    "data['purpose_type'] = data['purpose'].apply(lemmatize_purpose)\n",
    "data['purpose_id'] = data['purpose_type'].apply(purpose_id)"
   ]
  },
  {
   "cell_type": "markdown",
   "metadata": {},
   "source": [
    "### Категоризация данных"
   ]
  },
  {
   "cell_type": "code",
   "execution_count": 20,
   "metadata": {},
   "outputs": [
    {
     "name": "stdout",
     "output_type": "stream",
     "text": [
      "             education  education_id\n",
      "0              среднее             1\n",
      "1               высшее             0\n",
      "2  неоконченное высшее             2\n",
      "3            начальное             3\n",
      "4       ученая степень             4\n"
     ]
    }
   ],
   "source": [
    "education_dict = pd.DataFrame(data={'education': data['education'].value_counts().keys().tolist(), 'education_id': data['education_id'].value_counts().keys().tolist()})\n",
    "print(education_dict)"
   ]
  },
  {
   "cell_type": "markdown",
   "metadata": {},
   "source": [
    "Определил словарь классификации уровня образования для исследования зависимости образования и возврата кредита."
   ]
  },
  {
   "cell_type": "code",
   "execution_count": 21,
   "metadata": {},
   "outputs": [
    {
     "name": "stdout",
     "output_type": "stream",
     "text": [
      "           family_status  family_status_id\n",
      "0        женат / замужем                 0\n",
      "1       гражданский брак                 1\n",
      "2  не женат / не замужем                 4\n",
      "3              в разводе                 3\n",
      "4         вдовец / вдова                 2\n"
     ]
    }
   ],
   "source": [
    "family_dict = pd.DataFrame(data={'family_status': data['family_status'].value_counts().keys().tolist(), 'family_status_id': data['family_status_id'].value_counts().keys().tolist()})\n",
    "print(family_dict)"
   ]
  },
  {
   "cell_type": "markdown",
   "metadata": {},
   "source": [
    "Определил словарь классификации семейного положения для исследования зависимости семейного статуса и возврата кредита."
   ]
  },
  {
   "cell_type": "code",
   "execution_count": 22,
   "metadata": {},
   "outputs": [],
   "source": [
    "def children_group(children_count):\n",
    "    if children_count < 1:\n",
    "        return 'нет детей'\n",
    "    elif children_count == 1:\n",
    "        return 'один ребенок'\n",
    "    elif 1 < children_count < 3:\n",
    "        return 'среднее количество детей'\n",
    "    else:\n",
    "        return 'много детей'\n",
    "    \n",
    "children_dict = pd.DataFrame([], columns=['children_id', 'children_group'])    \n",
    "children_dict['children_group'] = data['children'].apply(children_group)\n",
    "children_dict = children_dict.drop_duplicates().reset_index(drop=True)\n",
    "children_dict['children_id'] = children_dict.index"
   ]
  },
  {
   "cell_type": "code",
   "execution_count": 23,
   "metadata": {},
   "outputs": [
    {
     "data": {
      "text/html": [
       "<div>\n",
       "<style scoped>\n",
       "    .dataframe tbody tr th:only-of-type {\n",
       "        vertical-align: middle;\n",
       "    }\n",
       "\n",
       "    .dataframe tbody tr th {\n",
       "        vertical-align: top;\n",
       "    }\n",
       "\n",
       "    .dataframe thead th {\n",
       "        text-align: right;\n",
       "    }\n",
       "</style>\n",
       "<table border=\"1\" class=\"dataframe\">\n",
       "  <thead>\n",
       "    <tr style=\"text-align: right;\">\n",
       "      <th></th>\n",
       "      <th>children_id</th>\n",
       "      <th>children_group</th>\n",
       "    </tr>\n",
       "  </thead>\n",
       "  <tbody>\n",
       "    <tr>\n",
       "      <th>0</th>\n",
       "      <td>0</td>\n",
       "      <td>один ребенок</td>\n",
       "    </tr>\n",
       "    <tr>\n",
       "      <th>1</th>\n",
       "      <td>1</td>\n",
       "      <td>нет детей</td>\n",
       "    </tr>\n",
       "    <tr>\n",
       "      <th>2</th>\n",
       "      <td>2</td>\n",
       "      <td>много детей</td>\n",
       "    </tr>\n",
       "    <tr>\n",
       "      <th>3</th>\n",
       "      <td>3</td>\n",
       "      <td>среднее количество детей</td>\n",
       "    </tr>\n",
       "  </tbody>\n",
       "</table>\n",
       "</div>"
      ],
      "text/plain": [
       "   children_id            children_group\n",
       "0            0              один ребенок\n",
       "1            1                 нет детей\n",
       "2            2               много детей\n",
       "3            3  среднее количество детей"
      ]
     },
     "execution_count": 23,
     "metadata": {},
     "output_type": "execute_result"
    }
   ],
   "source": [
    "children_dict"
   ]
  },
  {
   "cell_type": "code",
   "execution_count": 24,
   "metadata": {},
   "outputs": [],
   "source": [
    "def children_id(row):\n",
    "    return int(children_dict[children_dict['children_group'] == row]['children_id'])\n",
    "\n",
    "data.insert(1, 'children_id', None)\n",
    "data.insert(2, 'children_group', None)\n",
    "\n",
    "data['children_group'] = data['children'].apply(children_group)\n",
    "data['children_id'] = data['children_group'].apply(children_id)"
   ]
  },
  {
   "cell_type": "markdown",
   "metadata": {},
   "source": [
    "Определил словарь классификации количества детей для исследования зависимости наличия детей и возврата кредита. "
   ]
  },
  {
   "cell_type": "code",
   "execution_count": 25,
   "metadata": {},
   "outputs": [],
   "source": [
    "def total_income_dict(income):\n",
    "    if income <= 12000:\n",
    "        return 'низкий уровень'\n",
    "    elif 12000 < income <= 35000:\n",
    "        return 'ниже среднего'\n",
    "    elif 35000 < income <= 50000:\n",
    "        return 'средний уровень'\n",
    "    elif 50000 < income <= 100000:\n",
    "        return 'выше среднего'\n",
    "    else:\n",
    "        return 'высокий уровень'\n",
    "    \n",
    "\n",
    "income_dict = pd.DataFrame([], columns=['total_income_id', 'total_income_group'])    \n",
    "income_dict['total_income_group'] = data['total_income'].apply(total_income_dict)\n",
    "income_dict = income_dict.drop_duplicates().reset_index(drop=True)\n",
    "income_dict['total_income_id'] = income_dict.index"
   ]
  },
  {
   "cell_type": "code",
   "execution_count": 27,
   "metadata": {},
   "outputs": [],
   "source": [
    "data.insert(13, 'total_income_id', None)\n",
    "data.insert(12, 'total_income_group', None)\n",
    "\n",
    "data['total_income_group'] = data['total_income'].apply(total_income_dict)"
   ]
  },
  {
   "cell_type": "code",
   "execution_count": 28,
   "metadata": {},
   "outputs": [],
   "source": [
    "def total_income_id(row):\n",
    "    return int(income_dict[income_dict['total_income_group'] == row]['total_income_id'])\n",
    "\n",
    "data['total_income_id'] = data['total_income_group'].apply(total_income_id)"
   ]
  },
  {
   "cell_type": "markdown",
   "metadata": {},
   "source": [
    "Определил словарь классификации уровня дохода для исследования зависимости уровня дохода и возврата кредита. "
   ]
  },
  {
   "cell_type": "markdown",
   "metadata": {},
   "source": [
    "## 3. Ответ на вопросы"
   ]
  },
  {
   "cell_type": "markdown",
   "metadata": {},
   "source": [
    "### Есть ли зависимость между наличием детей и возвратом кредита в срок? "
   ]
  },
  {
   "cell_type": "code",
   "execution_count": 30,
   "metadata": {},
   "outputs": [
    {
     "name": "stdout",
     "output_type": "stream",
     "text": [
      "debt                      False  True  children_ratio\n",
      "children_group                                       \n",
      "нет детей                 13073  1064        0.075263\n",
      "много детей                 417    39        0.085526\n",
      "один ребенок               4364   444        0.092346\n",
      "среднее количество детей   1858   194        0.094542\n"
     ]
    }
   ],
   "source": [
    "children_pivot = data.pivot_table(index=['children_group'], columns='debt', values='children_id', aggfunc='count')\n",
    "children_pivot['children_ratio'] = children_pivot[True] / (children_pivot[False] + children_pivot[True])\n",
    "print(children_pivot.sort_values(by='children_ratio'))"
   ]
  },
  {
   "cell_type": "markdown",
   "metadata": {},
   "source": [
    "**Вывод:** Наибольший процент возрата по кредиту среди бездетных клиентов. На втором месте многодетные клиенты. У бездетных клиентов меньше расходов на детей, многодетным выплачиваются пособия."
   ]
  },
  {
   "cell_type": "markdown",
   "metadata": {},
   "source": [
    "### Есть ли зависимость между семейным положением и возвратом кредита в срок?"
   ]
  },
  {
   "cell_type": "code",
   "execution_count": 31,
   "metadata": {},
   "outputs": [
    {
     "name": "stdout",
     "output_type": "stream",
     "text": [
      "debt                   False  True  family_ratio\n",
      "family_status                                   \n",
      "вдовец / вдова           896    63      0.065693\n",
      "в разводе               1110    85      0.071130\n",
      "женат / замужем        11408   931      0.075452\n",
      "гражданский брак        3762   388      0.093494\n",
      "не женат / не замужем   2536   274      0.097509\n"
     ]
    }
   ],
   "source": [
    "family_pivot = data.pivot_table(index=['family_status'], columns='debt', values='family_status_id', aggfunc='count')\n",
    "family_pivot['family_ratio'] = family_pivot[True] / (family_pivot[False] + family_pivot[True])\n",
    "print(family_pivot.sort_values(by='family_ratio'))"
   ]
  },
  {
   "cell_type": "markdown",
   "metadata": {},
   "source": [
    "**Вывод:** Наибольший процент возрата по кредиту среди вдов. На втором месте разведенные клиенты."
   ]
  },
  {
   "cell_type": "markdown",
   "metadata": {},
   "source": [
    "### Есть ли зависимость между уровнем дохода и возвратом кредита в срок?"
   ]
  },
  {
   "cell_type": "code",
   "execution_count": 32,
   "metadata": {},
   "outputs": [
    {
     "name": "stdout",
     "output_type": "stream",
     "text": [
      "debt                False  True  total_income_ratio\n",
      "total_income_group                                 \n",
      "ниже среднего          66     3            0.043478\n",
      "средний уровень       283    20            0.066007\n",
      "низкий уровень       1932   170            0.080875\n",
      "выше среднего        3760   331            0.080909\n",
      "высокий уровень     13671  1217            0.081744\n"
     ]
    }
   ],
   "source": [
    "total_income_pivot = data.pivot_table(index=['total_income_group'], columns='debt', values='total_income_id', aggfunc='count')\n",
    "total_income_pivot['total_income_ratio'] = total_income_pivot[True] / (total_income_pivot[True] + total_income_pivot[False])\n",
    "print(total_income_pivot.sort_values(by='total_income_ratio'))"
   ]
  },
  {
   "cell_type": "markdown",
   "metadata": {},
   "source": [
    "**Вывод:** Наибольший процент возрата по кредиту у клиентов с доходом ниже среднего. Возможная причина в том что либо указан официальный доход, либо были использованы льготные условия для кредита"
   ]
  },
  {
   "cell_type": "markdown",
   "metadata": {},
   "source": [
    "### Как разные цели кредита влияют на его возврат в срок?"
   ]
  },
  {
   "cell_type": "code",
   "execution_count": 37,
   "metadata": {},
   "outputs": [
    {
     "name": "stdout",
     "output_type": "stream",
     "text": [
      "debt                   False  True  purpose_ratio\n",
      "purpose_type                                     \n",
      "ипотека                10029   782       0.072334\n",
      "кредит на свадьбу       2137   186       0.080069\n",
      "кредит на образование   3643   370       0.092200\n",
      "автокредит              3903   403       0.093590\n"
     ]
    }
   ],
   "source": [
    "purpose_pivot = data.pivot_table(index=['purpose_type'], columns='debt', values='purpose_id', aggfunc='count')\n",
    "purpose_pivot['purpose_ratio'] = purpose_pivot[True] / (purpose_pivot[True] + purpose_pivot[False])\n",
    "print(purpose_pivot.sort_values(by='purpose_ratio'))"
   ]
  },
  {
   "cell_type": "markdown",
   "metadata": {},
   "source": [
    "**Вывод:** Наиболее надежные клиенты среди тех кто берет ипотеку и кредит на свадьбу. Предполагаю что к ипотеке клиенты более подходят ответственно и ипотечные кредиты имеют более длительный срок. На втором месте кредиты на свадьбу, очевидно что выплачивать кредит проще не одному."
   ]
  },
  {
   "cell_type": "markdown",
   "metadata": {},
   "source": [
    "## 4. Вывод"
   ]
  },
  {
   "cell_type": "markdown",
   "metadata": {},
   "source": [
    "В процессе предобработки данных выявлена аномалии в данных трудового стажа (отрицательные и слишком большие значения). Чтобы можно было их использовать в анализе нужно выяснить их причину. \\\n",
    "Так же определен количества детей, семейного положения, уровня дохода и целей кредита на возврат его в срок."
   ]
  }
 ],
 "metadata": {
  "kernelspec": {
   "display_name": "Python 3",
   "language": "python",
   "name": "python3"
  },
  "language_info": {
   "codemirror_mode": {
    "name": "ipython",
    "version": 3
   },
   "file_extension": ".py",
   "mimetype": "text/x-python",
   "name": "python",
   "nbconvert_exporter": "python",
   "pygments_lexer": "ipython3",
   "version": "3.8.3"
  }
 },
 "nbformat": 4,
 "nbformat_minor": 4
}
