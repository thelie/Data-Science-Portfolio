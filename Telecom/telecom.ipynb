{
 "cells": [
  {
   "cell_type": "markdown",
   "metadata": {
    "colab_type": "text",
    "id": "gwsEzzRm3WnG",
    "pycharm": {
     "name": "#%% md\n"
    }
   },
   "source": [
    "# Определение перспективного тарифа для телеком компании\n",
    "\n",
    "## 1. Общая информация"
   ]
  },
  {
   "cell_type": "code",
   "execution_count": 1,
   "metadata": {
    "colab": {},
    "colab_type": "code",
    "collapsed": false,
    "id": "u6SnNFpl3WnI",
    "jupyter": {
     "outputs_hidden": false
    },
    "pycharm": {
     "name": "#%%\n"
    }
   },
   "outputs": [],
   "source": [
    "from scipy import stats as st\n",
    "import pandas as pd\n",
    "import numpy as np \n",
    "import matplotlib.pyplot as plt\n",
    "import math"
   ]
  },
  {
   "cell_type": "code",
   "execution_count": 2,
   "metadata": {
    "colab": {},
    "colab_type": "code",
    "collapsed": false,
    "id": "T3y09t0e3WnO",
    "jupyter": {
     "outputs_hidden": false
    },
    "pycharm": {
     "name": "#%%\n"
    }
   },
   "outputs": [],
   "source": [
    "users_data = pd.read_csv('/datasets/users.csv')\n",
    "calls_data = pd.read_csv('/datasets/calls.csv')\n",
    "internet_data = pd.read_csv('/datasets/internet.csv')\n",
    "messages_data = pd.read_csv('/datasets/messages.csv')\n",
    "tariffs_data = pd.read_csv('/datasets/tariffs.csv')"
   ]
  },
  {
   "cell_type": "code",
   "execution_count": 3,
   "metadata": {
    "colab": {},
    "colab_type": "code",
    "id": "kgkKgCaI3WnT"
   },
   "outputs": [
    {
     "name": "stdout",
     "output_type": "stream",
     "text": [
      "<class 'pandas.core.frame.DataFrame'>\n",
      "RangeIndex: 500 entries, 0 to 499\n",
      "Data columns (total 8 columns):\n",
      "user_id       500 non-null int64\n",
      "age           500 non-null int64\n",
      "churn_date    38 non-null object\n",
      "city          500 non-null object\n",
      "first_name    500 non-null object\n",
      "last_name     500 non-null object\n",
      "reg_date      500 non-null object\n",
      "tariff        500 non-null object\n",
      "dtypes: int64(2), object(6)\n",
      "memory usage: 31.4+ KB\n"
     ]
    },
    {
     "data": {
      "text/html": [
       "<div>\n",
       "<style scoped>\n",
       "    .dataframe tbody tr th:only-of-type {\n",
       "        vertical-align: middle;\n",
       "    }\n",
       "\n",
       "    .dataframe tbody tr th {\n",
       "        vertical-align: top;\n",
       "    }\n",
       "\n",
       "    .dataframe thead th {\n",
       "        text-align: right;\n",
       "    }\n",
       "</style>\n",
       "<table border=\"1\" class=\"dataframe\">\n",
       "  <thead>\n",
       "    <tr style=\"text-align: right;\">\n",
       "      <th></th>\n",
       "      <th>user_id</th>\n",
       "      <th>age</th>\n",
       "      <th>churn_date</th>\n",
       "      <th>city</th>\n",
       "      <th>first_name</th>\n",
       "      <th>last_name</th>\n",
       "      <th>reg_date</th>\n",
       "      <th>tariff</th>\n",
       "    </tr>\n",
       "  </thead>\n",
       "  <tbody>\n",
       "    <tr>\n",
       "      <td>0</td>\n",
       "      <td>1000</td>\n",
       "      <td>52</td>\n",
       "      <td>NaN</td>\n",
       "      <td>Краснодар</td>\n",
       "      <td>Рафаил</td>\n",
       "      <td>Верещагин</td>\n",
       "      <td>2018-05-25</td>\n",
       "      <td>ultra</td>\n",
       "    </tr>\n",
       "    <tr>\n",
       "      <td>1</td>\n",
       "      <td>1001</td>\n",
       "      <td>41</td>\n",
       "      <td>NaN</td>\n",
       "      <td>Москва</td>\n",
       "      <td>Иван</td>\n",
       "      <td>Ежов</td>\n",
       "      <td>2018-11-01</td>\n",
       "      <td>smart</td>\n",
       "    </tr>\n",
       "    <tr>\n",
       "      <td>2</td>\n",
       "      <td>1002</td>\n",
       "      <td>59</td>\n",
       "      <td>NaN</td>\n",
       "      <td>Стерлитамак</td>\n",
       "      <td>Евгений</td>\n",
       "      <td>Абрамович</td>\n",
       "      <td>2018-06-17</td>\n",
       "      <td>smart</td>\n",
       "    </tr>\n",
       "    <tr>\n",
       "      <td>3</td>\n",
       "      <td>1003</td>\n",
       "      <td>23</td>\n",
       "      <td>NaN</td>\n",
       "      <td>Москва</td>\n",
       "      <td>Белла</td>\n",
       "      <td>Белякова</td>\n",
       "      <td>2018-08-17</td>\n",
       "      <td>ultra</td>\n",
       "    </tr>\n",
       "    <tr>\n",
       "      <td>4</td>\n",
       "      <td>1004</td>\n",
       "      <td>68</td>\n",
       "      <td>NaN</td>\n",
       "      <td>Новокузнецк</td>\n",
       "      <td>Татьяна</td>\n",
       "      <td>Авдеенко</td>\n",
       "      <td>2018-05-14</td>\n",
       "      <td>ultra</td>\n",
       "    </tr>\n",
       "  </tbody>\n",
       "</table>\n",
       "</div>"
      ],
      "text/plain": [
       "   user_id  age churn_date         city first_name  last_name    reg_date  \\\n",
       "0     1000   52        NaN    Краснодар     Рафаил  Верещагин  2018-05-25   \n",
       "1     1001   41        NaN       Москва       Иван       Ежов  2018-11-01   \n",
       "2     1002   59        NaN  Стерлитамак    Евгений  Абрамович  2018-06-17   \n",
       "3     1003   23        NaN       Москва      Белла   Белякова  2018-08-17   \n",
       "4     1004   68        NaN  Новокузнецк    Татьяна   Авдеенко  2018-05-14   \n",
       "\n",
       "  tariff  \n",
       "0  ultra  \n",
       "1  smart  \n",
       "2  smart  \n",
       "3  ultra  \n",
       "4  ultra  "
      ]
     },
     "execution_count": 3,
     "metadata": {},
     "output_type": "execute_result"
    }
   ],
   "source": [
    "users_data.info()\n",
    "users_data.head(5)"
   ]
  },
  {
   "cell_type": "code",
   "execution_count": 4,
   "metadata": {},
   "outputs": [
    {
     "name": "stdout",
     "output_type": "stream",
     "text": [
      "<class 'pandas.core.frame.DataFrame'>\n",
      "RangeIndex: 202607 entries, 0 to 202606\n",
      "Data columns (total 4 columns):\n",
      "id           202607 non-null object\n",
      "call_date    202607 non-null object\n",
      "duration     202607 non-null float64\n",
      "user_id      202607 non-null int64\n",
      "dtypes: float64(1), int64(1), object(2)\n",
      "memory usage: 6.2+ MB\n"
     ]
    },
    {
     "data": {
      "text/html": [
       "<div>\n",
       "<style scoped>\n",
       "    .dataframe tbody tr th:only-of-type {\n",
       "        vertical-align: middle;\n",
       "    }\n",
       "\n",
       "    .dataframe tbody tr th {\n",
       "        vertical-align: top;\n",
       "    }\n",
       "\n",
       "    .dataframe thead th {\n",
       "        text-align: right;\n",
       "    }\n",
       "</style>\n",
       "<table border=\"1\" class=\"dataframe\">\n",
       "  <thead>\n",
       "    <tr style=\"text-align: right;\">\n",
       "      <th></th>\n",
       "      <th>id</th>\n",
       "      <th>call_date</th>\n",
       "      <th>duration</th>\n",
       "      <th>user_id</th>\n",
       "    </tr>\n",
       "  </thead>\n",
       "  <tbody>\n",
       "    <tr>\n",
       "      <td>0</td>\n",
       "      <td>1000_0</td>\n",
       "      <td>2018-07-25</td>\n",
       "      <td>0.00</td>\n",
       "      <td>1000</td>\n",
       "    </tr>\n",
       "    <tr>\n",
       "      <td>1</td>\n",
       "      <td>1000_1</td>\n",
       "      <td>2018-08-17</td>\n",
       "      <td>0.00</td>\n",
       "      <td>1000</td>\n",
       "    </tr>\n",
       "    <tr>\n",
       "      <td>2</td>\n",
       "      <td>1000_2</td>\n",
       "      <td>2018-06-11</td>\n",
       "      <td>2.85</td>\n",
       "      <td>1000</td>\n",
       "    </tr>\n",
       "    <tr>\n",
       "      <td>3</td>\n",
       "      <td>1000_3</td>\n",
       "      <td>2018-09-21</td>\n",
       "      <td>13.80</td>\n",
       "      <td>1000</td>\n",
       "    </tr>\n",
       "    <tr>\n",
       "      <td>4</td>\n",
       "      <td>1000_4</td>\n",
       "      <td>2018-12-15</td>\n",
       "      <td>5.18</td>\n",
       "      <td>1000</td>\n",
       "    </tr>\n",
       "  </tbody>\n",
       "</table>\n",
       "</div>"
      ],
      "text/plain": [
       "       id   call_date  duration  user_id\n",
       "0  1000_0  2018-07-25      0.00     1000\n",
       "1  1000_1  2018-08-17      0.00     1000\n",
       "2  1000_2  2018-06-11      2.85     1000\n",
       "3  1000_3  2018-09-21     13.80     1000\n",
       "4  1000_4  2018-12-15      5.18     1000"
      ]
     },
     "execution_count": 4,
     "metadata": {},
     "output_type": "execute_result"
    }
   ],
   "source": [
    "calls_data.info()\n",
    "calls_data.head(5)"
   ]
  },
  {
   "cell_type": "code",
   "execution_count": 5,
   "metadata": {},
   "outputs": [
    {
     "name": "stdout",
     "output_type": "stream",
     "text": [
      "<class 'pandas.core.frame.DataFrame'>\n",
      "RangeIndex: 149396 entries, 0 to 149395\n",
      "Data columns (total 5 columns):\n",
      "Unnamed: 0      149396 non-null int64\n",
      "id              149396 non-null object\n",
      "mb_used         149396 non-null float64\n",
      "session_date    149396 non-null object\n",
      "user_id         149396 non-null int64\n",
      "dtypes: float64(1), int64(2), object(2)\n",
      "memory usage: 5.7+ MB\n"
     ]
    },
    {
     "data": {
      "text/html": [
       "<div>\n",
       "<style scoped>\n",
       "    .dataframe tbody tr th:only-of-type {\n",
       "        vertical-align: middle;\n",
       "    }\n",
       "\n",
       "    .dataframe tbody tr th {\n",
       "        vertical-align: top;\n",
       "    }\n",
       "\n",
       "    .dataframe thead th {\n",
       "        text-align: right;\n",
       "    }\n",
       "</style>\n",
       "<table border=\"1\" class=\"dataframe\">\n",
       "  <thead>\n",
       "    <tr style=\"text-align: right;\">\n",
       "      <th></th>\n",
       "      <th>Unnamed: 0</th>\n",
       "      <th>id</th>\n",
       "      <th>mb_used</th>\n",
       "      <th>session_date</th>\n",
       "      <th>user_id</th>\n",
       "    </tr>\n",
       "  </thead>\n",
       "  <tbody>\n",
       "    <tr>\n",
       "      <td>0</td>\n",
       "      <td>0</td>\n",
       "      <td>1000_0</td>\n",
       "      <td>112.95</td>\n",
       "      <td>2018-11-25</td>\n",
       "      <td>1000</td>\n",
       "    </tr>\n",
       "    <tr>\n",
       "      <td>1</td>\n",
       "      <td>1</td>\n",
       "      <td>1000_1</td>\n",
       "      <td>1052.81</td>\n",
       "      <td>2018-09-07</td>\n",
       "      <td>1000</td>\n",
       "    </tr>\n",
       "    <tr>\n",
       "      <td>2</td>\n",
       "      <td>2</td>\n",
       "      <td>1000_2</td>\n",
       "      <td>1197.26</td>\n",
       "      <td>2018-06-25</td>\n",
       "      <td>1000</td>\n",
       "    </tr>\n",
       "    <tr>\n",
       "      <td>3</td>\n",
       "      <td>3</td>\n",
       "      <td>1000_3</td>\n",
       "      <td>550.27</td>\n",
       "      <td>2018-08-22</td>\n",
       "      <td>1000</td>\n",
       "    </tr>\n",
       "    <tr>\n",
       "      <td>4</td>\n",
       "      <td>4</td>\n",
       "      <td>1000_4</td>\n",
       "      <td>302.56</td>\n",
       "      <td>2018-09-24</td>\n",
       "      <td>1000</td>\n",
       "    </tr>\n",
       "  </tbody>\n",
       "</table>\n",
       "</div>"
      ],
      "text/plain": [
       "   Unnamed: 0      id  mb_used session_date  user_id\n",
       "0           0  1000_0   112.95   2018-11-25     1000\n",
       "1           1  1000_1  1052.81   2018-09-07     1000\n",
       "2           2  1000_2  1197.26   2018-06-25     1000\n",
       "3           3  1000_3   550.27   2018-08-22     1000\n",
       "4           4  1000_4   302.56   2018-09-24     1000"
      ]
     },
     "execution_count": 5,
     "metadata": {},
     "output_type": "execute_result"
    }
   ],
   "source": [
    "internet_data.info()\n",
    "internet_data.head(5)"
   ]
  },
  {
   "cell_type": "code",
   "execution_count": 6,
   "metadata": {},
   "outputs": [
    {
     "name": "stdout",
     "output_type": "stream",
     "text": [
      "<class 'pandas.core.frame.DataFrame'>\n",
      "RangeIndex: 123036 entries, 0 to 123035\n",
      "Data columns (total 3 columns):\n",
      "id              123036 non-null object\n",
      "message_date    123036 non-null object\n",
      "user_id         123036 non-null int64\n",
      "dtypes: int64(1), object(2)\n",
      "memory usage: 2.8+ MB\n"
     ]
    },
    {
     "data": {
      "text/html": [
       "<div>\n",
       "<style scoped>\n",
       "    .dataframe tbody tr th:only-of-type {\n",
       "        vertical-align: middle;\n",
       "    }\n",
       "\n",
       "    .dataframe tbody tr th {\n",
       "        vertical-align: top;\n",
       "    }\n",
       "\n",
       "    .dataframe thead th {\n",
       "        text-align: right;\n",
       "    }\n",
       "</style>\n",
       "<table border=\"1\" class=\"dataframe\">\n",
       "  <thead>\n",
       "    <tr style=\"text-align: right;\">\n",
       "      <th></th>\n",
       "      <th>id</th>\n",
       "      <th>message_date</th>\n",
       "      <th>user_id</th>\n",
       "    </tr>\n",
       "  </thead>\n",
       "  <tbody>\n",
       "    <tr>\n",
       "      <td>0</td>\n",
       "      <td>1000_0</td>\n",
       "      <td>2018-06-27</td>\n",
       "      <td>1000</td>\n",
       "    </tr>\n",
       "    <tr>\n",
       "      <td>1</td>\n",
       "      <td>1000_1</td>\n",
       "      <td>2018-10-08</td>\n",
       "      <td>1000</td>\n",
       "    </tr>\n",
       "    <tr>\n",
       "      <td>2</td>\n",
       "      <td>1000_2</td>\n",
       "      <td>2018-08-04</td>\n",
       "      <td>1000</td>\n",
       "    </tr>\n",
       "    <tr>\n",
       "      <td>3</td>\n",
       "      <td>1000_3</td>\n",
       "      <td>2018-06-16</td>\n",
       "      <td>1000</td>\n",
       "    </tr>\n",
       "    <tr>\n",
       "      <td>4</td>\n",
       "      <td>1000_4</td>\n",
       "      <td>2018-12-05</td>\n",
       "      <td>1000</td>\n",
       "    </tr>\n",
       "  </tbody>\n",
       "</table>\n",
       "</div>"
      ],
      "text/plain": [
       "       id message_date  user_id\n",
       "0  1000_0   2018-06-27     1000\n",
       "1  1000_1   2018-10-08     1000\n",
       "2  1000_2   2018-08-04     1000\n",
       "3  1000_3   2018-06-16     1000\n",
       "4  1000_4   2018-12-05     1000"
      ]
     },
     "execution_count": 6,
     "metadata": {},
     "output_type": "execute_result"
    }
   ],
   "source": [
    "messages_data.info()\n",
    "messages_data.head(5)"
   ]
  },
  {
   "cell_type": "code",
   "execution_count": 7,
   "metadata": {},
   "outputs": [
    {
     "name": "stdout",
     "output_type": "stream",
     "text": [
      "<class 'pandas.core.frame.DataFrame'>\n",
      "RangeIndex: 2 entries, 0 to 1\n",
      "Data columns (total 8 columns):\n",
      "messages_included        2 non-null int64\n",
      "mb_per_month_included    2 non-null int64\n",
      "minutes_included         2 non-null int64\n",
      "rub_monthly_fee          2 non-null int64\n",
      "rub_per_gb               2 non-null int64\n",
      "rub_per_message          2 non-null int64\n",
      "rub_per_minute           2 non-null int64\n",
      "tariff_name              2 non-null object\n",
      "dtypes: int64(7), object(1)\n",
      "memory usage: 256.0+ bytes\n"
     ]
    },
    {
     "data": {
      "text/html": [
       "<div>\n",
       "<style scoped>\n",
       "    .dataframe tbody tr th:only-of-type {\n",
       "        vertical-align: middle;\n",
       "    }\n",
       "\n",
       "    .dataframe tbody tr th {\n",
       "        vertical-align: top;\n",
       "    }\n",
       "\n",
       "    .dataframe thead th {\n",
       "        text-align: right;\n",
       "    }\n",
       "</style>\n",
       "<table border=\"1\" class=\"dataframe\">\n",
       "  <thead>\n",
       "    <tr style=\"text-align: right;\">\n",
       "      <th></th>\n",
       "      <th>messages_included</th>\n",
       "      <th>mb_per_month_included</th>\n",
       "      <th>minutes_included</th>\n",
       "      <th>rub_monthly_fee</th>\n",
       "      <th>rub_per_gb</th>\n",
       "      <th>rub_per_message</th>\n",
       "      <th>rub_per_minute</th>\n",
       "      <th>tariff_name</th>\n",
       "    </tr>\n",
       "  </thead>\n",
       "  <tbody>\n",
       "    <tr>\n",
       "      <td>0</td>\n",
       "      <td>50</td>\n",
       "      <td>15360</td>\n",
       "      <td>500</td>\n",
       "      <td>550</td>\n",
       "      <td>200</td>\n",
       "      <td>3</td>\n",
       "      <td>3</td>\n",
       "      <td>smart</td>\n",
       "    </tr>\n",
       "    <tr>\n",
       "      <td>1</td>\n",
       "      <td>1000</td>\n",
       "      <td>30720</td>\n",
       "      <td>3000</td>\n",
       "      <td>1950</td>\n",
       "      <td>150</td>\n",
       "      <td>1</td>\n",
       "      <td>1</td>\n",
       "      <td>ultra</td>\n",
       "    </tr>\n",
       "  </tbody>\n",
       "</table>\n",
       "</div>"
      ],
      "text/plain": [
       "   messages_included  mb_per_month_included  minutes_included  \\\n",
       "0                 50                  15360               500   \n",
       "1               1000                  30720              3000   \n",
       "\n",
       "   rub_monthly_fee  rub_per_gb  rub_per_message  rub_per_minute tariff_name  \n",
       "0              550         200                3               3       smart  \n",
       "1             1950         150                1               1       ultra  "
      ]
     },
     "execution_count": 7,
     "metadata": {},
     "output_type": "execute_result"
    }
   ],
   "source": [
    "tariffs_data.info()\n",
    "tariffs_data"
   ]
  },
  {
   "cell_type": "code",
   "execution_count": 8,
   "metadata": {},
   "outputs": [],
   "source": [
    "def check_duplicate(df, column=None):\n",
    "    \"\"\"Check duplicates in dataframe\n",
    "    \n",
    "    Args:\n",
    "        df (pandas DataFrame): dataframe to check.\n",
    "        column (str, None): column in dataframe\n",
    "    \n",
    "    Returns:\n",
    "        Return False if the number of duplicates in the data column == 0, else return count duplicates.\n",
    "    \"\"\"\n",
    "    count_duplicate = len(df.loc[df.duplicated(subset=column) == True])\n",
    "    \n",
    "    if count_duplicate == 0:\n",
    "        return False\n",
    "    \n",
    "    return count_duplicate"
   ]
  },
  {
   "cell_type": "code",
   "execution_count": 9,
   "metadata": {},
   "outputs": [
    {
     "name": "stdout",
     "output_type": "stream",
     "text": [
      "Проверка на дубликаты индентификаторов пользователя: False\n",
      "Проверка на дубликаты данных пользователя: False\n",
      "Проверка на дубликаты данных звонков: False\n",
      "Проверка на дубликаты данных интернет-трафика: False\n",
      "Проверка на дубликаты данных о сообщениях: False\n"
     ]
    }
   ],
   "source": [
    "print('Проверка на дубликаты индентификаторов пользователя:', check_duplicate(users_data, column='user_id'))\n",
    "print('Проверка на дубликаты данных пользователя:', check_duplicate(users_data))\n",
    "print('Проверка на дубликаты данных звонков:', check_duplicate(calls_data))\n",
    "print('Проверка на дубликаты данных интернет-трафика:', check_duplicate(internet_data))\n",
    "print('Проверка на дубликаты данных о сообщениях:', check_duplicate(messages_data))"
   ]
  },
  {
   "cell_type": "markdown",
   "metadata": {},
   "source": [
    "Дубликатов в данных не обнаружено."
   ]
  },
  {
   "cell_type": "code",
   "execution_count": 10,
   "metadata": {
    "colab": {},
    "colab_type": "code",
    "id": "FiK-jZYJ3WnX",
    "pycharm": {
     "name": "#%%\n"
    }
   },
   "outputs": [],
   "source": [
    "users_data.drop(labels='first_name', axis=1, inplace=True)\n",
    "users_data.drop(labels='last_name', axis=1, inplace=True)\n",
    "users_data.rename(columns={'tariff': 'tariff_name'}, inplace=True)"
   ]
  },
  {
   "cell_type": "markdown",
   "metadata": {
    "colab_type": "text",
    "id": "FUe3pzPA3WnZ"
   },
   "source": [
    "Удалил данные с именами и фамилиями абонентов, так как в этом исследовании они не требуются. \\\n",
    "Столбец с тарифом переименовал для соответствия с названием столбца в данных по тарифам."
   ]
  },
  {
   "cell_type": "code",
   "execution_count": 11,
   "metadata": {
    "colab": {},
    "colab_type": "code",
    "id": "XeyXoGc43Wna"
   },
   "outputs": [],
   "source": [
    "internet_data.drop(labels='Unnamed: 0', axis=1, inplace=True)"
   ]
  },
  {
   "cell_type": "markdown",
   "metadata": {
    "colab_type": "text",
    "id": "pG8PzvyP3Wnc"
   },
   "source": [
    "В выгрузку данных интернет сессиий попала индексная колонка, ее можно так же удалить. \\\n",
    "Столбцы с датами имеют строковый тип данных. Пропущенные значения в датасетах отсутствуют."
   ]
  },
  {
   "cell_type": "markdown",
   "metadata": {
    "colab_type": "text",
    "id": "kdAaEkAb3Wnc"
   },
   "source": [
    "## 2. Предобработка данных"
   ]
  },
  {
   "cell_type": "code",
   "execution_count": 12,
   "metadata": {
    "colab": {},
    "colab_type": "code",
    "collapsed": false,
    "id": "vsV2lY9y3Wnd",
    "jupyter": {
     "outputs_hidden": false
    },
    "pycharm": {
     "name": "#%%\n"
    }
   },
   "outputs": [],
   "source": [
    "users_data.loc[:, 'churn_date'] = pd.to_datetime(users_data['churn_date'], errors='coerce')\n",
    "users_data.loc[:, 'reg_date'] = pd.to_datetime(users_data['reg_date'], errors='coerce')\n",
    "\n",
    "calls_data.loc[:, 'call_date'] = pd.to_datetime(calls_data['call_date'], errors='coerce')\n",
    "internet_data.loc[:, 'session_date'] = pd.to_datetime(internet_data['session_date'], errors='coerce')\n",
    "\n",
    "messages_data.loc[:, 'message_date'] = pd.to_datetime(messages_data['message_date'], errors='coerce')\n",
    "\n",
    "assert users_data['churn_date'].dtype == 'datetime64[ns]', 'Ошибка конвертации churn_date в тип дату'\n",
    "assert users_data['reg_date'].dtype == 'datetime64[ns]', 'Ошибка конвертации reg_date в тип дату'\n",
    "\n",
    "assert calls_data['call_date'].dtype == 'datetime64[ns]', 'Ошибка конвертации call_date в тип дату'\n",
    "assert internet_data['session_date'].dtype == 'datetime64[ns]', 'Ошибка конвертации session_date в тип дату'\n",
    "\n",
    "assert messages_data['message_date'].dtype == 'datetime64[ns]', 'Ошибка конвертации message_date в тип дату'"
   ]
  },
  {
   "cell_type": "markdown",
   "metadata": {},
   "source": [
    "Преобразование из строкового типа в тип дат."
   ]
  },
  {
   "cell_type": "code",
   "execution_count": 13,
   "metadata": {
    "colab": {},
    "colab_type": "code",
    "collapsed": false,
    "id": "HCDp87eI3Wne",
    "jupyter": {
     "outputs_hidden": false
    },
    "pycharm": {
     "name": "#%%\n"
    }
   },
   "outputs": [
    {
     "name": "stdout",
     "output_type": "stream",
     "text": [
      "Процент пропущенных звонков 19.55%\n"
     ]
    }
   ],
   "source": [
    "missing_calls = len(calls_data.query('duration == 0')) / len(calls_data['duration'])\n",
    "print(f'Процент пропущенных звонков {missing_calls:0.2%}')"
   ]
  },
  {
   "cell_type": "markdown",
   "metadata": {
    "colab_type": "text",
    "id": "hDVoKBXvAynL"
   },
   "source": [
    "Процент пропущенных звонков слишком велик чтобы их отбросить."
   ]
  },
  {
   "cell_type": "code",
   "execution_count": 14,
   "metadata": {},
   "outputs": [],
   "source": [
    "users_data.loc[:, 'month'] = pd.to_datetime(users_data['reg_date']).dt.month"
   ]
  },
  {
   "cell_type": "markdown",
   "metadata": {},
   "source": [
    "Вывод номера месяца из даты в отдельный столбец, для дальнейшего исследования."
   ]
  },
  {
   "cell_type": "code",
   "execution_count": 15,
   "metadata": {},
   "outputs": [],
   "source": [
    "def ceil_data(item):\n",
    "    try:\n",
    "        return math.ceil(item)\n",
    "    except:\n",
    "        return -1\n"
   ]
  },
  {
   "cell_type": "code",
   "execution_count": 16,
   "metadata": {
    "colab": {},
    "colab_type": "code",
    "id": "UxKWKH-r3Wni"
   },
   "outputs": [],
   "source": [
    "calls_data.loc[:, 'duration'] = calls_data['duration'].apply(ceil_data)\n",
    "calls_data['month'] = pd.to_datetime(calls_data['call_date']).dt.month\n",
    "\n",
    "calls_pivot = calls_data.pivot_table(index=['user_id', 'month'], values='duration', aggfunc=['count', 'sum'])\n",
    "calls_pivot.columns = ['calls_per_month_count', 'minutes_per_month']"
   ]
  },
  {
   "cell_type": "code",
   "execution_count": 17,
   "metadata": {},
   "outputs": [],
   "source": [
    "internet_data.loc[:, 'mb_used'] = internet_data['mb_used'].apply(ceil_data)\n",
    "internet_data['month'] = pd.to_datetime(internet_data['session_date']).dt.month\n",
    "\n",
    "internet_pivot = internet_data.pivot_table(index=['user_id', 'month'], values='mb_used', aggfunc=['count', 'sum'])\n",
    "internet_pivot.columns = ['sessions_per_month', 'mb_per_month']"
   ]
  },
  {
   "cell_type": "code",
   "execution_count": 18,
   "metadata": {},
   "outputs": [],
   "source": [
    "messages_data['month'] = pd.to_datetime(messages_data['message_date']).dt.month\n",
    "messages_pivot = messages_data.pivot_table(index=['user_id', 'month'], values='id', aggfunc=['count'])\n",
    "messages_pivot.columns = ['messages_per_month']"
   ]
  },
  {
   "cell_type": "markdown",
   "metadata": {},
   "source": [
    "Оператор связи \"Мегалайн\" округляет значения минут и мегабайт интернет-трафика в сторону увеличения, округлил данные таким же образом. \\\n",
    "Выведены месяцы из дат звонка, сообщений и интернет сессий."
   ]
  },
  {
   "cell_type": "code",
   "execution_count": 19,
   "metadata": {},
   "outputs": [],
   "source": [
    "tariffs_data.set_index('tariff_name', inplace=True)"
   ]
  },
  {
   "cell_type": "markdown",
   "metadata": {},
   "source": [
    "Данные по тарифам индексированы по их названию, для объединения в общую таблицу."
   ]
  },
  {
   "cell_type": "code",
   "execution_count": 20,
   "metadata": {},
   "outputs": [],
   "source": [
    "all_stats = users_data\n",
    "all_stats.set_index(['user_id', 'month'], inplace=True)"
   ]
  },
  {
   "cell_type": "code",
   "execution_count": 21,
   "metadata": {},
   "outputs": [],
   "source": [
    "all_stats = all_stats.join([calls_pivot, internet_pivot, messages_pivot], how='outer')\n",
    "all_stats = all_stats.join(tariffs_data, on='tariff_name')\n",
    "\n",
    "fill_columns = ['age',\n",
    "                'churn_date',\n",
    "                'city',\n",
    "                'reg_date',\n",
    "                'tariff_name',\n",
    "                'messages_included',\n",
    "                'mb_per_month_included',\n",
    "                'minutes_included',\n",
    "                'rub_monthly_fee',\n",
    "                'rub_per_gb',\n",
    "                'rub_per_message',\n",
    "                'rub_per_minute']\n",
    "\n",
    "for column in fill_columns:\n",
    "    all_stats[column].fillna(method='ffill', inplace=True)"
   ]
  },
  {
   "cell_type": "markdown",
   "metadata": {},
   "source": [
    "Объединение в общую таблицу и заполнение пропущенных значений из первых строк данных абонента."
   ]
  },
  {
   "cell_type": "code",
   "execution_count": 22,
   "metadata": {},
   "outputs": [],
   "source": [
    "def month_calc(row):\n",
    "    messages_outside_pack = row['messages_per_month'] - row['messages_included']\n",
    "    mb_outside_pack = row['mb_per_month'] - row['mb_per_month_included'] \n",
    "    minutes_outside_pack = row['minutes_per_month'] - row['minutes_included']\n",
    "    \n",
    "    month_revenue = row['rub_monthly_fee']\n",
    "    messages_revenue = 0\n",
    "    internet_revenue = 0\n",
    "    minutes_revenue = 0\n",
    "    \n",
    "    if messages_outside_pack > 0: \n",
    "        messages_revenue = messages_outside_pack * row['rub_per_message']\n",
    "        \n",
    "    if mb_outside_pack > 0:\n",
    "        internet_revenue = math.ceil(mb_outside_pack / 1024) * row['rub_per_gb']\n",
    "        \n",
    "    if minutes_outside_pack > 0:\n",
    "        minutes_revenue = minutes_outside_pack * row['rub_per_minute']\n",
    "        \n",
    "    \n",
    "    return month_revenue + messages_revenue + internet_revenue + minutes_revenue\n",
    "\n",
    "all_stats['month_revenue'] = all_stats.apply(month_calc, axis=1)"
   ]
  },
  {
   "cell_type": "markdown",
   "metadata": {},
   "source": [
    "Вычисление помесячной выручки с каждого абонента. \\\n",
    "Дополнительный интернет-трафик предоставляется в виде пакетов по 1гб, поэтому округление трафика сверх абонентской платы в большую сторону."
   ]
  },
  {
   "cell_type": "code",
   "execution_count": 23,
   "metadata": {},
   "outputs": [],
   "source": [
    "def convert_to_int(x):\n",
    "    try:\n",
    "        return int(x)\n",
    "    except:\n",
    "        return 0\n",
    "\n",
    "\n",
    "convert_columns = ['age',\n",
    "                  'calls_per_month_count',\n",
    "                  'minutes_per_month',\n",
    "                  'sessions_per_month',\n",
    "                  'mb_per_month',\n",
    "                  'messages_per_month',\n",
    "                  'messages_included',\n",
    "                  'mb_per_month_included',\n",
    "                  'minutes_included',\n",
    "                  'rub_monthly_fee',\n",
    "                  'rub_per_gb',\n",
    "                  'rub_per_message',\n",
    "                  'rub_per_minute',\n",
    "                  'month_revenue']\n",
    "\n",
    "for column in convert_columns:\n",
    "    all_stats.loc[:, column] = all_stats[column].apply(convert_to_int)"
   ]
  },
  {
   "cell_type": "markdown",
   "metadata": {},
   "source": [
    "Преобразование столбцов в целочисленный вид."
   ]
  },
  {
   "cell_type": "markdown",
   "metadata": {},
   "source": [
    "## 3. Анализ данных"
   ]
  },
  {
   "cell_type": "code",
   "execution_count": 24,
   "metadata": {},
   "outputs": [
    {
     "name": "stdout",
     "output_type": "stream",
     "text": [
      "<class 'pandas.core.frame.DataFrame'>\n",
      "MultiIndex: 3216 entries, (1000, 5) to (1499, 12)\n",
      "Data columns (total 18 columns):\n",
      "age                      3216 non-null int64\n",
      "churn_date               3080 non-null datetime64[ns]\n",
      "city                     3216 non-null object\n",
      "reg_date                 3216 non-null datetime64[ns]\n",
      "tariff_name              3216 non-null object\n",
      "calls_per_month_count    3216 non-null int64\n",
      "minutes_per_month        3216 non-null int64\n",
      "sessions_per_month       3216 non-null int64\n",
      "mb_per_month             3216 non-null int64\n",
      "messages_per_month       3216 non-null int64\n",
      "messages_included        3216 non-null int64\n",
      "mb_per_month_included    3216 non-null int64\n",
      "minutes_included         3216 non-null int64\n",
      "rub_monthly_fee          3216 non-null int64\n",
      "rub_per_gb               3216 non-null int64\n",
      "rub_per_message          3216 non-null int64\n",
      "rub_per_minute           3216 non-null int64\n",
      "month_revenue            3216 non-null int64\n",
      "dtypes: datetime64[ns](2), int64(14), object(2)\n",
      "memory usage: 625.8+ KB\n"
     ]
    }
   ],
   "source": [
    "all_stats.info()"
   ]
  },
  {
   "cell_type": "markdown",
   "metadata": {},
   "source": [
    "### 3.1 Количество минут по тарифу \"Смарт\""
   ]
  },
  {
   "cell_type": "code",
   "execution_count": 25,
   "metadata": {},
   "outputs": [
    {
     "name": "stdout",
     "output_type": "stream",
     "text": [
      "count    2230.000000\n",
      "mean      417.747534\n",
      "std       190.476754\n",
      "min         0.000000\n",
      "25%       282.000000\n",
      "50%       421.500000\n",
      "75%       545.000000\n",
      "max      1435.000000\n",
      "Name: minutes_per_month, dtype: float64 \n",
      "\n",
      "Среднее количество потраченных минут: 417.75\n",
      "Дисперсия минут: 36281.39\n",
      "Стандартное отклонение минут: 190.48\n"
     ]
    }
   ],
   "source": [
    "smart_duration_query = all_stats.query('tariff_name == \"smart\"')['minutes_per_month']\n",
    "mean_smart_duration = smart_duration_query.mean()\n",
    "variance_smart_duration = np.var(smart_duration_query, ddof=1)\n",
    "deviation_smart_duration = np.std(smart_duration_query, ddof=1)\n",
    "\n",
    "print(smart_duration_query.describe(), '\\n')\n",
    "print(f'Среднее количество потраченных минут: {mean_smart_duration:0.2f}')\n",
    "print(f'Дисперсия минут: {variance_smart_duration:0.2f}')\n",
    "print(f'Стандартное отклонение минут: {deviation_smart_duration:0.2f}')"
   ]
  },
  {
   "cell_type": "markdown",
   "metadata": {},
   "source": [
    "### 3.2 Количество сообщений по тарифу \"Смарт\""
   ]
  },
  {
   "cell_type": "code",
   "execution_count": 26,
   "metadata": {},
   "outputs": [
    {
     "name": "stdout",
     "output_type": "stream",
     "text": [
      "count    2230.000000\n",
      "mean       33.369058\n",
      "std        28.230396\n",
      "min         0.000000\n",
      "25%        10.000000\n",
      "50%        28.000000\n",
      "75%        51.000000\n",
      "max       143.000000\n",
      "Name: messages_per_month, dtype: float64 \n",
      "\n",
      "Среднее количество сообщений: 33.37\n",
      "Дисперсия количества сообщений: 796.96\n",
      "Стандартное отклонение количества сообщений: 28.23\n"
     ]
    }
   ],
   "source": [
    "smart_messages_query = all_stats.query('tariff_name == \"smart\"')['messages_per_month']\n",
    "mean_smart_messages = smart_messages_query.mean()\n",
    "variance_smart_messages = np.var(smart_messages_query, ddof=1)\n",
    "deviation_smart_messages = np.std(smart_messages_query, ddof=1)\n",
    "\n",
    "print(smart_messages_query.describe(), '\\n')\n",
    "print(f'Среднее количество сообщений: {mean_smart_messages:0.2f}')\n",
    "print(f'Дисперсия количества сообщений: {variance_smart_messages:0.2f}')\n",
    "print(f'Стандартное отклонение количества сообщений: {deviation_smart_messages:0.2f}')"
   ]
  },
  {
   "cell_type": "markdown",
   "metadata": {},
   "source": [
    "### 3.3 Объем интернет-трафика по тарифу \"Смарт\""
   ]
  },
  {
   "cell_type": "code",
   "execution_count": 27,
   "metadata": {},
   "outputs": [
    {
     "name": "stdout",
     "output_type": "stream",
     "text": [
      "count     2230.000000\n",
      "mean     16221.910762\n",
      "std       5886.299627\n",
      "min          0.000000\n",
      "25%      12645.250000\n",
      "50%      16529.000000\n",
      "75%      20068.000000\n",
      "max      38610.000000\n",
      "Name: mb_per_month, dtype: float64 \n",
      "\n",
      "Средней объем интернет-трафика: 16221.91\n",
      "Дисперсия интернет-трафика: 34648523.30\n",
      "Стандартное отклонение интернет-трафика: 5886.30\n"
     ]
    }
   ],
   "source": [
    "smart_traffic_query = all_stats.query('tariff_name == \"smart\"')['mb_per_month']\n",
    "mean_smart_traffic = smart_traffic_query.mean()\n",
    "variance_smart_traffic = np.var(smart_traffic_query, ddof=1)\n",
    "deviation_smart_traffic = np.std(smart_traffic_query, ddof=1)\n",
    "\n",
    "print(smart_traffic_query.describe(), '\\n')\n",
    "print(f'Средней объем интернет-трафика: {mean_smart_traffic:0.2f}')\n",
    "print(f'Дисперсия интернет-трафика: {variance_smart_traffic:0.2f}')\n",
    "print(f'Стандартное отклонение интернет-трафика: {deviation_smart_traffic:0.2f}')"
   ]
  },
  {
   "cell_type": "markdown",
   "metadata": {
    "jupyter": {
     "outputs_hidden": false
    },
    "pycharm": {
     "name": "#%%\n"
    }
   },
   "source": [
    "### 3.4 Количество минут по тарифу \"Ультра\""
   ]
  },
  {
   "cell_type": "code",
   "execution_count": 28,
   "metadata": {},
   "outputs": [
    {
     "name": "stdout",
     "output_type": "stream",
     "text": [
      "count     986.000000\n",
      "mean      526.089249\n",
      "std       317.887549\n",
      "min         0.000000\n",
      "25%       282.500000\n",
      "50%       518.000000\n",
      "75%       751.750000\n",
      "max      1673.000000\n",
      "Name: minutes_per_month, dtype: float64 \n",
      "\n",
      "Среднее количество потраченных минут: 526.09\n",
      "Дисперсия минут: 101052.49\n",
      "Стандартное отклонение минут: 317.89\n"
     ]
    }
   ],
   "source": [
    "ultra_duration_query = all_stats.query('tariff_name == \"ultra\"')['minutes_per_month']\n",
    "mean_ultra_duration = ultra_duration_query.mean()\n",
    "variance_ultra_duration = np.var(ultra_duration_query, ddof=1)\n",
    "deviation_ultra_duration = np.std(ultra_duration_query, ddof=1)\n",
    "\n",
    "print(ultra_duration_query.describe(), '\\n')\n",
    "print(f'Среднее количество потраченных минут: {mean_ultra_duration:0.2f}')\n",
    "print(f'Дисперсия минут: {variance_ultra_duration:0.2f}')\n",
    "print(f'Стандартное отклонение минут: {deviation_ultra_duration:0.2f}')"
   ]
  },
  {
   "cell_type": "markdown",
   "metadata": {},
   "source": [
    "### 3.5 Количество сообщений по тарифу \"Ультра\""
   ]
  },
  {
   "cell_type": "code",
   "execution_count": 29,
   "metadata": {},
   "outputs": [
    {
     "name": "stdout",
     "output_type": "stream",
     "text": [
      "count    986.000000\n",
      "mean      49.313387\n",
      "std       47.806040\n",
      "min        0.000000\n",
      "25%        6.000000\n",
      "50%       38.000000\n",
      "75%       78.750000\n",
      "max      224.000000\n",
      "Name: messages_per_month, dtype: float64 \n",
      "\n",
      "Среднее количество сообщений: 49.31\n",
      "Дисперсия количества сообщений: 2285.42\n",
      "Стандартное отклонение количества сообщений: 47.81\n"
     ]
    }
   ],
   "source": [
    "ultra_messages_query = all_stats.query('tariff_name == \"ultra\"')['messages_per_month']\n",
    "mean_ultra_messages = ultra_messages_query.mean()\n",
    "variance_ultra_messages = np.var(ultra_messages_query, ddof=1)\n",
    "deviation_ultra_messages = np.std(ultra_messages_query, ddof=1)\n",
    "\n",
    "print(ultra_messages_query.describe(), '\\n')\n",
    "print(f'Среднее количество сообщений: {mean_ultra_messages:0.2f}')\n",
    "print(f'Дисперсия количества сообщений: {variance_ultra_messages:0.2f}')\n",
    "print(f'Стандартное отклонение количества сообщений: {deviation_ultra_messages:0.2f}')"
   ]
  },
  {
   "cell_type": "markdown",
   "metadata": {},
   "source": [
    "### 3.3 Объем интернет-трафика по тарифу \"Ультра\""
   ]
  },
  {
   "cell_type": "code",
   "execution_count": 30,
   "metadata": {
    "pycharm": {
     "name": "#%%\n"
    }
   },
   "outputs": [
    {
     "name": "stdout",
     "output_type": "stream",
     "text": [
      "count      986.000000\n",
      "mean     19467.137931\n",
      "std      10110.255401\n",
      "min          0.000000\n",
      "25%      11761.000000\n",
      "50%      19320.000000\n",
      "75%      26860.250000\n",
      "max      49789.000000\n",
      "Name: mb_per_month, dtype: float64 \n",
      "\n",
      "Средней объем интернет-трафика: 19467.14\n",
      "Дисперсия интернет-трафика: 102217264.28\n",
      "Стандартное отклонение интернет-трафика: 10110.26\n"
     ]
    }
   ],
   "source": [
    "ultra_traffic_query = all_stats.query('tariff_name == \"ultra\"')['mb_per_month']\n",
    "mean_ultra_traffic = ultra_traffic_query.mean()\n",
    "variance_ultra_traffic = np.var(ultra_traffic_query, ddof=1)\n",
    "deviation_ultra_traffic = np.std(ultra_traffic_query, ddof=1)\n",
    "\n",
    "print(ultra_traffic_query.describe(), '\\n')\n",
    "print(f'Средней объем интернет-трафика: {mean_ultra_traffic:0.2f}')\n",
    "print(f'Дисперсия интернет-трафика: {variance_ultra_traffic:0.2f}')\n",
    "print(f'Стандартное отклонение интернет-трафика: {deviation_ultra_traffic:0.2f}')\n"
   ]
  },
  {
   "cell_type": "code",
   "execution_count": 31,
   "metadata": {},
   "outputs": [
    {
     "data": {
      "image/png": "[encoded data removed]",
      "text/plain": [
       "<Figure size 1440x360 with 2 Axes>"
      ]
     },
     "metadata": {
      "needs_background": "light"
     },
     "output_type": "display_data"
    },
    {
     "data": {
      "image/png": "[encoded data removed]",
      "text/plain": [
       "<Figure size 1440x360 with 2 Axes>"
      ]
     },
     "metadata": {
      "needs_background": "light"
     },
     "output_type": "display_data"
    },
    {
     "data": {
      "image/png": "[encoded data removed]",
      "text/plain": [
       "<Figure size 1440x360 with 2 Axes>"
      ]
     },
     "metadata": {
      "needs_background": "light"
     },
     "output_type": "display_data"
    }
   ],
   "source": [
    "def show_subgraphs(query_1, query_2, \n",
    "                   title_1=False, title_2=False, \n",
    "                   legend_1=False, legend_2=False,\n",
    "                   line_1=False, line_2=False,\n",
    "                   bins_count=20, line=False, grid=False):\n",
    "    \n",
    "    fig, (ax_1, ax_2) = plt.subplots(nrows=1, ncols=2, figsize=(20, 5))\n",
    "    \n",
    "    ax_1.hist(query_1, bins=bins_count)\n",
    "    ax_2.hist(query_2, bins=bins_count)\n",
    "    \n",
    "    if line_1:\n",
    "        ax_1.axvline(x=line_1, linestyle='-', color='r', alpha=0.5)\n",
    "        \n",
    "    if title_1:\n",
    "        ax_1.title.set_text(title_1)\n",
    "        \n",
    "    if line_2:\n",
    "        ax_2.axvline(x=line_2, linestyle='-', color='r', alpha=0.5)\n",
    "        \n",
    "    if title_2:\n",
    "        ax_2.title.set_text(title_2)\n",
    "        \n",
    "    if legend_1:\n",
    "        ax_1.legend(legend_1, loc='upper right')\n",
    "    \n",
    "    if legend_2:\n",
    "        ax_2.legend(legend_2, loc='upper right')\n",
    "        \n",
    "    ax_2.grid(True)\n",
    "    ax_2.grid(True)\n",
    "    \n",
    "show_subgraphs(query_1=smart_duration_query, query_2=ultra_duration_query, \n",
    "               title_1='Количество минут по тарифу \"Смарт\"', title_2='Количество минут по тарифу \"Ультра\"', \n",
    "               legend_1=['500 минут в тарифе', 'минут в месяц'], legend_2=['3000 минут в тарифе', 'минут в месяц'],\n",
    "               line_1=500, line_2=3000,\n",
    "               bins_count=50, line=True, grid=True)\n",
    "\n",
    "show_subgraphs(query_1=smart_messages_query, query_2=ultra_messages_query, \n",
    "               title_1='Количество сообщений по тарифу \"Смарт\"', title_2='Количество сообщений по тарифу \"Ультра\"', \n",
    "               legend_1=['50 сообщений в тарифе', 'сообщений в месяц'], legend_2=['1000 сообщений в тарифе', 'сообщений в месяц'],\n",
    "               line_1=50, line_2=1000,\n",
    "               bins_count=50, line=True, grid=True)\n",
    "\n",
    "show_subgraphs(query_1=smart_traffic_query, query_2=ultra_traffic_query, \n",
    "               title_1='Объем интернет-трафика по тарифу \"Смарт\"', title_2='Объем интернет-трафика по тарифу \"Ультра\"', \n",
    "               legend_1=['15Гб в тарифе', 'месячный интернет-трафик'], legend_2=['30Гб в тарифе', 'месячный интернет-трафик'],\n",
    "               line_1=15_000, line_2=30_000,\n",
    "               bins_count=50, line=True, grid=True)\n",
    "\n",
    "\n",
    "plt.show()"
   ]
  },
  {
   "cell_type": "markdown",
   "metadata": {},
   "source": [
    "По распределениям видно что большей части абонентов тарифа \"Смарт\" достаточно минут в пакете. Абоненты тарифа \"Ультра\" не выговаривают свой лимит. \\\n",
    "Судя по количеству сообщений абоненты обоих тарифов предпочитают пользоваться мессенджерами или соцсетями. \\\n",
    "Распределение объема интернет-трафика показывает, что абоненты тарифа \"Смарт\" пользуются дополнительными пакетами. Абонентам тарифа \"Ультра\" лимита в пакете достаточно."
   ]
  },
  {
   "cell_type": "code",
   "execution_count": 32,
   "metadata": {},
   "outputs": [
    {
     "name": "stdout",
     "output_type": "stream",
     "text": [
      "Вероятность уложиться в пакет минут пользователю тарифа \"Смарт\": 66.71%\n",
      "Количество минут достаточное для 80% абонетнов тарифа \"Смарт\": 578 минут\n",
      "\n",
      "Вероятность уложиться в пакет сообщений пользователю тарифа \"Смарт\": 72.21%\n",
      "Количество сообщений достаточное для 80% абонетнов тарифа \"Смарт\": 57 сообщений\n",
      "\n",
      "Вероятность уложиться в пакет Гб пользователю тарифа \"Смарт\": 41.78%\n",
      "Количество Гб достаточное для 80% абонетнов тарифа \"Смарт\": 21176 Гб\n",
      "\n",
      "Вероятность уложиться в пакет минут пользователю тарифа \"Ультра\": 100.00%\n",
      "Количество минут достаточное для 80% абонетнов тарифа \"Ультра\": 794 минут\n",
      "\n",
      "Вероятность уложиться в пакет сообщений пользователю тарифа \"Ультра\": 100.00%\n",
      "Количество сообщений достаточное для 80% абонетнов тарифа \"Ультра\": 90 сообщений\n",
      "\n",
      "Вероятность уложиться в пакет Гб пользователю тарифа \"Ультра\": 85.12%\n",
      "Количество Гб достаточное для 80% абонетнов тарифа \"Ультра\": 27976 Гб\n"
     ]
    }
   ],
   "source": [
    "def show_distr(query, tariff_name, cdf_value, ppf_value, value_text):\n",
    "    distr = st.norm(query.mean(), query.std())\n",
    "    \n",
    "    print(f'Вероятность уложиться в пакет {value_text} пользователю тарифа \"{tariff_name}\": {distr.cdf(cdf_value):0.2%}')\n",
    "    print(f'Количество {value_text} достаточное для 80% абонетнов тарифа \"{tariff_name}\": {round(distr.ppf(ppf_value)):0.0f} {value_text}')\n",
    "\n",
    "show_distr(smart_duration_query, \"Смарт\", 500, 0.8, 'минут')\n",
    "print()\n",
    "show_distr(smart_messages_query, \"Смарт\", 50, 0.8, 'сообщений')\n",
    "print()\n",
    "show_distr(smart_traffic_query, \"Смарт\", 15_000, 0.8, 'Гб')\n",
    "print()\n",
    "show_distr(ultra_duration_query, \"Ультра\", 3_000, 0.8, 'минут')\n",
    "print()\n",
    "show_distr(ultra_messages_query, \"Ультра\", 1_000, 0.8, 'сообщений')\n",
    "print()\n",
    "show_distr(ultra_traffic_query, \"Ультра\", 30_000, 0.8, 'Гб')"
   ]
  },
  {
   "cell_type": "markdown",
   "metadata": {},
   "source": [
    "Большей половины абонентов тарифа \"Смарт\" достаточно пакета минут и почти всем хватает пакета сообщений. Объема интернет-трафика недостаточно для абонентов тарифа.\n",
    "\n",
    "Всем абонентам тарифа \"Ультра\" достаточно пакета минут и сообщений. Количество минут и сообщений избыточно в данном тарифе. Объем интернет-трафика достаточен для большинства абонентов тарифа.\n",
    "\n",
    "Данные показывают, что смс сообщения не являются основным средством общения для абонентов обоих тарифов. "
   ]
  },
  {
   "cell_type": "markdown",
   "metadata": {},
   "source": [
    "## 4. Проверка гипотез"
   ]
  },
  {
   "cell_type": "markdown",
   "metadata": {},
   "source": [
    "### 4.1 Средняя выручка пользователей тарифов «Ультра» и «Смарт» различается"
   ]
  },
  {
   "cell_type": "code",
   "execution_count": 33,
   "metadata": {},
   "outputs": [
    {
     "name": "stdout",
     "output_type": "stream",
     "text": [
      "p-значение: 1.7023268870439853e-158\n",
      "Средняя выручка пользователей тарифов «Ультра» и «Смарт» различается\n"
     ]
    }
   ],
   "source": [
    "smart_month_revenue = all_stats.query('tariff_name == \"smart\"')['month_revenue']\n",
    "ultra_month_revenue = all_stats.query('tariff_name == \"ultra\"')['month_revenue']\n",
    "alpha_month_revenue = 0.05\n",
    "month_revenue_ttest = st.ttest_ind(smart_month_revenue, ultra_month_revenue)\n",
    "\n",
    "print('p-значение:', month_revenue_ttest.pvalue)\n",
    "\n",
    "if (month_revenue_ttest.pvalue < alpha_month_revenue):\n",
    "    print('Средняя выручка пользователей тарифов «Ультра» и «Смарт» различается')\n",
    "else: \n",
    "    print('Не удалось подтвердить различие средней выручки пользователей тарифов «Ультра» и «Смарт»')"
   ]
  },
  {
   "cell_type": "markdown",
   "metadata": {},
   "source": [
    "Нулевая гипотеза: средняя выручка пользователей тарифов \"Смарт\" и \"Ультра\" равны. \\\n",
    "Альтернативная гипотеза: средняя выручка пользователей тарифов \"Смарт\" и \"Ультра\" различаются."
   ]
  },
  {
   "cell_type": "code",
   "execution_count": 34,
   "metadata": {},
   "outputs": [
    {
     "name": "stdout",
     "output_type": "stream",
     "text": [
      "p-значение 0.5277299573181309\n",
      "Не выявлено отличие средней выручки пользователей из Москвы от выручки из других регионов\n"
     ]
    }
   ],
   "source": [
    "moscow_month_revenue = all_stats.query('city == \"Москва\"')['month_revenue']\n",
    "regions_month_revenue = all_stats.query('city != \"Москва\"')['month_revenue']\n",
    "alpha_month_revenue = 0.05\n",
    "moscow_revenue_ttest = st.ttest_ind(moscow_month_revenue, regions_month_revenue)\n",
    "\n",
    "print('p-значение', moscow_revenue_ttest.pvalue)\n",
    "\n",
    "if (moscow_revenue_ttest.pvalue < alpha_month_revenue):\n",
    "    print('Средняя выручка пользователей из Москвы отличается от выручки из других регионов')\n",
    "else:\n",
    "    print('Не выявлено отличие средней выручки пользователей из Москвы от выручки из других регионов')"
   ]
  },
  {
   "cell_type": "markdown",
   "metadata": {},
   "source": [
    "Нулевая гипотеза: средняя выручка пользователей из Москва равна средней выручке пользователей из регионов. \\\n",
    "Альтернативная гипотеза: средняя выручка пользователей из Москвы и регионов различается."
   ]
  },
  {
   "cell_type": "markdown",
   "metadata": {},
   "source": [
    "Для проверки гипотез использовался критерий Уэлча, так как данные выборки независимы и имеют разные дисперcии."
   ]
  },
  {
   "cell_type": "markdown",
   "metadata": {},
   "source": [
    "## 5. Общий вывод"
   ]
  },
  {
   "cell_type": "code",
   "execution_count": 35,
   "metadata": {},
   "outputs": [
    {
     "name": "stdout",
     "output_type": "stream",
     "text": [
      "Средняя выручка пользователей тарифа \"Смарт\": 1294\n",
      "Средняя выручка пользователей тарифа \"Ультра\": 2071\n"
     ]
    }
   ],
   "source": [
    "print(f'Средняя выручка пользователей тарифа \"Смарт\": {round(smart_month_revenue.mean()):0.0f}')\n",
    "print(f'Средняя выручка пользователей тарифа \"Ультра\": {round(ultra_month_revenue.mean()):0.0f}')"
   ]
  },
  {
   "cell_type": "code",
   "execution_count": 36,
   "metadata": {},
   "outputs": [
    {
     "name": "stdout",
     "output_type": "stream",
     "text": [
      "Средняя выручка пользователей из Москвы: 1551\n",
      "Средняя выручка пользователей из регионов: 1528\n"
     ]
    }
   ],
   "source": [
    "print(f'Средняя выручка пользователей из Москвы: {round(moscow_month_revenue.mean()):0.0f}')\n",
    "print(f'Средняя выручка пользователей из регионов: {round(regions_month_revenue.mean()):0.0f}')"
   ]
  },
  {
   "cell_type": "markdown",
   "metadata": {},
   "source": [
    "Выявлено различие в выручке пользователей тарифов \"Ультра\" и \"Смарт\". Пользователи тарифа \"Ультра\" приносят больше денег, в то время как пользователей тарифа \"Смарт\" больше и такие пользователи создают более предсказуемую нагрузку. \\\n",
    "Различие средней выручки абоненов Москвы и других регионов не подверждено. "
   ]
  },
  {
   "cell_type": "markdown",
   "metadata": {},
   "source": [
    "Так же исследование показало что смс как средство общение почти не используется абонентами обоих тарифов, а пакета миниту сотовой связи достаточно для большинства абонентов тарифа \"Смарт\" и всех абонентов тарифа \"Ультра\". "
   ]
  },
  {
   "cell_type": "markdown",
   "metadata": {},
   "source": [
    "Тариф \"Ультра\" является более выгодным для компании \"Мегалайн\"."
   ]
  }
 ],
 "metadata": {
  "colab": {
   "name": "telecom.ipynb",
   "provenance": []
  },
  "kernelspec": {
   "display_name": "Python 3",
   "language": "python",
   "name": "python3"
  },
  "language_info": {
   "codemirror_mode": {
    "name": "ipython",
    "version": 3
   },
   "file_extension": ".py",
   "mimetype": "text/x-python",
   "name": "python",
   "nbconvert_exporter": "python",
   "pygments_lexer": "ipython3",
   "version": "3.8.3"
  }
 },
 "nbformat": 4,
 "nbformat_minor": 4
}
