{
 "cells": [
  {
   "cell_type": "markdown",
   "metadata": {
    "colab_type": "text",
    "id": "s3ki6XEol22V"
   },
   "source": [
    "# Прогнозирование оттока клиентов"
   ]
  },
  {
   "cell_type": "markdown",
   "metadata": {
    "colab_type": "text",
    "id": "GfWoV7jnl22Y"
   },
   "source": [
    "По историческим данным поведения клиентов и расторжении договоров спрогнозировать возможный уход клиента. Построить модель с предельно большим значением *F1*-меры (0.59 и выше). Дополнительно измерение *AUC-ROC* и сравнение с *F1*-мерой."
   ]
  },
  {
   "cell_type": "code",
   "execution_count": 1,
   "metadata": {
    "colab": {},
    "colab_type": "code",
    "id": "VYxUwua_l22b"
   },
   "outputs": [],
   "source": [
    "import joblib\n",
    "import pandas as pd\n",
    "import numpy as np\n",
    "import matplotlib.pyplot as plt \n",
    "\n",
    "from catboost import Pool\n",
    "from catboost import CatBoostClassifier\n",
    "\n",
    "from sklearn.metrics import confusion_matrix, f1_score, roc_auc_score, classification_report, precision_score, recall_score\n",
    "from sklearn.model_selection import train_test_split, GridSearchCV\n",
    "from sklearn.preprocessing import StandardScaler\n",
    "\n",
    "from sklearn.dummy import DummyClassifier\n",
    "\n",
    "from sklearn.linear_model import LogisticRegression\n",
    "from sklearn.tree import DecisionTreeClassifier\n",
    "from sklearn.ensemble import RandomForestClassifier\n",
    "\n",
    "from sklearn.utils import resample, class_weight"
   ]
  },
  {
   "cell_type": "code",
   "execution_count": 7,
   "metadata": {
    "colab": {},
    "colab_type": "code",
    "id": "eUqkFtC0l22m"
   },
   "outputs": [],
   "source": [
    "data = pd.read_csv('/datasets/Churn.csv')"
   ]
  },
  {
   "cell_type": "code",
   "execution_count": 8,
   "metadata": {
    "colab": {
     "base_uri": "https://localhost:8080/",
     "height": 374
    },
    "colab_type": "code",
    "id": "28Zyw8Qkl22v",
    "outputId": "13b7ade4-a279-4e35-b092-3cd391956d65"
   },
   "outputs": [
    {
     "name": "stdout",
     "output_type": "stream",
     "text": [
      "<class 'pandas.core.frame.DataFrame'>\n",
      "RangeIndex: 10000 entries, 0 to 9999\n",
      "Data columns (total 14 columns):\n",
      " #   Column           Non-Null Count  Dtype  \n",
      "---  ------           --------------  -----  \n",
      " 0   RowNumber        10000 non-null  int64  \n",
      " 1   CustomerId       10000 non-null  int64  \n",
      " 2   Surname          10000 non-null  object \n",
      " 3   CreditScore      10000 non-null  int64  \n",
      " 4   Geography        10000 non-null  object \n",
      " 5   Gender           10000 non-null  object \n",
      " 6   Age              10000 non-null  int64  \n",
      " 7   Tenure           9091 non-null   float64\n",
      " 8   Balance          10000 non-null  float64\n",
      " 9   NumOfProducts    10000 non-null  int64  \n",
      " 10  HasCrCard        10000 non-null  int64  \n",
      " 11  IsActiveMember   10000 non-null  int64  \n",
      " 12  EstimatedSalary  10000 non-null  float64\n",
      " 13  Exited           10000 non-null  int64  \n",
      "dtypes: float64(3), int64(8), object(3)\n",
      "memory usage: 1.1+ MB\n"
     ]
    }
   ],
   "source": [
    "data.info()"
   ]
  },
  {
   "cell_type": "code",
   "execution_count": 9,
   "metadata": {
    "colab": {
     "base_uri": "https://localhost:8080/",
     "height": 204
    },
    "colab_type": "code",
    "id": "oxdp3i9rl227",
    "outputId": "48688b77-bf68-4dcb-aa89-8acd7ddbb3ac"
   },
   "outputs": [
    {
     "data": {
      "text/html": [
       "<div>\n",
       "<style scoped>\n",
       "    .dataframe tbody tr th:only-of-type {\n",
       "        vertical-align: middle;\n",
       "    }\n",
       "\n",
       "    .dataframe tbody tr th {\n",
       "        vertical-align: top;\n",
       "    }\n",
       "\n",
       "    .dataframe thead th {\n",
       "        text-align: right;\n",
       "    }\n",
       "</style>\n",
       "<table border=\"1\" class=\"dataframe\">\n",
       "  <thead>\n",
       "    <tr style=\"text-align: right;\">\n",
       "      <th></th>\n",
       "      <th>RowNumber</th>\n",
       "      <th>CustomerId</th>\n",
       "      <th>Surname</th>\n",
       "      <th>CreditScore</th>\n",
       "      <th>Geography</th>\n",
       "      <th>Gender</th>\n",
       "      <th>Age</th>\n",
       "      <th>Tenure</th>\n",
       "      <th>Balance</th>\n",
       "      <th>NumOfProducts</th>\n",
       "      <th>HasCrCard</th>\n",
       "      <th>IsActiveMember</th>\n",
       "      <th>EstimatedSalary</th>\n",
       "      <th>Exited</th>\n",
       "    </tr>\n",
       "  </thead>\n",
       "  <tbody>\n",
       "    <tr>\n",
       "      <th>0</th>\n",
       "      <td>1</td>\n",
       "      <td>15634602</td>\n",
       "      <td>Hargrave</td>\n",
       "      <td>619</td>\n",
       "      <td>France</td>\n",
       "      <td>Female</td>\n",
       "      <td>42</td>\n",
       "      <td>2.0</td>\n",
       "      <td>0.00</td>\n",
       "      <td>1</td>\n",
       "      <td>1</td>\n",
       "      <td>1</td>\n",
       "      <td>101348.88</td>\n",
       "      <td>1</td>\n",
       "    </tr>\n",
       "    <tr>\n",
       "      <th>1</th>\n",
       "      <td>2</td>\n",
       "      <td>15647311</td>\n",
       "      <td>Hill</td>\n",
       "      <td>608</td>\n",
       "      <td>Spain</td>\n",
       "      <td>Female</td>\n",
       "      <td>41</td>\n",
       "      <td>1.0</td>\n",
       "      <td>83807.86</td>\n",
       "      <td>1</td>\n",
       "      <td>0</td>\n",
       "      <td>1</td>\n",
       "      <td>112542.58</td>\n",
       "      <td>0</td>\n",
       "    </tr>\n",
       "    <tr>\n",
       "      <th>2</th>\n",
       "      <td>3</td>\n",
       "      <td>15619304</td>\n",
       "      <td>Onio</td>\n",
       "      <td>502</td>\n",
       "      <td>France</td>\n",
       "      <td>Female</td>\n",
       "      <td>42</td>\n",
       "      <td>8.0</td>\n",
       "      <td>159660.80</td>\n",
       "      <td>3</td>\n",
       "      <td>1</td>\n",
       "      <td>0</td>\n",
       "      <td>113931.57</td>\n",
       "      <td>1</td>\n",
       "    </tr>\n",
       "    <tr>\n",
       "      <th>3</th>\n",
       "      <td>4</td>\n",
       "      <td>15701354</td>\n",
       "      <td>Boni</td>\n",
       "      <td>699</td>\n",
       "      <td>France</td>\n",
       "      <td>Female</td>\n",
       "      <td>39</td>\n",
       "      <td>1.0</td>\n",
       "      <td>0.00</td>\n",
       "      <td>2</td>\n",
       "      <td>0</td>\n",
       "      <td>0</td>\n",
       "      <td>93826.63</td>\n",
       "      <td>0</td>\n",
       "    </tr>\n",
       "    <tr>\n",
       "      <th>4</th>\n",
       "      <td>5</td>\n",
       "      <td>15737888</td>\n",
       "      <td>Mitchell</td>\n",
       "      <td>850</td>\n",
       "      <td>Spain</td>\n",
       "      <td>Female</td>\n",
       "      <td>43</td>\n",
       "      <td>2.0</td>\n",
       "      <td>125510.82</td>\n",
       "      <td>1</td>\n",
       "      <td>1</td>\n",
       "      <td>1</td>\n",
       "      <td>79084.10</td>\n",
       "      <td>0</td>\n",
       "    </tr>\n",
       "  </tbody>\n",
       "</table>\n",
       "</div>"
      ],
      "text/plain": [
       "   RowNumber  CustomerId   Surname  CreditScore Geography  Gender  Age  \\\n",
       "0          1    15634602  Hargrave          619    France  Female   42   \n",
       "1          2    15647311      Hill          608     Spain  Female   41   \n",
       "2          3    15619304      Onio          502    France  Female   42   \n",
       "3          4    15701354      Boni          699    France  Female   39   \n",
       "4          5    15737888  Mitchell          850     Spain  Female   43   \n",
       "\n",
       "   Tenure    Balance  NumOfProducts  HasCrCard  IsActiveMember  \\\n",
       "0     2.0       0.00              1          1               1   \n",
       "1     1.0   83807.86              1          0               1   \n",
       "2     8.0  159660.80              3          1               0   \n",
       "3     1.0       0.00              2          0               0   \n",
       "4     2.0  125510.82              1          1               1   \n",
       "\n",
       "   EstimatedSalary  Exited  \n",
       "0        101348.88       1  \n",
       "1        112542.58       0  \n",
       "2        113931.57       1  \n",
       "3         93826.63       0  \n",
       "4         79084.10       0  "
      ]
     },
     "execution_count": 9,
     "metadata": {},
     "output_type": "execute_result"
    }
   ],
   "source": [
    "data.head(5)"
   ]
  },
  {
   "cell_type": "code",
   "execution_count": 10,
   "metadata": {
    "colab": {},
    "colab_type": "code",
    "id": "9xdWkSq5l23E"
   },
   "outputs": [],
   "source": [
    "def change_case(str): \n",
    "    \"\"\"From camel case to snake case\"\"\"\n",
    "      \n",
    "    return ''.join(['_'+i.lower() if i.isupper() else i for i in str]).lstrip('_') \n",
    "\n",
    "data.columns = map(change_case, data.columns)"
   ]
  },
  {
   "cell_type": "markdown",
   "metadata": {
    "colab_type": "text",
    "id": "SnbvXDwSl23L"
   },
   "source": [
    "Столбцы приведены к нижнему регистру, для удобства и соответствия PEP8."
   ]
  },
  {
   "cell_type": "code",
   "execution_count": 11,
   "metadata": {
    "colab": {},
    "colab_type": "code",
    "id": "L2fMBUl6l23M"
   },
   "outputs": [],
   "source": [
    "data = pd.get_dummies(data, columns=['geography'], dtype='int', prefix_sep='')\n",
    "data = pd.get_dummies(data, columns=['gender'], dtype='int', drop_first=True, prefix_sep='')\n",
    "\n",
    "data.columns = map(change_case, data.columns)\n",
    "data.rename(columns={'gender_male': 'is_male'}, inplace=True)\n",
    "\n",
    "data = data[['row_number', \n",
    "             'customer_id', \n",
    "             'surname', \n",
    "             'credit_score', \n",
    "             'geography_france', \n",
    "             'geography_germany', \n",
    "             'geography_spain',\n",
    "             'is_male',\n",
    "             'age', \n",
    "             'tenure', \n",
    "             'balance', \n",
    "             'num_of_products', \n",
    "             'has_cr_card', \n",
    "             'is_active_member', \n",
    "             'estimated_salary', \n",
    "             'exited']]"
   ]
  },
  {
   "cell_type": "markdown",
   "metadata": {
    "colab_type": "text",
    "id": "-agcYwTJl23U"
   },
   "source": [
    "В данных есть не существенные в данном прогнозе столбцы. `row_number` дублирует индексный столбец. Столбец `surname` являются персональными данными, так же не существенный в прогнозе."
   ]
  },
  {
   "cell_type": "code",
   "execution_count": 12,
   "metadata": {
    "colab": {
     "base_uri": "https://localhost:8080/",
     "height": 34
    },
    "colab_type": "code",
    "id": "TggQHcyNl23V",
    "outputId": "56106946-362c-40fe-cb73-df7f9a4b385a"
   },
   "outputs": [
    {
     "data": {
      "text/plain": [
       "(10000,)"
      ]
     },
     "execution_count": 12,
     "metadata": {},
     "output_type": "execute_result"
    }
   ],
   "source": [
    "data['customer_id'].unique().shape"
   ]
  },
  {
   "cell_type": "markdown",
   "metadata": {
    "colab_type": "text",
    "id": "WR0rYf4kl23c"
   },
   "source": [
    "Так как поле `customer_id` уникально, значит данных 10_000 уникальных клиентов. Это поле не существенно для прогноза."
   ]
  },
  {
   "cell_type": "code",
   "execution_count": 13,
   "metadata": {
    "colab": {},
    "colab_type": "code",
    "id": "mbgfboPPl23e"
   },
   "outputs": [],
   "source": [
    "data.loc[data['tenure'].isna(), 'tenure'] = data.loc[data['tenure'].isna() == False, 'tenure'].median()"
   ]
  },
  {
   "cell_type": "markdown",
   "metadata": {
    "colab_type": "text",
    "id": "Q4bGcrohl23k"
   },
   "source": [
    "Признак количества недвижимости у клиента содержит пропуски, можно заменить их на значение медианы."
   ]
  },
  {
   "cell_type": "code",
   "execution_count": 14,
   "metadata": {
    "colab": {},
    "colab_type": "code",
    "id": "Lc7CDEtSl23l"
   },
   "outputs": [],
   "source": [
    "scaler_columns = data.drop(columns=['row_number', \n",
    "                                    'customer_id', \n",
    "                                    'surname', \n",
    "                                    'geography_france', \n",
    "                                    'geography_germany', \n",
    "                                    'geography_spain', \n",
    "                                    'is_male', \n",
    "                                    'has_cr_card', \n",
    "                                    'is_active_member', \n",
    "                                    'exited']).columns.to_list()\n",
    "\n",
    "scaler = StandardScaler()\n",
    "data.loc[:, scaler_columns] = pd.DataFrame(scaler.fit_transform(data.loc[:, scaler_columns]), index=data.index, columns=scaler_columns)"
   ]
  },
  {
   "cell_type": "code",
   "execution_count": 15,
   "metadata": {
    "colab": {
     "base_uri": "https://localhost:8080/",
     "height": 224
    },
    "colab_type": "code",
    "id": "ovRUepwAl23q",
    "outputId": "5c6a3276-3f29-43d2-9caf-90e5ec726cd4"
   },
   "outputs": [
    {
     "data": {
      "text/html": [
       "<div>\n",
       "<style scoped>\n",
       "    .dataframe tbody tr th:only-of-type {\n",
       "        vertical-align: middle;\n",
       "    }\n",
       "\n",
       "    .dataframe tbody tr th {\n",
       "        vertical-align: top;\n",
       "    }\n",
       "\n",
       "    .dataframe thead th {\n",
       "        text-align: right;\n",
       "    }\n",
       "</style>\n",
       "<table border=\"1\" class=\"dataframe\">\n",
       "  <thead>\n",
       "    <tr style=\"text-align: right;\">\n",
       "      <th></th>\n",
       "      <th>row_number</th>\n",
       "      <th>customer_id</th>\n",
       "      <th>surname</th>\n",
       "      <th>credit_score</th>\n",
       "      <th>geography_france</th>\n",
       "      <th>geography_germany</th>\n",
       "      <th>geography_spain</th>\n",
       "      <th>is_male</th>\n",
       "      <th>age</th>\n",
       "      <th>tenure</th>\n",
       "      <th>balance</th>\n",
       "      <th>num_of_products</th>\n",
       "      <th>has_cr_card</th>\n",
       "      <th>is_active_member</th>\n",
       "      <th>estimated_salary</th>\n",
       "      <th>exited</th>\n",
       "    </tr>\n",
       "  </thead>\n",
       "  <tbody>\n",
       "    <tr>\n",
       "      <th>0</th>\n",
       "      <td>1</td>\n",
       "      <td>15634602</td>\n",
       "      <td>Hargrave</td>\n",
       "      <td>-0.326221</td>\n",
       "      <td>1</td>\n",
       "      <td>0</td>\n",
       "      <td>0</td>\n",
       "      <td>0</td>\n",
       "      <td>0.293517</td>\n",
       "      <td>-1.086246</td>\n",
       "      <td>-1.225848</td>\n",
       "      <td>-0.911583</td>\n",
       "      <td>1</td>\n",
       "      <td>1</td>\n",
       "      <td>0.021886</td>\n",
       "      <td>1</td>\n",
       "    </tr>\n",
       "    <tr>\n",
       "      <th>1</th>\n",
       "      <td>2</td>\n",
       "      <td>15647311</td>\n",
       "      <td>Hill</td>\n",
       "      <td>-0.440036</td>\n",
       "      <td>0</td>\n",
       "      <td>0</td>\n",
       "      <td>1</td>\n",
       "      <td>0</td>\n",
       "      <td>0.198164</td>\n",
       "      <td>-1.448581</td>\n",
       "      <td>0.117350</td>\n",
       "      <td>-0.911583</td>\n",
       "      <td>0</td>\n",
       "      <td>1</td>\n",
       "      <td>0.216534</td>\n",
       "      <td>0</td>\n",
       "    </tr>\n",
       "    <tr>\n",
       "      <th>2</th>\n",
       "      <td>3</td>\n",
       "      <td>15619304</td>\n",
       "      <td>Onio</td>\n",
       "      <td>-1.536794</td>\n",
       "      <td>1</td>\n",
       "      <td>0</td>\n",
       "      <td>0</td>\n",
       "      <td>0</td>\n",
       "      <td>0.293517</td>\n",
       "      <td>1.087768</td>\n",
       "      <td>1.333053</td>\n",
       "      <td>2.527057</td>\n",
       "      <td>1</td>\n",
       "      <td>0</td>\n",
       "      <td>0.240687</td>\n",
       "      <td>1</td>\n",
       "    </tr>\n",
       "    <tr>\n",
       "      <th>3</th>\n",
       "      <td>4</td>\n",
       "      <td>15701354</td>\n",
       "      <td>Boni</td>\n",
       "      <td>0.501521</td>\n",
       "      <td>1</td>\n",
       "      <td>0</td>\n",
       "      <td>0</td>\n",
       "      <td>0</td>\n",
       "      <td>0.007457</td>\n",
       "      <td>-1.448581</td>\n",
       "      <td>-1.225848</td>\n",
       "      <td>0.807737</td>\n",
       "      <td>0</td>\n",
       "      <td>0</td>\n",
       "      <td>-0.108918</td>\n",
       "      <td>0</td>\n",
       "    </tr>\n",
       "    <tr>\n",
       "      <th>4</th>\n",
       "      <td>5</td>\n",
       "      <td>15737888</td>\n",
       "      <td>Mitchell</td>\n",
       "      <td>2.063884</td>\n",
       "      <td>0</td>\n",
       "      <td>0</td>\n",
       "      <td>1</td>\n",
       "      <td>0</td>\n",
       "      <td>0.388871</td>\n",
       "      <td>-1.086246</td>\n",
       "      <td>0.785728</td>\n",
       "      <td>-0.911583</td>\n",
       "      <td>1</td>\n",
       "      <td>1</td>\n",
       "      <td>-0.365276</td>\n",
       "      <td>0</td>\n",
       "    </tr>\n",
       "  </tbody>\n",
       "</table>\n",
       "</div>"
      ],
      "text/plain": [
       "   row_number  customer_id   surname  credit_score  geography_france  \\\n",
       "0           1     15634602  Hargrave     -0.326221                 1   \n",
       "1           2     15647311      Hill     -0.440036                 0   \n",
       "2           3     15619304      Onio     -1.536794                 1   \n",
       "3           4     15701354      Boni      0.501521                 1   \n",
       "4           5     15737888  Mitchell      2.063884                 0   \n",
       "\n",
       "   geography_germany  geography_spain  is_male       age    tenure   balance  \\\n",
       "0                  0                0        0  0.293517 -1.086246 -1.225848   \n",
       "1                  0                1        0  0.198164 -1.448581  0.117350   \n",
       "2                  0                0        0  0.293517  1.087768  1.333053   \n",
       "3                  0                0        0  0.007457 -1.448581 -1.225848   \n",
       "4                  0                1        0  0.388871 -1.086246  0.785728   \n",
       "\n",
       "   num_of_products  has_cr_card  is_active_member  estimated_salary  exited  \n",
       "0        -0.911583            1                 1          0.021886       1  \n",
       "1        -0.911583            0                 1          0.216534       0  \n",
       "2         2.527057            1                 0          0.240687       1  \n",
       "3         0.807737            0                 0         -0.108918       0  \n",
       "4        -0.911583            1                 1         -0.365276       0  "
      ]
     },
     "execution_count": 15,
     "metadata": {},
     "output_type": "execute_result"
    }
   ],
   "source": [
    "data.head()"
   ]
  },
  {
   "cell_type": "markdown",
   "metadata": {
    "colab_type": "text",
    "id": "d2Uk-LKxl23v"
   },
   "source": [
    "## 2. Исследование задачи"
   ]
  },
  {
   "cell_type": "code",
   "execution_count": 16,
   "metadata": {
    "colab": {},
    "colab_type": "code",
    "id": "jHDf9Kjml23w"
   },
   "outputs": [],
   "source": [
    "features = data.drop(columns=['customer_id', 'row_number', 'surname', 'exited'], axis=1)\n",
    "target = data['exited']\n",
    "\n",
    "features_train, features_valid, target_train, target_valid = train_test_split(features, target, test_size=0.4, random_state=123456)\n",
    "features_valid, features_test, target_valid, target_test = train_test_split(features_valid, target_valid, test_size=0.5, random_state=123456)"
   ]
  },
  {
   "cell_type": "markdown",
   "metadata": {
    "colab_type": "text",
    "id": "BrTLmmBTl232"
   },
   "source": [
    "### 2.1 Исследование баланса классов"
   ]
  },
  {
   "cell_type": "code",
   "execution_count": 17,
   "metadata": {
    "colab": {
     "base_uri": "https://localhost:8080/",
     "height": 265
    },
    "colab_type": "code",
    "id": "pugeBGRQl233",
    "outputId": "513d0563-c307-438b-d94c-27ead65ad0e1"
   },
   "outputs": [
    {
     "data": {
      "image/png": "[encoded data removed]",
      "text/plain": [
       "<Figure size 432x288 with 1 Axes>"
      ]
     },
     "metadata": {
      "needs_background": "light"
     },
     "output_type": "display_data"
    }
   ],
   "source": [
    "exited_counts = data['exited'].value_counts()\n",
    "exited_counts.plot(kind='bar', legend=['факт ухода клиента'])\n",
    "\n",
    "plt.xticks(ticks=exited_counts.index, labels=['Клиент остался', 'Клиент ушел'], rotation=0)\n",
    "plt.show()"
   ]
  },
  {
   "cell_type": "code",
   "execution_count": 18,
   "metadata": {
    "colab": {
     "base_uri": "https://localhost:8080/",
     "height": 34
    },
    "colab_type": "code",
    "id": "g4Mv27uZl238",
    "outputId": "c83a935c-94f5-4e29-e5e6-13d2c95bc53c"
   },
   "outputs": [
    {
     "name": "stdout",
     "output_type": "stream",
     "text": [
      "Соотношение оставшихся клиентов к ушедшим: 0.26\n"
     ]
    }
   ],
   "source": [
    "print(f'Соотношение оставшихся клиентов к ушедшим: {(exited_counts[1] / exited_counts[0]):0.2f}')"
   ]
  },
  {
   "cell_type": "code",
   "execution_count": 19,
   "metadata": {
    "colab": {
     "base_uri": "https://localhost:8080/",
     "height": 68
    },
    "colab_type": "code",
    "id": "9igPg9pTl24B",
    "outputId": "32445018-2ae5-440c-9fbe-8c5611a8cb5a"
   },
   "outputs": [
    {
     "name": "stdout",
     "output_type": "stream",
     "text": [
      "LogisticRegression: F1-score = 0.26, AUC-ROC = 0.77\n",
      "[[1522   57]\n",
      " [ 348   73]]\n"
     ]
    }
   ],
   "source": [
    "model_lr = LogisticRegression(random_state=123456, solver='lbfgs')\n",
    "model_lr.fit(features_train, target_train)\n",
    "\n",
    "predicted_valid_lr = model_lr.predict(features_valid)\n",
    "\n",
    "probabilities_valid_lr = model_lr.predict_proba(features_valid)\n",
    "probabilities_one_valid_lr = probabilities_valid_lr[:, 1]\n",
    "\n",
    "roc_auc_lr = roc_auc_score(target_valid, probabilities_one_valid_lr)\n",
    "f1_lr = f1_score(target_valid, predicted_valid_lr)\n",
    "\n",
    "print(f'{type(model_lr).__name__}: F1-score = {f1_lr:0.2f}, AUC-ROC = {roc_auc_lr:0.2f}')\n",
    "\n",
    "print(confusion_matrix(target_valid, predicted_valid_lr))"
   ]
  },
  {
   "cell_type": "code",
   "execution_count": 20,
   "metadata": {
    "colab": {
     "base_uri": "https://localhost:8080/",
     "height": 68
    },
    "colab_type": "code",
    "id": "aq9QIbT2l24G",
    "outputId": "51bc11ac-22e2-4237-f42f-ac055bce5c2b"
   },
   "outputs": [
    {
     "name": "stdout",
     "output_type": "stream",
     "text": [
      "DecisionTreeClassifier: F1-score = 0.46, AUC-ROC = 0.65\n",
      "[[1367  212]\n",
      " [ 234  187]]\n"
     ]
    }
   ],
   "source": [
    "model_dt = DecisionTreeClassifier(random_state=123456)\n",
    "model_dt.fit(features_train, target_train)\n",
    "\n",
    "predicted_valid_dt = model_dt.predict(features_valid)\n",
    "\n",
    "probabilities_valid_dt = model_dt.predict_proba(features_valid)\n",
    "probabilities_one_valid_dt = probabilities_valid_dt[:, 1]\n",
    "\n",
    "roc_auc_dt = roc_auc_score(target_valid, probabilities_one_valid_dt)\n",
    "f1_dt = f1_score(target_valid, predicted_valid_dt)\n",
    "\n",
    "print(f'{type(model_dt).__name__}: F1-score = {f1_dt:0.2f}, AUC-ROC = {roc_auc_dt:0.2f}')\n",
    "\n",
    "print(confusion_matrix(target_valid, predicted_valid_dt))"
   ]
  },
  {
   "cell_type": "code",
   "execution_count": 21,
   "metadata": {
    "colab": {
     "base_uri": "https://localhost:8080/",
     "height": 68
    },
    "colab_type": "code",
    "id": "nrJtmh4rl24J",
    "outputId": "b016a41e-82bb-4da6-e1b3-81ab7fef8a5f"
   },
   "outputs": [
    {
     "name": "stdout",
     "output_type": "stream",
     "text": [
      "RandomForestClassifier: F1-score = 0.55, AUC-ROC = 0.85\n",
      "[[1528   51]\n",
      " [ 244  177]]\n"
     ]
    }
   ],
   "source": [
    "model_rf = RandomForestClassifier(n_estimators=100, random_state=123456)\n",
    "model_rf.fit(features_train, target_train)\n",
    "\n",
    "predicted_valid_rf = model_rf.predict(features_valid)\n",
    "\n",
    "probabilities_valid_rf = model_rf.predict_proba(features_valid)\n",
    "probabilities_one_valid_rf = probabilities_valid_rf[:, 1]\n",
    "\n",
    "roc_auc_rf = roc_auc_score(target_valid, probabilities_one_valid_rf)\n",
    "f1_rf = f1_score(target_valid, predicted_valid_rf)\n",
    "\n",
    "print(f'{type(model_rf).__name__}: F1-score = {f1_rf:0.2f}, AUC-ROC = {roc_auc_rf:0.2f}')\n",
    "\n",
    "print(confusion_matrix(target_valid, predicted_valid_rf))"
   ]
  },
  {
   "cell_type": "code",
   "execution_count": null,
   "metadata": {
    "colab": {
     "base_uri": "https://localhost:8080/",
     "height": 340
    },
    "colab_type": "code",
    "id": "SUbYIl3Wl24M",
    "outputId": "8d596797-619f-47a7-a795-4fe2fceed315"
   },
   "outputs": [],
   "source": [
    "train_pool = Pool(features_train, target_train)\n",
    "valid_pool = Pool(features_valid, target_valid)\n",
    "\n",
    "cat_model = CatBoostClassifier(iterations=1000, eval_metric='F1', random_state=123456)\n",
    "cat_model.fit(train_pool, eval_set=valid_pool, verbose=100)\n",
    "\n",
    "predicted_valid_cat = cat_model.predict(features_valid)\n",
    "\n",
    "probabilities_valid_cat = cat_model.predict_proba(features_valid)\n",
    "probabilities_one_valid_cat = probabilities_valid_cat[:, 1]\n",
    "\n",
    "roc_auc_cat = roc_auc_score(target_valid, probabilities_one_valid_cat)\n",
    "\n",
    "print()\n",
    "print(f'{type(cat_model).__name__}: AUC-ROC = {roc_auc_cat:0.2f}')"
   ]
  },
  {
   "cell_type": "markdown",
   "metadata": {
    "colab_type": "text",
    "id": "qOzL-YQ_l24Q"
   },
   "source": [
    "Обучив несколько моделей определил что требуемого значения F1-меры не получить без учета дисбаланса классов. \n",
    "\n",
    "Сравнение F1-меры и AUC-ROC показывает, что величина AUC-ROC не подходит для измерения качества моделей на разбалансированных данных. Вероятная причина: ложноположительный показатель для сильно несбалансированных наборов данных снижается из-за большого количества истинно ложных результатов."
   ]
  },
  {
   "cell_type": "markdown",
   "metadata": {
    "colab_type": "text",
    "id": "6AUzHjHml24R"
   },
   "source": [
    "## 3. Борьба с дисбалансом"
   ]
  },
  {
   "cell_type": "markdown",
   "metadata": {
    "colab_type": "text",
    "id": "rnXmAYKJl24S"
   },
   "source": [
    "### 3.1 Увеличение выборки"
   ]
  },
  {
   "cell_type": "code",
   "execution_count": 22,
   "metadata": {
    "colab": {},
    "colab_type": "code",
    "id": "pkBt3o8Sl24S"
   },
   "outputs": [],
   "source": [
    "def upsample(features, target, repeat):\n",
    "    features_zeros = features[target == 0]\n",
    "    features_ones = features[target == 1]\n",
    "    target_zeros = target[target == 0]\n",
    "    target_ones = target[target == 1]\n",
    "    \n",
    "    sample = len(features_ones) * repeat\n",
    "    \n",
    "    features_ones = resample(features_ones, replace=True, n_samples=sample, random_state=123456)\n",
    "    target_ones = resample(target_ones, replace=True, n_samples=sample, random_state=123456)\n",
    "    \n",
    "    features_upsampled = pd.concat([features_zeros, features_ones])\n",
    "    target_upsampled = pd.concat([target_zeros, target_ones])\n",
    "\n",
    "    return features_upsampled, target_upsampled"
   ]
  },
  {
   "cell_type": "code",
   "execution_count": 23,
   "metadata": {
    "colab": {
     "base_uri": "https://localhost:8080/",
     "height": 51
    },
    "colab_type": "code",
    "id": "ClcxX2Mbl24W",
    "outputId": "c07c6fb7-cd1c-42f6-bb54-3c20d41930a8"
   },
   "outputs": [
    {
     "name": "stdout",
     "output_type": "stream",
     "text": [
      "(4786,)\n",
      "(1214,)\n"
     ]
    }
   ],
   "source": [
    "print(target_train[target_train == 0].shape)\n",
    "print(target_train[target_train == 1].shape)"
   ]
  },
  {
   "cell_type": "code",
   "execution_count": 24,
   "metadata": {
    "colab": {
     "base_uri": "https://localhost:8080/",
     "height": 51
    },
    "colab_type": "code",
    "id": "BJiMgkJwl24Z",
    "outputId": "ddfa2fa4-bb3e-4bbd-b54e-4b21111a0381"
   },
   "outputs": [
    {
     "name": "stdout",
     "output_type": "stream",
     "text": [
      "4786\n",
      "4856\n"
     ]
    }
   ],
   "source": [
    "features_upsampled, target_upsampled = upsample(features_train, target_train, 4)\n",
    "\n",
    "print(len(features_upsampled[target_upsampled == 0]))\n",
    "print(len(features_upsampled[target_upsampled == 1]))"
   ]
  },
  {
   "cell_type": "code",
   "execution_count": 25,
   "metadata": {
    "colab": {
     "base_uri": "https://localhost:8080/",
     "height": 34
    },
    "colab_type": "code",
    "id": "HsU5Ie6Ql24c",
    "outputId": "12b8b889-760a-4306-9813-e49640347f51"
   },
   "outputs": [
    {
     "name": "stdout",
     "output_type": "stream",
     "text": [
      "LogisticRegression: F1-score = 0.51, AUC-ROC = 0.77\n"
     ]
    }
   ],
   "source": [
    "model_lr = LogisticRegression(random_state=123456, solver='lbfgs')\n",
    "model_lr.fit(features_upsampled, target_upsampled)\n",
    "\n",
    "predicted_valid_lr = model_lr.predict(features_valid)\n",
    "\n",
    "probabilities_valid_lr = model_lr.predict_proba(features_valid)\n",
    "probabilities_one_valid_lr = probabilities_valid_lr[:, 1]\n",
    "\n",
    "roc_auc_lr = roc_auc_score(target_valid, probabilities_one_valid_lr)\n",
    "f1_lr = f1_score(target_valid, predicted_valid_lr)\n",
    "\n",
    "print(f'{type(model_lr).__name__}: F1-score = {f1_lr:0.2f}, AUC-ROC = {roc_auc_lr:0.2f}')"
   ]
  },
  {
   "cell_type": "code",
   "execution_count": 26,
   "metadata": {
    "colab": {
     "base_uri": "https://localhost:8080/",
     "height": 34
    },
    "colab_type": "code",
    "id": "7lbTu106l24f",
    "outputId": "ba388be8-ad78-42f0-9090-3d1abe45fb82"
   },
   "outputs": [
    {
     "name": "stdout",
     "output_type": "stream",
     "text": [
      "DecisionTreeClassifier: F1-score = 0.48, AUC-ROC = 0.67\n"
     ]
    }
   ],
   "source": [
    "model_dt = DecisionTreeClassifier(random_state=123456)\n",
    "model_dt.fit(features_upsampled, target_upsampled)\n",
    "\n",
    "predicted_valid_dt = model_dt.predict(features_valid)\n",
    "\n",
    "probabilities_valid_dt = model_dt.predict_proba(features_valid)\n",
    "probabilities_one_valid_dt = probabilities_valid_dt[:, 1]\n",
    "\n",
    "roc_auc_dt = roc_auc_score(target_valid, probabilities_one_valid_dt)\n",
    "f1_dt = f1_score(target_valid, predicted_valid_dt)\n",
    "\n",
    "print(f'{type(model_dt).__name__}: F1-score = {f1_dt:0.2f}, AUC-ROC = {roc_auc_dt:0.2f}')"
   ]
  },
  {
   "cell_type": "code",
   "execution_count": 27,
   "metadata": {
    "colab": {
     "base_uri": "https://localhost:8080/",
     "height": 34
    },
    "colab_type": "code",
    "id": "7jHwjKtfl24i",
    "outputId": "bf1e2c21-a3fa-4948-c349-24a91371349f"
   },
   "outputs": [
    {
     "name": "stdout",
     "output_type": "stream",
     "text": [
      "RandomForestClassifier: F1-score = 0.58, AUC-ROC = 0.85\n"
     ]
    }
   ],
   "source": [
    "model_rf = RandomForestClassifier(n_estimators=100, random_state=123456)\n",
    "model_rf.fit(features_upsampled, target_upsampled)\n",
    "\n",
    "predicted_valid_rf = model_rf.predict(features_valid)\n",
    "\n",
    "probabilities_valid_rf = model_rf.predict_proba(features_valid)\n",
    "probabilities_one_valid_rf = probabilities_valid_rf[:, 1]\n",
    "\n",
    "roc_auc_rf = roc_auc_score(target_valid, probabilities_one_valid_rf)\n",
    "f1_rf = f1_score(target_valid, predicted_valid_rf)\n",
    "\n",
    "print(f'{type(model_rf).__name__}: F1-score = {f1_rf:0.2f}, AUC-ROC = {roc_auc_rf:0.2f}')"
   ]
  },
  {
   "cell_type": "code",
   "execution_count": 28,
   "metadata": {
    "colab": {
     "base_uri": "https://localhost:8080/",
     "height": 340
    },
    "colab_type": "code",
    "id": "kuP1t_ebl24m",
    "outputId": "fb4265a9-70e7-4c6a-8a5c-f5f85276b59e"
   },
   "outputs": [
    {
     "name": "stdout",
     "output_type": "stream",
     "text": [
      "Learning rate set to 0.098989\n",
      "0:\tlearn: 0.7542869\ttest: 0.5722488\tbest: 0.5722488 (0)\ttotal: 55.6ms\tremaining: 55.5s\n",
      "100:\tlearn: 0.8614333\ttest: 0.6287487\tbest: 0.6337449 (88)\ttotal: 3.02s\tremaining: 26.9s\n",
      "200:\tlearn: 0.9163014\ttest: 0.6148867\tbest: 0.6337449 (88)\ttotal: 5.81s\tremaining: 23.1s\n",
      "300:\tlearn: 0.9448128\ttest: 0.6056497\tbest: 0.6337449 (88)\ttotal: 8.82s\tremaining: 20.5s\n",
      "400:\tlearn: 0.9608745\ttest: 0.6116838\tbest: 0.6337449 (88)\ttotal: 11.7s\tremaining: 17.4s\n",
      "500:\tlearn: 0.9744585\ttest: 0.6133960\tbest: 0.6337449 (88)\ttotal: 14.6s\tremaining: 14.5s\n",
      "600:\tlearn: 0.9827145\ttest: 0.6002401\tbest: 0.6337449 (88)\ttotal: 17.6s\tremaining: 11.7s\n",
      "700:\tlearn: 0.9886119\ttest: 0.5968331\tbest: 0.6337449 (88)\ttotal: 20.7s\tremaining: 8.81s\n",
      "800:\tlearn: 0.9916778\ttest: 0.5938650\tbest: 0.6337449 (88)\ttotal: 23.6s\tremaining: 5.86s\n",
      "900:\tlearn: 0.9948613\ttest: 0.5853051\tbest: 0.6337449 (88)\ttotal: 26.5s\tremaining: 2.92s\n",
      "999:\tlearn: 0.9971193\ttest: 0.5860349\tbest: 0.6337449 (88)\ttotal: 29.5s\tremaining: 0us\n",
      "\n",
      "bestTest = 0.633744856\n",
      "bestIteration = 88\n",
      "\n",
      "Shrink model to first 89 iterations.\n",
      "\n",
      "CatBoostClassifier: AUC-ROC = 0.87\n"
     ]
    }
   ],
   "source": [
    "train_pool = Pool(features_upsampled, target_upsampled)\n",
    "valid_pool = Pool(features_valid, target_valid)\n",
    "\n",
    "cat_model = CatBoostClassifier(iterations=1000, eval_metric='F1', random_state=123456)\n",
    "cat_model.fit(train_pool, eval_set=valid_pool, verbose=100)\n",
    "\n",
    "predicted_valid_cat = cat_model.predict(features_valid)\n",
    "\n",
    "probabilities_valid_cat = cat_model.predict_proba(features_valid)\n",
    "probabilities_one_valid_cat = probabilities_valid_cat[:, 1]\n",
    "\n",
    "roc_auc_cat = roc_auc_score(target_valid, probabilities_one_valid_cat)\n",
    "\n",
    "print()\n",
    "print(f'{type(cat_model).__name__}: AUC-ROC = {roc_auc_cat:0.2f}')"
   ]
  },
  {
   "cell_type": "markdown",
   "metadata": {
    "colab_type": "text",
    "id": "bambGmMpl24o"
   },
   "source": [
    "### 3.2 Уменьшение выборки"
   ]
  },
  {
   "cell_type": "code",
   "execution_count": 29,
   "metadata": {
    "colab": {},
    "colab_type": "code",
    "id": "WXWSDugMl24p"
   },
   "outputs": [],
   "source": [
    "def downsample(features, target, repeat):\n",
    "    features_zeros = features[target == 0]\n",
    "    features_ones = features[target == 1]\n",
    "    target_zeros = target[target == 0]\n",
    "    target_ones = target[target == 1]\n",
    "    \n",
    "    sample = int(len(features_zeros) * repeat)\n",
    "    \n",
    "    features_zeros = resample(features_zeros, replace=True, n_samples=sample, random_state=123456)\n",
    "    target_zeros = resample(target_zeros, replace=True, n_samples=sample, random_state=123456)\n",
    "    \n",
    "    features_downsampled = pd.concat([features_zeros, features_ones])\n",
    "    target_downsampled = pd.concat([target_zeros, target_ones])\n",
    "\n",
    "    return features_downsampled, target_downsampled"
   ]
  },
  {
   "cell_type": "code",
   "execution_count": 30,
   "metadata": {
    "colab": {
     "base_uri": "https://localhost:8080/",
     "height": 51
    },
    "colab_type": "code",
    "id": "QTxOHhzml24r",
    "outputId": "30541920-0fed-4919-c8aa-6f82f862e94e"
   },
   "outputs": [
    {
     "name": "stdout",
     "output_type": "stream",
     "text": [
      "(1914, 12)\n",
      "(1214, 12)\n"
     ]
    }
   ],
   "source": [
    "features_downsampled, target_downsampled = downsample(features_train, target_train, 0.4)\n",
    "\n",
    "print(features_downsampled[target_downsampled == 0].shape)\n",
    "print(features_downsampled[target_downsampled == 1].shape)"
   ]
  },
  {
   "cell_type": "code",
   "execution_count": 31,
   "metadata": {
    "colab": {
     "base_uri": "https://localhost:8080/",
     "height": 34
    },
    "colab_type": "code",
    "id": "jDn0fSBel24u",
    "outputId": "99f84244-9c8a-4d57-99df-07b086759498"
   },
   "outputs": [
    {
     "name": "stdout",
     "output_type": "stream",
     "text": [
      "LogisticRegression: F1-score = 0.49, AUC-ROC = 0.77\n"
     ]
    }
   ],
   "source": [
    "model_lr = LogisticRegression(random_state=123456, solver='lbfgs')\n",
    "model_lr.fit(features_downsampled, target_downsampled)\n",
    "\n",
    "predicted_valid_lr = model_lr.predict(features_valid)\n",
    "\n",
    "probabilities_valid_lr = model_lr.predict_proba(features_valid)\n",
    "probabilities_one_valid_lr = probabilities_valid_lr[:, 1]\n",
    "\n",
    "roc_auc_lr = roc_auc_score(target_valid, probabilities_one_valid_lr)\n",
    "f1_lr = f1_score(target_valid, predicted_valid_lr)\n",
    "\n",
    "print(f'{type(model_lr).__name__}: F1-score = {f1_lr:0.2f}, AUC-ROC = {roc_auc_lr:0.2f}')"
   ]
  },
  {
   "cell_type": "code",
   "execution_count": 32,
   "metadata": {
    "colab": {
     "base_uri": "https://localhost:8080/",
     "height": 34
    },
    "colab_type": "code",
    "id": "xeVJZzf3l24x",
    "outputId": "6c4429dc-8e62-416f-9e10-3ff9bc07e80d"
   },
   "outputs": [
    {
     "name": "stdout",
     "output_type": "stream",
     "text": [
      "DecisionTreeClassifier: F1-score = 0.52, AUC-ROC = 0.71\n"
     ]
    }
   ],
   "source": [
    "model_dt = DecisionTreeClassifier(random_state=123456)\n",
    "model_dt.fit(features_downsampled, target_downsampled)\n",
    "\n",
    "predicted_valid_dt = model_dt.predict(features_valid)\n",
    "\n",
    "probabilities_valid_dt = model_dt.predict_proba(features_valid)\n",
    "probabilities_one_valid_dt = probabilities_valid_dt[:, 1]\n",
    "\n",
    "roc_auc_dt = roc_auc_score(target_valid, probabilities_one_valid_dt)\n",
    "f1_dt = f1_score(target_valid, predicted_valid_dt)\n",
    "\n",
    "print(f'{type(model_dt).__name__}: F1-score = {f1_dt:0.2f}, AUC-ROC = {roc_auc_dt:0.2f}')"
   ]
  },
  {
   "cell_type": "code",
   "execution_count": 33,
   "metadata": {
    "colab": {
     "base_uri": "https://localhost:8080/",
     "height": 34
    },
    "colab_type": "code",
    "id": "paWcIPT1l240",
    "outputId": "78098164-084f-481a-8aa0-ef2c0147030b"
   },
   "outputs": [
    {
     "name": "stdout",
     "output_type": "stream",
     "text": [
      "RandomForestClassifier: F1 score = 0.62, AUC-ROC = 0.85\n"
     ]
    }
   ],
   "source": [
    "model_rf = RandomForestClassifier(random_state=123456, n_estimators=100)\n",
    "model_rf.fit(features_downsampled, target_downsampled)\n",
    "\n",
    "predicted_valid_rf = model_rf.predict(features_valid)\n",
    "\n",
    "probabilities_valid_rf = model_rf.predict_proba(features_valid)\n",
    "probabilities_one_valid_rf = probabilities_valid_rf[:, 1]\n",
    "\n",
    "roc_auc_rf = roc_auc_score(target_valid, probabilities_one_valid_rf)\n",
    "f1_rf = f1_score(target_valid, predicted_valid_rf)\n",
    "\n",
    "print(f'{type(model_rf).__name__}: F1 score = {f1_rf:0.2f}, AUC-ROC = {roc_auc_rf:0.2f}')"
   ]
  },
  {
   "cell_type": "code",
   "execution_count": 34,
   "metadata": {
    "colab": {
     "base_uri": "https://localhost:8080/",
     "height": 340
    },
    "colab_type": "code",
    "id": "UhvHm-oQl243",
    "outputId": "aa970eae-6676-42c4-cf96-c77f7c5cc01a"
   },
   "outputs": [
    {
     "name": "stdout",
     "output_type": "stream",
     "text": [
      "Learning rate set to 0.087954\n",
      "0:\tlearn: 0.7003793\ttest: 0.5672576\tbest: 0.5672576 (0)\ttotal: 3.79ms\tremaining: 3.79s\n",
      "100:\tlearn: 0.8080986\ttest: 0.6257110\tbest: 0.6337543 (88)\ttotal: 2.36s\tremaining: 21s\n",
      "200:\tlearn: 0.8845486\ttest: 0.6090713\tbest: 0.6337543 (88)\ttotal: 4.6s\tremaining: 18.3s\n",
      "300:\tlearn: 0.9204594\ttest: 0.6016771\tbest: 0.6337543 (88)\ttotal: 6.94s\tremaining: 16.1s\n",
      "400:\tlearn: 0.9503367\ttest: 0.5939772\tbest: 0.6337543 (88)\ttotal: 9.27s\tremaining: 13.8s\n",
      "500:\tlearn: 0.9664992\ttest: 0.5934292\tbest: 0.6337543 (88)\ttotal: 11.5s\tremaining: 11.5s\n",
      "600:\tlearn: 0.9850374\ttest: 0.5839268\tbest: 0.6337543 (88)\ttotal: 13.8s\tremaining: 9.18s\n",
      "700:\tlearn: 0.9913115\ttest: 0.5836735\tbest: 0.6337543 (88)\ttotal: 16.2s\tremaining: 6.89s\n",
      "800:\tlearn: 0.9975227\ttest: 0.5833333\tbest: 0.6337543 (88)\ttotal: 18.4s\tremaining: 4.57s\n",
      "900:\tlearn: 0.9975227\ttest: 0.5780933\tbest: 0.6337543 (88)\ttotal: 20.8s\tremaining: 2.29s\n",
      "999:\tlearn: 0.9991756\ttest: 0.5763747\tbest: 0.6337543 (88)\ttotal: 23.2s\tremaining: 0us\n",
      "\n",
      "bestTest = 0.6337543054\n",
      "bestIteration = 88\n",
      "\n",
      "Shrink model to first 89 iterations.\n",
      "\n",
      "CatBoostClassifier AUC-ROC = 0.87\n"
     ]
    }
   ],
   "source": [
    "train_pool = Pool(features_downsampled, target_downsampled)\n",
    "valid_pool = Pool(features_valid, target_valid)\n",
    "\n",
    "cat_model = CatBoostClassifier(iterations=1000, eval_metric='F1', random_state=123456)\n",
    "cat_model.fit(train_pool, eval_set=valid_pool, verbose=100)\n",
    "\n",
    "predicted_valid_cat = cat_model.predict(features_valid)\n",
    "\n",
    "probabilities_valid_cat = cat_model.predict_proba(features_valid)\n",
    "probabilities_one_valid_cat = probabilities_valid_cat[:, 1]\n",
    "\n",
    "roc_auc_cat = roc_auc_score(target_valid, probabilities_one_valid_cat)\n",
    "\n",
    "print()\n",
    "print(f'{type(cat_model).__name__} AUC-ROC = {roc_auc_cat:0.2f}')"
   ]
  },
  {
   "cell_type": "markdown",
   "metadata": {
    "colab_type": "text",
    "id": "_ZMvnFBll245"
   },
   "source": [
    "### 3.3 Изменение порога"
   ]
  },
  {
   "cell_type": "code",
   "execution_count": 35,
   "metadata": {
    "colab": {},
    "colab_type": "code",
    "id": "dmDOgcsal246"
   },
   "outputs": [],
   "source": [
    "def calc_threshold(probabilities):\n",
    "    result = []\n",
    "    \n",
    "    for threshold in np.arange(0, 0.3, 0.01):\n",
    "        predicted_valid = probabilities > threshold\n",
    "        \n",
    "        _f1_score = f1_score(target_valid, predicted_valid)\n",
    "        _roc_auc = roc_auc_score(target_valid, predicted_valid)\n",
    "        \n",
    "        scores_dict = {'threshold': threshold, 'f1_score': _f1_score, 'AUC-ROC': _roc_auc}\n",
    "        result.append(scores_dict)\n",
    "    \n",
    "    result.sort(key=lambda item: item['f1_score'], reverse=True)\n",
    "    return result[0]"
   ]
  },
  {
   "cell_type": "code",
   "execution_count": 36,
   "metadata": {
    "colab": {
     "base_uri": "https://localhost:8080/",
     "height": 34
    },
    "colab_type": "code",
    "id": "dmxU-olZl249",
    "outputId": "fcb3ad5a-5824-4761-cc04-57f9b8c05c47"
   },
   "outputs": [
    {
     "name": "stdout",
     "output_type": "stream",
     "text": [
      "LogisticRegression: Порог = 0.22 F1-мера = 0.513, AUC-ROC = 0.708\n"
     ]
    }
   ],
   "source": [
    "model = LogisticRegression(random_state=123456, solver='lbfgs')\n",
    "model.fit(features_train, target_train)\n",
    "\n",
    "probabilities_valid = model.predict_proba(features_valid)\n",
    "probabilities_one_valid = probabilities_valid[:, 1]\n",
    "\n",
    "_threshold_score, _f1_score, _roc_auc = calc_threshold(probabilities_one_valid).values()\n",
    "print(f'{type(model).__name__}: Порог = {_threshold_score:.2f} F1-мера = {_f1_score:.3f}, AUC-ROC = {_roc_auc:.3f}')"
   ]
  },
  {
   "cell_type": "code",
   "execution_count": 37,
   "metadata": {
    "colab": {
     "base_uri": "https://localhost:8080/",
     "height": 34
    },
    "colab_type": "code",
    "id": "_BGQCWCAl24_",
    "outputId": "8f343771-bef5-4a89-b99e-ffafc17ed9da"
   },
   "outputs": [
    {
     "name": "stdout",
     "output_type": "stream",
     "text": [
      "DecisionTreeClassifier: Порог = 0.00 F1-мера = 0.456, AUC-ROC = 0.655\n"
     ]
    }
   ],
   "source": [
    "model = DecisionTreeClassifier(random_state=123456)\n",
    "model.fit(features_train, target_train)\n",
    "\n",
    "probabilities_valid = model.predict_proba(features_valid)\n",
    "probabilities_one_valid = probabilities_valid[:, 1]\n",
    "\n",
    "_threshold_score, _f1_score, _roc_auc = calc_threshold(probabilities_one_valid).values()\n",
    "print(f'{type(model).__name__}: Порог = {_threshold_score:.2f} F1-мера = {_f1_score:.3f}, AUC-ROC = {_roc_auc:.3f}')"
   ]
  },
  {
   "cell_type": "code",
   "execution_count": 38,
   "metadata": {
    "colab": {
     "base_uri": "https://localhost:8080/",
     "height": 215
    },
    "colab_type": "code",
    "id": "mA6-P6mNl25D",
    "outputId": "63e33f17-c0fb-495a-e9a4-9a5c452222f2"
   },
   "outputs": [
    {
     "name": "stdout",
     "output_type": "stream",
     "text": [
      "RandomForestClassifier: Порог = 0.23 F1-мера = 0.603, AUC-ROC = 0.771\n"
     ]
    }
   ],
   "source": [
    "model = RandomForestClassifier(random_state=123456, n_estimators=100)\n",
    "model.fit(features_train, target_train)\n",
    "\n",
    "probabilities_valid = model.predict_proba(features_valid)\n",
    "probabilities_one_valid = probabilities_valid[:, 1]\n",
    "\n",
    "_threshold_score, _f1_score, _roc_auc = calc_threshold(probabilities_one_valid).values()\n",
    "print(f'{type(model).__name__}: Порог = {_threshold_score:.2f} F1-мера = {_f1_score:.3f}, AUC-ROC = {_roc_auc:.3f}')"
   ]
  },
  {
   "cell_type": "markdown",
   "metadata": {
    "colab_type": "text",
    "id": "Ggo51LUrl25G"
   },
   "source": [
    "### 3.4 Другие способы борьбы с дисбалансом"
   ]
  },
  {
   "cell_type": "code",
   "execution_count": 39,
   "metadata": {
    "colab": {
     "base_uri": "https://localhost:8080/",
     "height": 34
    },
    "colab_type": "code",
    "id": "QNiRxKc-l25H",
    "outputId": "c44efed6-c84f-49c0-db18-bb2f8b459a18"
   },
   "outputs": [
    {
     "name": "stdout",
     "output_type": "stream",
     "text": [
      "LogisticRegression: F1-мера = 0.514, AUC-ROC = 0.87\n"
     ]
    }
   ],
   "source": [
    "model = LogisticRegression(random_state=123456, solver='lbfgs', class_weight='balanced')\n",
    "model.fit(features_train, target_train)\n",
    "\n",
    "predicted_valid = model.predict(features_valid)\n",
    "probabilities_valid = model.predict_proba(features_valid)\n",
    "probabilities_one_valid = probabilities_valid[:, 1]\n",
    "\n",
    "f1 = f1_score(target_valid, predicted_valid)\n",
    "roc_auc_cat = roc_auc_score(target_valid, probabilities_one_valid_cat)\n",
    "\n",
    "print(f'{type(model).__name__}: F1-мера = {f1:.3f}, AUC-ROC = {roc_auc_cat:0.2f}')"
   ]
  },
  {
   "cell_type": "code",
   "execution_count": 40,
   "metadata": {
    "colab": {
     "base_uri": "https://localhost:8080/",
     "height": 34
    },
    "colab_type": "code",
    "id": "tBUxT2s_l25J",
    "outputId": "fe1531bb-cc36-4e5d-82c2-343f07c82e85"
   },
   "outputs": [
    {
     "name": "stdout",
     "output_type": "stream",
     "text": [
      "LogisticRegression: F1-мера = 0.516, AUC-ROC = 0.87\n"
     ]
    }
   ],
   "source": [
    "model = LogisticRegression(random_state=123456, solver='lbfgs', class_weight={0: 0.26, 1: 1})\n",
    "model.fit(features_train, target_train)\n",
    "\n",
    "predicted_valid = model.predict(features_valid)\n",
    "probabilities_valid = model.predict_proba(features_valid)\n",
    "probabilities_one_valid = probabilities_valid[:, 1]\n",
    "\n",
    "f1 = f1_score(target_valid, predicted_valid)\n",
    "roc_auc_cat = roc_auc_score(target_valid, probabilities_one_valid_cat)\n",
    "\n",
    "print(f'{type(model).__name__}: F1-мера = {f1:.3f}, AUC-ROC = {roc_auc_cat:0.2f}')"
   ]
  },
  {
   "cell_type": "code",
   "execution_count": 41,
   "metadata": {
    "colab": {
     "base_uri": "https://localhost:8080/",
     "height": 34
    },
    "colab_type": "code",
    "id": "0zXjLSQYl25M",
    "outputId": "8f644eae-fa1d-48a3-cb9b-f61d57400ff8"
   },
   "outputs": [
    {
     "name": "stdout",
     "output_type": "stream",
     "text": [
      "DecisionTreeClassifier: F1-score = 0.49, AUC-ROC = 0.67\n"
     ]
    }
   ],
   "source": [
    "model_dt = DecisionTreeClassifier(random_state=123456, class_weight='balanced')\n",
    "model_dt.fit(features_train, target_train)\n",
    "\n",
    "predicted_valid_dt = model_dt.predict(features_valid)\n",
    "probabilities_valid_dt = model_dt.predict_proba(features_valid)\n",
    "probabilities_one_valid_dt = probabilities_valid_dt[:, 1]\n",
    "\n",
    "roc_auc_dt = roc_auc_score(target_valid, probabilities_one_valid_dt)\n",
    "f1_dt = f1_score(target_valid, predicted_valid_dt)\n",
    "\n",
    "print(f'{type(model_dt).__name__}: F1-score = {f1_dt:0.2f}, AUC-ROC = {roc_auc_dt:0.2f}')"
   ]
  },
  {
   "cell_type": "code",
   "execution_count": 42,
   "metadata": {
    "colab": {
     "base_uri": "https://localhost:8080/",
     "height": 34
    },
    "colab_type": "code",
    "id": "o-HSmiHOl25O",
    "outputId": "87444aa1-30e2-48d8-94db-a95c9b3b7871"
   },
   "outputs": [
    {
     "name": "stdout",
     "output_type": "stream",
     "text": [
      "DecisionTreeClassifier: F1-score = 0.50, AUC-ROC = 0.68\n"
     ]
    }
   ],
   "source": [
    "model_dt = DecisionTreeClassifier(random_state=123456, class_weight={0: 0.26, 1: 1})\n",
    "model_dt.fit(features_train, target_train)\n",
    "\n",
    "predicted_valid_dt = model_dt.predict(features_valid)\n",
    "probabilities_valid_dt = model_dt.predict_proba(features_valid)\n",
    "probabilities_one_valid_dt = probabilities_valid_dt[:, 1]\n",
    "\n",
    "roc_auc_dt = roc_auc_score(target_valid, probabilities_one_valid_dt)\n",
    "f1_dt = f1_score(target_valid, predicted_valid_dt)\n",
    "\n",
    "print(f'{type(model_dt).__name__}: F1-score = {f1_dt:0.2f}, AUC-ROC = {roc_auc_dt:0.2f}')"
   ]
  },
  {
   "cell_type": "code",
   "execution_count": 43,
   "metadata": {
    "colab": {
     "base_uri": "https://localhost:8080/",
     "height": 34
    },
    "colab_type": "code",
    "id": "hqdjW7nwl25R",
    "outputId": "27ce3fba-8f2d-40a2-dc74-39ae7a0ba5f8"
   },
   "outputs": [
    {
     "name": "stdout",
     "output_type": "stream",
     "text": [
      "RandomForestClassifier: F1 score = 0.53, AUC-ROC = 0.85\n"
     ]
    }
   ],
   "source": [
    "model_rf = RandomForestClassifier(random_state=123456, n_estimators=100, class_weight='balanced')\n",
    "model_rf.fit(features_train, target_train)\n",
    "\n",
    "predicted_valid_rf = model_rf.predict(features_valid)\n",
    "\n",
    "probabilities_valid_rf = model_rf.predict_proba(features_valid)\n",
    "probabilities_one_valid_rf = probabilities_valid_rf[:, 1]\n",
    "\n",
    "roc_auc_rf = roc_auc_score(target_valid, probabilities_one_valid_rf)\n",
    "f1_rf = f1_score(target_valid, predicted_valid_rf)\n",
    "\n",
    "print(f'{type(model_rf).__name__}: F1 score = {f1_rf:0.2f}, AUC-ROC = {roc_auc_rf:0.2f}')"
   ]
  },
  {
   "cell_type": "code",
   "execution_count": 44,
   "metadata": {
    "colab": {
     "base_uri": "https://localhost:8080/",
     "height": 34
    },
    "colab_type": "code",
    "id": "5fAaf6uQl25T",
    "outputId": "715c910c-887d-490e-9794-00ba7f908065"
   },
   "outputs": [
    {
     "name": "stdout",
     "output_type": "stream",
     "text": [
      "RandomForestClassifier: F1 score = 0.52, AUC-ROC = 0.85\n"
     ]
    }
   ],
   "source": [
    "model_rf = RandomForestClassifier(random_state=123456, n_estimators=100, class_weight={0: 0.26, 1: 1})\n",
    "model_rf.fit(features_train, target_train)\n",
    "\n",
    "predicted_valid_rf = model_rf.predict(features_valid)\n",
    "\n",
    "probabilities_valid_rf = model_rf.predict_proba(features_valid)\n",
    "probabilities_one_valid_rf = probabilities_valid_rf[:, 1]\n",
    "\n",
    "roc_auc_rf = roc_auc_score(target_valid, probabilities_one_valid_rf)\n",
    "f1_rf = f1_score(target_valid, predicted_valid_rf)\n",
    "\n",
    "print(f'{type(model_rf).__name__}: F1 score = {f1_rf:0.2f}, AUC-ROC = {roc_auc_rf:0.2f}')"
   ]
  },
  {
   "cell_type": "code",
   "execution_count": 45,
   "metadata": {
    "colab": {
     "base_uri": "https://localhost:8080/",
     "height": 340
    },
    "colab_type": "code",
    "id": "dZEhgHA9l25V",
    "outputId": "1daf73b0-d043-489e-d6fe-edc57225cbdb"
   },
   "outputs": [
    {
     "ename": "TypeError",
     "evalue": "__init__() got an unexpected keyword argument 'auto_class_weights'",
     "output_type": "error",
     "traceback": [
      "\u001b[0;31m---------------------------------------------------------------------------\u001b[0m",
      "\u001b[0;31mTypeError\u001b[0m                                 Traceback (most recent call last)",
      "\u001b[0;32m<ipython-input-45-45a6fcf63000>\u001b[0m in \u001b[0;36m<module>\u001b[0;34m\u001b[0m\n\u001b[1;32m      2\u001b[0m \u001b[0mvalid_pool\u001b[0m \u001b[0;34m=\u001b[0m \u001b[0mPool\u001b[0m\u001b[0;34m(\u001b[0m\u001b[0mfeatures_valid\u001b[0m\u001b[0;34m,\u001b[0m \u001b[0mtarget_valid\u001b[0m\u001b[0;34m)\u001b[0m\u001b[0;34m\u001b[0m\u001b[0;34m\u001b[0m\u001b[0m\n\u001b[1;32m      3\u001b[0m \u001b[0;34m\u001b[0m\u001b[0m\n\u001b[0;32m----> 4\u001b[0;31m \u001b[0mcat_model\u001b[0m \u001b[0;34m=\u001b[0m \u001b[0mCatBoostClassifier\u001b[0m\u001b[0;34m(\u001b[0m\u001b[0miterations\u001b[0m\u001b[0;34m=\u001b[0m\u001b[0;36m1000\u001b[0m\u001b[0;34m,\u001b[0m \u001b[0meval_metric\u001b[0m\u001b[0;34m=\u001b[0m\u001b[0;34m'F1'\u001b[0m\u001b[0;34m,\u001b[0m \u001b[0mrandom_state\u001b[0m\u001b[0;34m=\u001b[0m\u001b[0;36m123456\u001b[0m\u001b[0;34m,\u001b[0m \u001b[0mauto_class_weights\u001b[0m\u001b[0;34m=\u001b[0m\u001b[0;34m'Balanced'\u001b[0m\u001b[0;34m)\u001b[0m\u001b[0;34m\u001b[0m\u001b[0;34m\u001b[0m\u001b[0m\n\u001b[0m\u001b[1;32m      5\u001b[0m \u001b[0mcat_model\u001b[0m\u001b[0;34m.\u001b[0m\u001b[0mfit\u001b[0m\u001b[0;34m(\u001b[0m\u001b[0mtrain_pool\u001b[0m\u001b[0;34m,\u001b[0m \u001b[0meval_set\u001b[0m\u001b[0;34m=\u001b[0m\u001b[0mvalid_pool\u001b[0m\u001b[0;34m,\u001b[0m \u001b[0mverbose\u001b[0m\u001b[0;34m=\u001b[0m\u001b[0;36m100\u001b[0m\u001b[0;34m)\u001b[0m\u001b[0;34m\u001b[0m\u001b[0;34m\u001b[0m\u001b[0m\n\u001b[1;32m      6\u001b[0m \u001b[0;34m\u001b[0m\u001b[0m\n",
      "\u001b[0;31mTypeError\u001b[0m: __init__() got an unexpected keyword argument 'auto_class_weights'"
     ]
    }
   ],
   "source": [
    "train_pool = Pool(features_train, target_train)\n",
    "valid_pool = Pool(features_valid, target_valid)\n",
    "\n",
    "cat_model = CatBoostClassifier(iterations=1000, eval_metric='F1', random_state=123456, auto_class_weights='Balanced')\n",
    "cat_model.fit(train_pool, eval_set=valid_pool, verbose=100)\n",
    "\n",
    "predicted_valid_cat = cat_model.predict(features_valid)\n",
    "\n",
    "probabilities_valid_cat = cat_model.predict_proba(features_valid)\n",
    "probabilities_one_valid_cat = probabilities_valid_cat[:, 1]\n",
    "\n",
    "roc_auc_cat = roc_auc_score(target_valid, probabilities_one_valid_cat)\n",
    "\n",
    "print()\n",
    "print(f'{type(cat_model).__name__} AUC-ROC = {roc_auc_cat:0.2f}')"
   ]
  },
  {
   "cell_type": "markdown",
   "metadata": {
    "colab_type": "text",
    "id": "5_tlI2mgl25X"
   },
   "source": [
    "Наибольший результат получен с помощью классификатора `Catboost` с параметром автоматического вычисления весов для классов. \n",
    "\n",
    "Второй по результату классификатор `RandomForestClassifier` с уменьшением в выборки доли отрицательных результатов, можно попробовать улучшить результат модели подбором параметров модели."
   ]
  },
  {
   "cell_type": "code",
   "execution_count": 46,
   "metadata": {
    "colab": {},
    "colab_type": "code",
    "id": "-21ns4e3l25Y"
   },
   "outputs": [],
   "source": [
    "def train_random_forest_classifier(features, target, n_estimators, random_state, **kwargs):\n",
    "    model = RandomForestClassifier(n_estimators=n_estimators, random_state=123456, **kwargs)\n",
    "    model.fit(features, target)\n",
    "    \n",
    "    return model \n",
    "\n",
    "\n",
    "def get_score_random_forest_classifier(features_train, \n",
    "                                       target_train, \n",
    "                                       features_valid, \n",
    "                                       target_valid, \n",
    "                                       start_estimators, max_estimators, step_estimators, \n",
    "                                       start_depth, max_depth, step_depth,\n",
    "                                       random_state, **kwargs):\n",
    "    result = []\n",
    "    \n",
    "    for estimator in range(start_estimators, max_estimators, step_estimators):\n",
    "        for depth in range(start_depth, max_depth, step_depth):\n",
    "            model = train_random_forest_classifier(features=features_train, target=target_train, \n",
    "                                                   n_estimators=estimator, max_depth=depth, \n",
    "                                                   random_state=random_state, **kwargs)\n",
    "            \n",
    "            predicted_valid = model.predict(features_valid)\n",
    "\n",
    "            probabilities_valid = model.predict_proba(features_valid)\n",
    "            probabilities_one_valid = probabilities_valid[:, 1]\n",
    "            _f1_score = f1_score(target_valid, predicted_valid)\n",
    "            _roc_auc = roc_auc_score(target_valid, predicted_valid)\n",
    "\n",
    "            scores_dict = {'model_name': type(model).__name__, 'n_estimators': estimator, 'max_depth': depth, 'f1_score': _f1_score, 'AUC-ROC': _roc_auc}\n",
    "            result.append(scores_dict)\n",
    "\n",
    "    result.sort(key=lambda item: item['f1_score'], reverse=True)\n",
    "    return result[0]"
   ]
  },
  {
   "cell_type": "code",
   "execution_count": null,
   "metadata": {
    "colab": {
     "base_uri": "https://localhost:8080/",
     "height": 34
    },
    "colab_type": "code",
    "id": "WKQTaAmXl25a",
    "outputId": "0c7cbb7e-7694-4286-fad7-68af2198b530"
   },
   "outputs": [],
   "source": [
    "random_forest_score = get_score_random_forest_classifier(features_train, target_train, \n",
    "                                                         features_valid, target_valid, \n",
    "                                                         start_estimators=100, max_estimators=301, step_estimators=10,\n",
    "                                                         start_depth=1, max_depth=21, step_depth=1,\n",
    "                                                         random_state=123456, class_weight='balanced') \n",
    "\n",
    "print(f'Лучший результат модели {random_forest_score[\"model_name\"]}: '\n",
    "      f'n_estimators = {random_forest_score[\"n_estimators\"]}, max_depth: {random_forest_score[\"max_depth\"]}, '\n",
    "      f'f1_score = {random_forest_score[\"f1_score\"]}, AUC-ROC: {random_forest_score[\"AUC-ROC\"]}')"
   ]
  },
  {
   "cell_type": "code",
   "execution_count": null,
   "metadata": {
    "colab": {
     "base_uri": "https://localhost:8080/",
     "height": 34
    },
    "colab_type": "code",
    "id": "8r4-udgwl25c",
    "outputId": "78bc6bb1-5f42-4e15-9c31-22934537bb27"
   },
   "outputs": [],
   "source": [
    "random_forest_score = get_score_random_forest_classifier(features_upsampled, target_upsampled, \n",
    "                                                         features_valid, target_valid, \n",
    "                                                         start_estimators=100, max_estimators=301, step_estimators=10,\n",
    "                                                         start_depth=1, max_depth=21, step_depth=1,\n",
    "                                                         random_state=123456) \n",
    "\n",
    "print(f'Лучший результат модели {random_forest_score[\"model_name\"]}: '\n",
    "      f'n_estimators = {random_forest_score[\"n_estimators\"]}, max_depth: {random_forest_score[\"max_depth\"]}, '\n",
    "      f'f1_score = {random_forest_score[\"f1_score\"]}, AUC-ROC: {random_forest_score[\"AUC-ROC\"]}')"
   ]
  },
  {
   "cell_type": "code",
   "execution_count": null,
   "metadata": {
    "colab": {
     "base_uri": "https://localhost:8080/",
     "height": 34
    },
    "colab_type": "code",
    "id": "VR1yVIc3l25e",
    "outputId": "ace57f1f-1f25-47e1-ca8f-c7f53976124e"
   },
   "outputs": [],
   "source": [
    "random_forest_score = get_score_random_forest_classifier(features_downsampled, target_downsampled, \n",
    "                                                         features_valid, target_valid, \n",
    "                                                         start_estimators=100, max_estimators=301, step_estimators=10,\n",
    "                                                         start_depth=1, max_depth=21, step_depth=1,\n",
    "                                                         random_state=123456) \n",
    "\n",
    "print(f'Лучший результат модели {random_forest_score[\"model_name\"]}: '\n",
    "      f'n_estimators = {random_forest_score[\"n_estimators\"]}, max_depth: {random_forest_score[\"max_depth\"]}, '\n",
    "      f'f1_score = {random_forest_score[\"f1_score\"]}, AUC-ROC: {random_forest_score[\"AUC-ROC\"]}')"
   ]
  },
  {
   "cell_type": "markdown",
   "metadata": {
    "colab_type": "text",
    "id": "wvzMDWUCMS3V"
   },
   "source": [
    "Существенного улучшения модели `F1-мера = 0.62, AUC-ROC = 0.85` подбором параметров не произошло. Площадь `ROC-кривой` снизилась, значит снизилась доля истинно положительных прогнозов. Так же подбор параметров привел к увеличению размера и времени расчета модели."
   ]
  },
  {
   "cell_type": "markdown",
   "metadata": {
    "colab_type": "text",
    "id": "t2YT-T-bl25h"
   },
   "source": [
    "## 4. Тестирование модели"
   ]
  },
  {
   "cell_type": "code",
   "execution_count": null,
   "metadata": {
    "colab": {
     "base_uri": "https://localhost:8080/",
     "height": 34
    },
    "colab_type": "code",
    "id": "jTwibhuZPstY",
    "outputId": "654e0e07-f1f7-4177-91fe-8e99c58e80cf"
   },
   "outputs": [],
   "source": [
    "dummy_clf = DummyClassifier(strategy='uniform', random_state=123456)\n",
    "dummy_clf.fit(features_train, target_train)\n",
    "\n",
    "dummy_predicted_valid = dummy_clf.predict(features_valid)\n",
    "dummy_probabilities_valid = dummy_clf.predict_proba(features_valid)\n",
    "dummy_probabilities_one_valid = dummy_probabilities_valid[:, 1]\n",
    "\n",
    "dummy_f1_score = f1_score(target_valid, dummy_predicted_valid)\n",
    "dummy_roc_auc = roc_auc_score(target_valid, dummy_probabilities_one_valid)\n",
    "\n",
    "print(f'Результат случайной модели на тестовой выборке: F1-мера = {dummy_f1_score:0.3f}, AUC-ROC = {dummy_roc_auc:.3f}')"
   ]
  },
  {
   "cell_type": "markdown",
   "metadata": {
    "colab_type": "text",
    "id": "aXy8wJoRTdpT"
   },
   "source": [
    "Результат случайной модели на тестовой выборке показывает **F1-меру** меньшую чем случайный лес `RandomForestClassifier` и CatBoost `CatBoostClassifier. Площадь ROC-кривой так же характерна для случайной модели. \n",
    "\n",
    "По результатам тестированиям модели можно выделить две с наибольшими результатами. Это случайны лес `RandomForestClassifier`с уменьшением в выборке доли отрицательных результатов и CatBoost `CatBoostClassifier`. Обе модели модели показали значение F1-меры выше требуемого значения."
   ]
  }
 ],
 "metadata": {
  "colab": {
   "collapsed_sections": [],
   "name": "bank_customer_churn_modeling.ipynb",
   "provenance": [],
   "toc_visible": true
  },
  "kernelspec": {
   "display_name": "Python 3",
   "language": "python",
   "name": "python3"
  },
  "language_info": {
   "codemirror_mode": {
    "name": "ipython",
    "version": 3
   },
   "file_extension": ".py",
   "mimetype": "text/x-python",
   "name": "python",
   "nbconvert_exporter": "python",
   "pygments_lexer": "ipython3",
   "version": "3.8.3"
  }
 },
 "nbformat": 4,
 "nbformat_minor": 4
}
