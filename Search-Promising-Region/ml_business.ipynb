{
 "cells": [
  {
   "cell_type": "markdown",
   "metadata": {
    "colab_type": "text",
    "id": "IoBx_krkyJfM"
   },
   "source": [
    "# Оценка месторождений нефти\n",
    "## Описание проекта"
   ]
  },
  {
   "cell_type": "markdown",
   "metadata": {
    "colab_type": "text",
    "id": "08PgE28byJfO"
   },
   "source": [
    "В данных пробы нефти в трёх регионах по месторождениям: измерения качества нефти и объём её запасов. Построить модель машинного обучения, чтобы определить наиболее прибыльный регион. Анализ возможной прибыли и рисков техникой *Bootstrap.*"
   ]
  },
  {
   "cell_type": "markdown",
   "metadata": {
    "colab_type": "text",
    "id": "vfpBTp8fyJfP"
   },
   "source": [
    "## 1. Загрузка и подготовка данных"
   ]
  },
  {
   "cell_type": "code",
   "execution_count": 2,
   "metadata": {
    "colab": {
     "base_uri": "https://localhost:8080/",
     "height": 255
    },
    "colab_type": "code",
    "id": "5e6xw6F2q9Ac",
    "outputId": "ea6023a6-7b99-474d-9354-a7230ad27ad7"
   },
   "outputs": [
    {
     "name": "stdout",
     "output_type": "stream",
     "text": [
      "Requirement already satisfied: catboost in /usr/local/lib/python3.6/dist-packages (0.23.2)\n",
      "Requirement already satisfied: scipy in /usr/local/lib/python3.6/dist-packages (from catboost) (1.4.1)\n",
      "Requirement already satisfied: numpy>=1.16.0 in /usr/local/lib/python3.6/dist-packages (from catboost) (1.18.5)\n",
      "Requirement already satisfied: six in /usr/local/lib/python3.6/dist-packages (from catboost) (1.15.0)\n",
      "Requirement already satisfied: graphviz in /usr/local/lib/python3.6/dist-packages (from catboost) (0.10.1)\n",
      "Requirement already satisfied: pandas>=0.24.0 in /usr/local/lib/python3.6/dist-packages (from catboost) (1.0.5)\n",
      "Requirement already satisfied: matplotlib in /usr/local/lib/python3.6/dist-packages (from catboost) (3.2.2)\n",
      "Requirement already satisfied: plotly in /usr/local/lib/python3.6/dist-packages (from catboost) (4.4.1)\n",
      "Requirement already satisfied: pytz>=2017.2 in /usr/local/lib/python3.6/dist-packages (from pandas>=0.24.0->catboost) (2018.9)\n",
      "Requirement already satisfied: python-dateutil>=2.6.1 in /usr/local/lib/python3.6/dist-packages (from pandas>=0.24.0->catboost) (2.8.1)\n",
      "Requirement already satisfied: pyparsing!=2.0.4,!=2.1.2,!=2.1.6,>=2.0.1 in /usr/local/lib/python3.6/dist-packages (from matplotlib->catboost) (2.4.7)\n",
      "Requirement already satisfied: cycler>=0.10 in /usr/local/lib/python3.6/dist-packages (from matplotlib->catboost) (0.10.0)\n",
      "Requirement already satisfied: kiwisolver>=1.0.1 in /usr/local/lib/python3.6/dist-packages (from matplotlib->catboost) (1.2.0)\n",
      "Requirement already satisfied: retrying>=1.3.3 in /usr/local/lib/python3.6/dist-packages (from plotly->catboost) (1.3.3)\n"
     ]
    }
   ],
   "source": [
    "!pip install catboost"
   ]
  },
  {
   "cell_type": "code",
   "execution_count": 3,
   "metadata": {
    "colab": {
     "base_uri": "https://localhost:8080/",
     "height": 51
    },
    "colab_type": "code",
    "id": "4aonKLNByJfR",
    "outputId": "5ad6a7a2-dbdd-42a9-ca04-d10e3281c000"
   },
   "outputs": [
    {
     "name": "stderr",
     "output_type": "stream",
     "text": [
      "/usr/local/lib/python3.6/dist-packages/statsmodels/tools/_testing.py:19: FutureWarning: pandas.util.testing is deprecated. Use the functions in the public API at pandas.testing instead.\n",
      "  import pandas.util.testing as tm\n"
     ]
    }
   ],
   "source": [
    "import pandas as pd\n",
    "import numpy as np\n",
    "import seaborn as sn\n",
    "import matplotlib.pyplot as plt \n",
    "\n",
    "from scipy import stats as st\n",
    "from math import sqrt\n",
    "\n",
    "from catboost import Pool, CatBoostRegressor\n",
    "\n",
    "from sklearn.metrics import mean_squared_error\n",
    "from sklearn.model_selection import train_test_split\n",
    "from sklearn.linear_model import LinearRegression\n",
    "from sklearn.ensemble import GradientBoostingRegressor"
   ]
  },
  {
   "cell_type": "markdown",
   "metadata": {
    "colab_type": "text",
    "id": "si8NdBZByJfX"
   },
   "source": [
    "## 2. Обучение и проверка модели"
   ]
  },
  {
   "cell_type": "code",
   "execution_count": 5,
   "metadata": {
    "colab": {},
    "colab_type": "code",
    "id": "rrYkqGk8yJfY"
   },
   "outputs": [],
   "source": [
    "geo_data_0 = pd.read_csv('/datasets/geo_data_0.csv')\n",
    "geo_data_1 = pd.read_csv('/datasets/geo_data_1.csv')\n",
    "geo_data_2 = pd.read_csv('/datasets/geo_data_2.csv')"
   ]
  },
  {
   "cell_type": "code",
   "execution_count": 6,
   "metadata": {
    "colab": {},
    "colab_type": "code",
    "id": "c4kg-Iwe0AE5"
   },
   "outputs": [],
   "source": [
    "geo_duplicated_0 = geo_data_0[geo_data_0['id'].duplicated()]\n",
    "geo_duplicated_rate_0 = (geo_duplicated_0.shape[0] * 2) / geo_data_0.shape[0]\n",
    "\n",
    "geo_duplicated_1 = geo_data_1[geo_data_1['id'].duplicated()]\n",
    "geo_duplicated_rate_1 = (geo_duplicated_1.shape[0] * 2) / geo_data_1.shape[0]\n",
    "\n",
    "geo_duplicated_2 = geo_data_1[geo_data_2['id'].duplicated()]\n",
    "geo_duplicated_rate_2 = (geo_duplicated_2.shape[0] * 2) / geo_data_2.shape[0]"
   ]
  },
  {
   "cell_type": "code",
   "execution_count": 7,
   "metadata": {
    "colab": {
     "base_uri": "https://localhost:8080/",
     "height": 68
    },
    "colab_type": "code",
    "id": "7o63Z9GB0jA6",
    "outputId": "0d64fb24-92f1-46da-fe42-bb1e757dabc0"
   },
   "outputs": [
    {
     "name": "stdout",
     "output_type": "stream",
     "text": [
      "Процент скважин с одинаковыми id в первом регионе: 0.02%\n",
      "Процент скважин с одинаковыми id в втором регионе: 0.01%\n",
      "Процент скважин с одинаковыми id в третьем регионе: 0.01%\n"
     ]
    }
   ],
   "source": [
    "print(f'Процент скважин с одинаковыми id в первом регионе: {geo_duplicated_rate_0:0.2%}')\n",
    "print(f'Процент скважин с одинаковыми id в втором регионе: {geo_duplicated_rate_1:0.2%}')\n",
    "print(f'Процент скважин с одинаковыми id в третьем регионе: {geo_duplicated_rate_2:0.2%}')"
   ]
  },
  {
   "cell_type": "code",
   "execution_count": 8,
   "metadata": {
    "colab": {
     "base_uri": "https://localhost:8080/",
     "height": 111
    },
    "colab_type": "code",
    "id": "wtLJs_Hj6om6",
    "outputId": "f9a29b03-5582-4cbe-999c-ca0c7c3f81c7"
   },
   "outputs": [
    {
     "data": {
      "text/html": [
       "<div>\n",
       "<style scoped>\n",
       "    .dataframe tbody tr th:only-of-type {\n",
       "        vertical-align: middle;\n",
       "    }\n",
       "\n",
       "    .dataframe tbody tr th {\n",
       "        vertical-align: top;\n",
       "    }\n",
       "\n",
       "    .dataframe thead th {\n",
       "        text-align: right;\n",
       "    }\n",
       "</style>\n",
       "<table border=\"1\" class=\"dataframe\">\n",
       "  <thead>\n",
       "    <tr style=\"text-align: right;\">\n",
       "      <th></th>\n",
       "      <th>id</th>\n",
       "      <th>f0</th>\n",
       "      <th>f1</th>\n",
       "      <th>f2</th>\n",
       "      <th>product</th>\n",
       "    </tr>\n",
       "  </thead>\n",
       "  <tbody>\n",
       "    <tr>\n",
       "      <th>931</th>\n",
       "      <td>HZww2</td>\n",
       "      <td>0.755284</td>\n",
       "      <td>0.368511</td>\n",
       "      <td>1.863211</td>\n",
       "      <td>30.681774</td>\n",
       "    </tr>\n",
       "    <tr>\n",
       "      <th>7530</th>\n",
       "      <td>HZww2</td>\n",
       "      <td>1.061194</td>\n",
       "      <td>-0.373969</td>\n",
       "      <td>10.430210</td>\n",
       "      <td>158.828695</td>\n",
       "    </tr>\n",
       "  </tbody>\n",
       "</table>\n",
       "</div>"
      ],
      "text/plain": [
       "         id        f0        f1         f2     product\n",
       "931   HZww2  0.755284  0.368511   1.863211   30.681774\n",
       "7530  HZww2  1.061194 -0.373969  10.430210  158.828695"
      ]
     },
     "execution_count": 8,
     "metadata": {
      "tags": []
     },
     "output_type": "execute_result"
    }
   ],
   "source": [
    "sample_duplicated_id = geo_duplicated_0.head(1)['id'].values[0]\n",
    "geo_data_0.query('id == @sample_duplicated_id')"
   ]
  },
  {
   "cell_type": "markdown",
   "metadata": {
    "colab_type": "text",
    "id": "bgHZEALX6duu"
   },
   "source": [
    "В данных обнаружены дубликаты скважин с разными параметрами. Так как таких данных меньше 1% и определить какие значения истинные, то такие данные лучше убрать из выборки для модели. "
   ]
  },
  {
   "cell_type": "code",
   "execution_count": 9,
   "metadata": {
    "colab": {},
    "colab_type": "code",
    "id": "R2Aaq9TQ8aIu"
   },
   "outputs": [],
   "source": [
    "geo_duplicated_ids_0 = geo_duplicated_0['id']\n",
    "geo_duplicated_ids_1 = geo_duplicated_1['id']\n",
    "geo_duplicated_ids_2 = geo_duplicated_2['id']\n",
    "\n",
    "geo_data_wo_duplicated_0 = geo_data_0.loc[geo_data_0['id'].isin(geo_duplicated_ids_0) == False]\n",
    "geo_data_wo_duplicated_1 = geo_data_1.loc[geo_data_1['id'].isin(geo_duplicated_ids_1) == False]\n",
    "geo_data_wo_duplicated_2 = geo_data_2.loc[geo_data_2['id'].isin(geo_duplicated_ids_2) == False]"
   ]
  },
  {
   "cell_type": "code",
   "execution_count": 10,
   "metadata": {
    "colab": {},
    "colab_type": "code",
    "id": "9Qt0ifG980Yg"
   },
   "outputs": [],
   "source": [
    "features_wod_0 = geo_data_wo_duplicated_0.drop(columns=['id', 'product'], axis=1) \n",
    "target_wod_0 = geo_data_wo_duplicated_0['product']\n",
    "\n",
    "features_wod_1 = geo_data_wo_duplicated_1.drop(columns=['id', 'product'], axis=1) \n",
    "target_wod_1 = geo_data_wo_duplicated_1['product']\n",
    "\n",
    "features_wod_2 = geo_data_wo_duplicated_2.drop(columns=['id', 'product'], axis=1) \n",
    "target_wod_2 = geo_data_wo_duplicated_2['product']"
   ]
  },
  {
   "cell_type": "code",
   "execution_count": 11,
   "metadata": {
    "colab": {},
    "colab_type": "code",
    "id": "7V7UmMsg-xc7"
   },
   "outputs": [],
   "source": [
    "X_wod_train_0, X_wod_val_0, y_wod_train_0, y_wod_val_0 = train_test_split(features_wod_0, target_wod_0, test_size=0.25, random_state=123456)\n",
    "X_wod_train_1, X_wod_val_1, y_wod_train_1, y_wod_val_1 = train_test_split(features_wod_1, target_wod_1, test_size=0.25, random_state=123456)\n",
    "X_wod_train_2, X_wod_val_2, y_wod_train_2, y_wod_val_2 = train_test_split(features_wod_2, target_wod_2, test_size=0.25, random_state=123456)"
   ]
  },
  {
   "cell_type": "code",
   "execution_count": 12,
   "metadata": {
    "colab": {},
    "colab_type": "code",
    "id": "m8qZSOfeAMXC"
   },
   "outputs": [],
   "source": [
    "def calc_product(X_train, X_val, y_train, y_val):\n",
    "    model = LinearRegression(normalize=True, n_jobs=-1)\n",
    "    model.fit(X_train, y_train)\n",
    "\n",
    "    predicted = model.predict(X_val)\n",
    "    rmse_score = sqrt(mean_squared_error(y_val, predicted))\n",
    "    return {'predicted': pd.Series(data=predicted, index=X_val.index), 'RMSE': rmse_score}"
   ]
  },
  {
   "cell_type": "code",
   "execution_count": 13,
   "metadata": {
    "colab": {},
    "colab_type": "code",
    "id": "sdViVjz04ZfA"
   },
   "outputs": [],
   "source": [
    "def calc_product_gradient(X_train, X_val, y_train, y_val):\n",
    "    model = GradientBoostingRegressor(learning_rate=0.05, random_state=123456)\n",
    "    model.fit(X_train, y_train)\n",
    "\n",
    "    predicted = model.predict(X_val)\n",
    "    rmse_score = sqrt(mean_squared_error(y_val, predicted))\n",
    "    return {'predicted': pd.Series(data=predicted, index=X_val.index), 'RMSE': rmse_score}"
   ]
  },
  {
   "cell_type": "code",
   "execution_count": 14,
   "metadata": {
    "colab": {
     "base_uri": "https://localhost:8080/",
     "height": 68
    },
    "colab_type": "code",
    "id": "qqGCJKdOGrKp",
    "outputId": "8f4a793a-bd28-4bee-a08d-e873633b0bb1"
   },
   "outputs": [
    {
     "name": "stdout",
     "output_type": "stream",
     "text": [
      "Прогнозируемый средний запас сырья на скважину в регионе 1: 92.44, RMSE=37.53\n",
      "Прогнозируемый средний запас сырья на скважину в регионе 2 68.34, RMSE=0.89\n",
      "Прогнозируемый средний запас сырья на скважину в регионе 3: 94.85, RMSE=39.98\n"
     ]
    }
   ],
   "source": [
    "result_wod_0 = calc_product(X_wod_train_0, X_wod_val_0, y_wod_train_0, y_wod_val_0)\n",
    "result_wod_1 = calc_product(X_wod_train_1, X_wod_val_1, y_wod_train_1, y_wod_val_1)\n",
    "result_wod_2 = calc_product(X_wod_train_2, X_wod_val_2, y_wod_train_2, y_wod_val_2)\n",
    "\n",
    "print(f'Прогнозируемый средний запас сырья на скважину в регионе 1: {result_wod_0[\"predicted\"].mean():.2f}, RMSE={result_wod_0[\"RMSE\"]:.2f}')\n",
    "print(f'Прогнозируемый средний запас сырья на скважину в регионе 2 {result_wod_1[\"predicted\"].mean():.2f}, RMSE={result_wod_1[\"RMSE\"]:.2f}')\n",
    "print(f'Прогнозируемый средний запас сырья на скважину в регионе 3: {result_wod_2[\"predicted\"].mean():.2f}, RMSE={result_wod_2[\"RMSE\"]:.2f}')"
   ]
  },
  {
   "cell_type": "code",
   "execution_count": 15,
   "metadata": {
    "colab": {
     "base_uri": "https://localhost:8080/",
     "height": 269
    },
    "colab_type": "code",
    "id": "EvpOGfcBOezZ",
    "outputId": "11dd8f51-d22e-4318-bacf-690d7104f048"
   },
   "outputs": [
    {
     "data": {
      "image/png": "[encoded data removed]",
      "text/plain": [
       "<Figure size 432x288 with 2 Axes>"
      ]
     },
     "metadata": {
      "needs_background": "light",
      "tags": []
     },
     "output_type": "display_data"
    }
   ],
   "source": [
    "corrMatrix = geo_data_wo_duplicated_1.corr()\n",
    "sn.heatmap(corrMatrix, annot=True)\n",
    "plt.show()"
   ]
  },
  {
   "cell_type": "code",
   "execution_count": 16,
   "metadata": {
    "colab": {
     "base_uri": "https://localhost:8080/",
     "height": 764
    },
    "colab_type": "code",
    "id": "RMMQJ1OuQJrU",
    "outputId": "6de0b21a-95d5-4773-9bb6-d09a0f2c7b30"
   },
   "outputs": [
    {
     "data": {
      "text/plain": [
       "<seaborn.axisgrid.PairGrid at 0x7fd74f34ee10>"
      ]
     },
     "execution_count": 16,
     "metadata": {
      "tags": []
     },
     "output_type": "execute_result"
    },
    {
     "data": {
      "image/png": "[encoded data removed]",
      "text/plain": [
       "<Figure size 720x720 with 20 Axes>"
      ]
     },
     "metadata": {
      "needs_background": "light",
      "tags": []
     },
     "output_type": "display_data"
    }
   ],
   "source": [
    "sn.pairplot(geo_data_wo_duplicated_1)"
   ]
  },
  {
   "cell_type": "markdown",
   "metadata": {
    "colab_type": "text",
    "id": "qhaDU38FQxgA"
   },
   "source": [
    "По **региону 2** обнаружена корреляция `f2` и целевым признаком, поэтому `RMSE` модели по региону оказалось неожиданно низким. В других регионах корреляции, влияющие на результат, между признаками не обнаружены."
   ]
  },
  {
   "cell_type": "markdown",
   "metadata": {
    "colab_type": "text",
    "id": "MQ-y8Lq4yJfb"
   },
   "source": [
    "## 3. Подготовка к расчёту прибыли"
   ]
  },
  {
   "cell_type": "code",
   "execution_count": 17,
   "metadata": {
    "colab": {},
    "colab_type": "code",
    "id": "0OOxE47H9Ly7"
   },
   "outputs": [],
   "source": [
    "POINTS = 500\n",
    "SELECTED_POINTS = 200\n",
    "BUDGET = 10 ** 10\n",
    "INCOME_PER_BARREL = 450 * 1000"
   ]
  },
  {
   "cell_type": "markdown",
   "metadata": {
    "colab_type": "text",
    "id": "Ebt1j8cYjBJO"
   },
   "source": [
    "Расчет достаточного объёма сырья для безубыточной разработки новой скважины (точка безубыточности)."
   ]
  },
  {
   "cell_type": "code",
   "execution_count": 18,
   "metadata": {
    "colab": {
     "base_uri": "https://localhost:8080/",
     "height": 34
    },
    "colab_type": "code",
    "id": "CgimK9RpizT3",
    "outputId": "acaf5c9f-eac8-47f2-b4fe-dc5191d60382"
   },
   "outputs": [
    {
     "name": "stdout",
     "output_type": "stream",
     "text": [
      "111\n"
     ]
    }
   ],
   "source": [
    "break_even_price = int(BUDGET / (INCOME_PER_BARREL * SELECTED_POINTS))\n",
    "print(break_even_price)"
   ]
  },
  {
   "cell_type": "markdown",
   "metadata": {
    "colab_type": "text",
    "id": "uNSJ23K2q9BC"
   },
   "source": []
  },
  {
   "cell_type": "code",
   "execution_count": 19,
   "metadata": {
    "colab": {
     "base_uri": "https://localhost:8080/",
     "height": 85
    },
    "colab_type": "code",
    "id": "DWz88xrVjTO7",
    "outputId": "095fe899-a9d5-45f8-f99d-9a14153aaf9b"
   },
   "outputs": [
    {
     "name": "stdout",
     "output_type": "stream",
     "text": [
      "Сравнение достаточного объема сырья с смоделированным средним запасам скважины в регионе:\n",
      "Регион 1: 83.28%\n",
      "Регион 2: 61.57%\n",
      "Регион 3: 85.45%\n"
     ]
    }
   ],
   "source": [
    "predicted_profit_region_0 = result_wod_0[\"predicted\"].mean() / break_even_price\n",
    "predicted_profit_region_1 = result_wod_1[\"predicted\"].mean() / break_even_price\n",
    "predicted_profit_region_2 = result_wod_2[\"predicted\"].mean() / break_even_price\n",
    "\n",
    "print('Сравнение достаточного объема сырья с смоделированным средним запасам скважины в регионе:')\n",
    "print(f'Регион 1: {predicted_profit_region_0:.2%}')\n",
    "print(f'Регион 2: {predicted_profit_region_1:.2%}')\n",
    "print(f'Регион 3: {predicted_profit_region_2:.2%}')"
   ]
  },
  {
   "cell_type": "markdown",
   "metadata": {
    "colab_type": "text",
    "id": "yGwE0ZPKl9St"
   },
   "source": [
    "Средний, предсказанный моделью, запас скважины в регионах меньше чем достаточный объем для разработки новой скважины. "
   ]
  },
  {
   "cell_type": "markdown",
   "metadata": {
    "colab_type": "text",
    "id": "TTzvuwhMyJff"
   },
   "source": [
    "## 4. Расчёт прибыли и рисков "
   ]
  },
  {
   "cell_type": "code",
   "execution_count": 20,
   "metadata": {
    "colab": {},
    "colab_type": "code",
    "id": "aimeAictyJff"
   },
   "outputs": [],
   "source": [
    "def revenue(target, predictions, selected_count):\n",
    "    predictions_sorted = predictions.sort_values(ascending=False)\n",
    "    selected = target.loc[predictions_sorted.index][:selected_count]\n",
    "    \n",
    "    result = selected.sum() * INCOME_PER_BARREL - BUDGET\n",
    "    \n",
    "    return result"
   ]
  },
  {
   "cell_type": "code",
   "execution_count": 21,
   "metadata": {
    "colab": {},
    "colab_type": "code",
    "id": "x7OyyKGnpksS"
   },
   "outputs": [],
   "source": [
    "def calc_bootstrap(target, predictions, all_count, selected_count):\n",
    "    state = np.random.RandomState(123456)\n",
    "    values = []\n",
    "\n",
    "    for i in range(1000):\n",
    "        target_subsample = target.sample(n=all_count, replace=True, random_state=state)\n",
    "        predictions_subsample = predictions.loc[target_subsample.index]\n",
    "        values.append(revenue(pd.Series(target_subsample), pd.Series(predictions_subsample), selected_count))\n",
    "\n",
    "    return pd.Series(values)"
   ]
  },
  {
   "cell_type": "code",
   "execution_count": 22,
   "metadata": {
    "colab": {
     "base_uri": "https://localhost:8080/",
     "height": 102
    },
    "colab_type": "code",
    "id": "KOv86jSNroNR",
    "outputId": "a396fcb2-872b-4faa-f881-545ec2289b04"
   },
   "outputs": [
    {
     "name": "stdout",
     "output_type": "stream",
     "text": [
      "Регион 1:\n",
      "Средняя выручка: 468513008.3911709\n",
      "2.5%-квантиль: -33083253.498802472\n",
      "Риск убытков: 3.70%\n",
      "Доверительный интервал: (-33083253.498802472, 1012636880.1009579)\n"
     ]
    }
   ],
   "source": [
    "values_0 = calc_bootstrap(y_wod_val_0, result_wod_0[\"predicted\"], POINTS, SELECTED_POINTS)\n",
    "mean_0 = values_0.mean()\n",
    "\n",
    "#interval_0 = st.t.interval(alpha=0.95, df=len(values_0)-1, loc=mean_0, scale=values_0.sem())\n",
    "lower_0 = values_0.quantile(0.025)\n",
    "confidence_interval_0 = (lower_0, values_0.quantile(0.975))\n",
    "risk_0 = (values_0 < 0).mean()\n",
    "\n",
    "print('Регион 1:')\n",
    "print(\"Средняя выручка:\", mean_0)\n",
    "print(\"2.5%-квантиль:\", lower_0)\n",
    "print(f\"Риск убытков: {risk_0:.2%}\")\n",
    "print(\"Доверительный интервал:\", confidence_interval_0)"
   ]
  },
  {
   "cell_type": "code",
   "execution_count": 23,
   "metadata": {
    "colab": {
     "base_uri": "https://localhost:8080/",
     "height": 102
    },
    "colab_type": "code",
    "id": "hR_FmfPQ6ZYb",
    "outputId": "2198fb8b-1870-4246-cb27-342de77c115e"
   },
   "outputs": [
    {
     "name": "stdout",
     "output_type": "stream",
     "text": [
      "Регион 2:\n",
      "Средняя выручка: 457865757.1027862\n",
      "2.5%-квантиль: 6726262.07897349\n",
      "Риск убытков: 2.40%\n",
      "Доверительный интервал: (6726262.07897349, 877197377.0508348)\n"
     ]
    }
   ],
   "source": [
    "values_1 = calc_bootstrap(y_wod_val_1, result_wod_1[\"predicted\"], POINTS, SELECTED_POINTS)\n",
    "mean_1 = values_1.mean()\n",
    "\n",
    "# interval_1 = st.t.interval(alpha=0.95, df=len(values_1)-1, loc=mean_1, scale=values_1.sem())\n",
    "lower_1 = values_1.quantile(0.025)\n",
    "confidence_interval_1 = (lower_1, values_1.quantile(0.975))\n",
    "risk_1 = (values_1 < 0).mean()\n",
    "\n",
    "print('Регион 2:')\n",
    "print(\"Средняя выручка:\", mean_1)\n",
    "print(\"2.5%-квантиль:\", lower_1)\n",
    "print(f\"Риск убытков: {risk_1:.2%}\")\n",
    "print(\"Доверительный интервал:\", confidence_interval_1)"
   ]
  },
  {
   "cell_type": "code",
   "execution_count": 24,
   "metadata": {
    "colab": {
     "base_uri": "https://localhost:8080/",
     "height": 102
    },
    "colab_type": "code",
    "id": "8UpFo-A56lCh",
    "outputId": "782226f5-39a9-452e-ddc4-157db8b2d8c2"
   },
   "outputs": [
    {
     "name": "stdout",
     "output_type": "stream",
     "text": [
      "Регион 3:\n",
      "Средняя выручка: 399676959.1642946\n",
      "2.5%-квантиль: -183596061.12714967\n",
      "Риск убытков: 9.40%\n",
      "Доверительный интервал: (-183596061.12714967, 968278827.6580726)\n"
     ]
    }
   ],
   "source": [
    "values_2 = calc_bootstrap(y_wod_val_2, result_wod_2[\"predicted\"], POINTS, SELECTED_POINTS)\n",
    "mean_2 = values_2.mean()\n",
    "\n",
    "#interval_2 = st.t.interval(alpha=0.95, df=len(values_2)-1, loc=mean_2, scale=values_2.sem())\n",
    "lower_2 = values_2.quantile(0.025)\n",
    "confidence_interval_2 = (lower_2, values_2.quantile(0.975))\n",
    "risk_2 = (values_2 < 0).mean()\n",
    "\n",
    "print('Регион 3:')\n",
    "print(\"Средняя выручка:\", mean_2)\n",
    "print(\"2.5%-квантиль:\", lower_2)\n",
    "print(f\"Риск убытков: {risk_2:.2%}\")\n",
    "print(\"Доверительный интервал:\", confidence_interval_2)"
   ]
  },
  {
   "cell_type": "markdown",
   "metadata": {
    "colab_type": "text",
    "id": "OaBOeYtuWVx1"
   },
   "source": [
    "Исходя из условий задачи, наиболее подходящим можно выделить регион 2. В остальных регионах риск убытков выше 2.5%. В данных обнаружены не уникальные скважины, а так же корреляция признака `f2` в втором регионе. Это требует уточнения, для увеличения точности исследования. Так же возможно проверить другие модели регрессии. `CatBoostRegressor` ниже показал другие результаты."
   ]
  },
  {
   "cell_type": "code",
   "execution_count": 39,
   "metadata": {
    "colab": {},
    "colab_type": "code",
    "id": "n8lWgndXz99r"
   },
   "outputs": [],
   "source": [
    "features_0 = geo_data_0.drop(columns=['id', 'product'], axis=1) \n",
    "target_0 = geo_data_0['product']\n",
    "\n",
    "features_1 = geo_data_1.drop(columns=['id', 'product'], axis=1) \n",
    "target_1 = geo_data_1['product']\n",
    "\n",
    "features_2 = geo_data_2.drop(columns=['id', 'product'], axis=1) \n",
    "target_2 = geo_data_2['product']\n",
    "\n",
    "X_train_0, X_val_0, y_train_0, y_val_0 = train_test_split(features_0, target_0, test_size=0.25, random_state=123456)\n",
    "X_train_1, X_val_1, y_train_1, y_val_1 = train_test_split(features_1, target_1, test_size=0.25, random_state=123456)\n",
    "X_train_2, X_val_2, y_train_2, y_val_2 = train_test_split(features_2, target_2, test_size=0.25, random_state=123456)"
   ]
  },
  {
   "cell_type": "code",
   "execution_count": 40,
   "metadata": {
    "colab": {
     "base_uri": "https://localhost:8080/",
     "height": 68
    },
    "colab_type": "code",
    "id": "P9csUEtl0wPh",
    "outputId": "ea817370-08dd-4367-b377-97ff716e2941"
   },
   "outputs": [
    {
     "name": "stdout",
     "output_type": "stream",
     "text": [
      "Прогнозируемый средний запас сырья на скважину в регионе 1: 92.49, RMSE=37.80\n",
      "Прогнозируемый средний запас сырья на скважину в регионе 2 69.03, RMSE=0.89\n",
      "Прогнозируемый средний запас сырья на скважину в регионе 3: 94.85, RMSE=39.98\n"
     ]
    }
   ],
   "source": [
    "result_0 = calc_product(X_train_0, X_val_0, y_train_0, y_val_0)\n",
    "result_1 = calc_product(X_train_1, X_val_1, y_train_1, y_val_1)\n",
    "result_2 = calc_product(X_train_2, X_val_2, y_train_2, y_val_2)\n",
    "\n",
    "print(f'Прогнозируемый средний запас сырья на скважину в регионе 1: {result_0[\"predicted\"].mean():.2f}, RMSE={result_0[\"RMSE\"]:.2f}')\n",
    "print(f'Прогнозируемый средний запас сырья на скважину в регионе 2 {result_1[\"predicted\"].mean():.2f}, RMSE={result_1[\"RMSE\"]:.2f}')\n",
    "print(f'Прогнозируемый средний запас сырья на скважину в регионе 3: {result_2[\"predicted\"].mean():.2f}, RMSE={result_2[\"RMSE\"]:.2f}')"
   ]
  },
  {
   "cell_type": "code",
   "execution_count": 41,
   "metadata": {
    "colab": {
     "base_uri": "https://localhost:8080/",
     "height": 85
    },
    "colab_type": "code",
    "id": "6ZQSoFrZ4y5x",
    "outputId": "2cf4beec-1880-45d0-be09-f88f1b49c75d"
   },
   "outputs": [
    {
     "name": "stdout",
     "output_type": "stream",
     "text": [
      "Gradient Boosting:\n",
      "Прогнозируемый средний запас сырья на скважину в регионе 1: 92.52, RMSE=37.37\n",
      "Прогнозируемый средний запас сырья на скважину в регионе 2 69.03, RMSE=0.83\n",
      "Прогнозируемый средний запас сырья на скважину в регионе 3: 94.97, RMSE=37.81\n"
     ]
    }
   ],
   "source": [
    "result_gradient_0 = calc_product_gradient(X_train_0, X_val_0, y_train_0, y_val_0)\n",
    "result_gradient_1 = calc_product_gradient(X_train_1, X_val_1, y_train_1, y_val_1)\n",
    "result_gradient_2 = calc_product_gradient(X_train_2, X_val_2, y_train_2, y_val_2)\n",
    "\n",
    "print('Gradient Boosting:')\n",
    "print(f'Прогнозируемый средний запас сырья на скважину в регионе 1: {result_gradient_0[\"predicted\"].mean():.2f}, RMSE={result_gradient_0[\"RMSE\"]:.2f}')\n",
    "print(f'Прогнозируемый средний запас сырья на скважину в регионе 2 {result_gradient_1[\"predicted\"].mean():.2f}, RMSE={result_gradient_1[\"RMSE\"]:.2f}')\n",
    "print(f'Прогнозируемый средний запас сырья на скважину в регионе 3: {result_gradient_2[\"predicted\"].mean():.2f}, RMSE={result_gradient_2[\"RMSE\"]:.2f}')"
   ]
  },
  {
   "cell_type": "code",
   "execution_count": 41,
   "metadata": {
    "colab": {},
    "colab_type": "code",
    "id": "9WDc_SxV_1oL"
   },
   "outputs": [],
   "source": []
  },
  {
   "cell_type": "code",
   "execution_count": 42,
   "metadata": {
    "colab": {
     "base_uri": "https://localhost:8080/",
     "height": 102
    },
    "colab_type": "code",
    "id": "nVL6gX4E2Abk",
    "outputId": "1ef6feda-c705-409a-ef8c-6f08958f0db4"
   },
   "outputs": [
    {
     "name": "stdout",
     "output_type": "stream",
     "text": [
      "Регион 1:\n",
      "Средняя выручка: 514982426.41315514\n",
      "2.5%-квантиль: 11215333.057254456\n",
      "Риск убытков: 2.50%\n",
      "Доверительный интервал: (11215333.057254456, 1054790677.9972688)\n"
     ]
    }
   ],
   "source": [
    "values_0 = calc_bootstrap(y_val_0, result_0[\"predicted\"], POINTS, SELECTED_POINTS)\n",
    "mean_0 = values_0.mean()\n",
    "\n",
    "#interval_0 = st.t.interval(alpha=0.95, df=len(values_0)-1, loc=mean_0, scale=values_0.sem())\n",
    "lower_0 = values_0.quantile(0.025)\n",
    "confidence_interval_0 = (lower_0, values_0.quantile(0.975))\n",
    "risk_0 = (values_0 < 0).mean()\n",
    "\n",
    "print('Регион 1:')\n",
    "print(\"Средняя выручка:\", mean_0)\n",
    "print(\"2.5%-квантиль:\", lower_0)\n",
    "print(f\"Риск убытков: {risk_0:.2%}\")\n",
    "print(\"Доверительный интервал:\", confidence_interval_0)"
   ]
  },
  {
   "cell_type": "code",
   "execution_count": 42,
   "metadata": {
    "colab": {},
    "colab_type": "code",
    "id": "nlBToiv89tQf"
   },
   "outputs": [],
   "source": []
  },
  {
   "cell_type": "code",
   "execution_count": 43,
   "metadata": {
    "colab": {
     "base_uri": "https://localhost:8080/",
     "height": 119
    },
    "colab_type": "code",
    "id": "3V2bF6br5rhO",
    "outputId": "013e504d-e5d9-4c6e-bbf2-df2ba7fee67a"
   },
   "outputs": [
    {
     "name": "stdout",
     "output_type": "stream",
     "text": [
      "Gradient Boosting:\n",
      "Регион 1:\n",
      "Средняя выручка: 565275218.2282058\n",
      "2.5%-квантиль: 44381441.34385325\n",
      "Риск убытков: 1.80%\n",
      "Доверительный интервал: (44381441.34385325, 1094886330.6550767)\n"
     ]
    }
   ],
   "source": [
    "values_0 = calc_bootstrap(y_val_0, result_gradient_0[\"predicted\"], POINTS, SELECTED_POINTS)\n",
    "mean_0 = values_0.mean()\n",
    "\n",
    "#interval_0 = st.t.interval(alpha=0.95, df=len(values_0)-1, loc=mean_0, scale=values_0.sem())\n",
    "lower_0 = values_0.quantile(0.025)\n",
    "confidence_interval_0 = (lower_0, values_0.quantile(0.975))\n",
    "risk_0 = (values_0 < 0).mean()\n",
    "\n",
    "print('Gradient Boosting:')\n",
    "print('Регион 1:')\n",
    "print(\"Средняя выручка:\", mean_0)\n",
    "print(\"2.5%-квантиль:\", lower_0)\n",
    "print(f\"Риск убытков: {risk_0:.2%}\")\n",
    "print(\"Доверительный интервал:\", confidence_interval_0)"
   ]
  },
  {
   "cell_type": "code",
   "execution_count": 44,
   "metadata": {
    "colab": {
     "base_uri": "https://localhost:8080/",
     "height": 102
    },
    "colab_type": "code",
    "id": "TZU_kT4m2Aj1",
    "outputId": "7e481a3f-fae8-4d07-d448-d7cffbc39c9c"
   },
   "outputs": [
    {
     "name": "stdout",
     "output_type": "stream",
     "text": [
      "Регион 2:\n",
      "Средняя выручка: 514103238.64642835\n",
      "2.5%-квантиль: 80274454.78684306\n",
      "Риск убытков: 0.70%\n",
      "Доверительный интервал: (80274454.78684306, 915708403.7454765)\n"
     ]
    }
   ],
   "source": [
    "values_1 = calc_bootstrap(y_val_1, result_1[\"predicted\"], POINTS, SELECTED_POINTS)\n",
    "mean_1 = values_1.mean()\n",
    "\n",
    "# interval_1 = st.t.interval(alpha=0.95, df=len(values_1)-1, loc=mean_1, scale=values_1.sem())\n",
    "lower_1 = values_1.quantile(0.025)\n",
    "confidence_interval_1 = (lower_1, values_1.quantile(0.975))\n",
    "risk_1 = (values_1 < 0).mean()\n",
    "\n",
    "print('Регион 2:')\n",
    "print(\"Средняя выручка:\", mean_1)\n",
    "print(\"2.5%-квантиль:\", lower_1)\n",
    "print(f\"Риск убытков: {risk_1:.2%}\")\n",
    "print(\"Доверительный интервал:\", confidence_interval_1)"
   ]
  },
  {
   "cell_type": "code",
   "execution_count": 45,
   "metadata": {
    "colab": {
     "base_uri": "https://localhost:8080/",
     "height": 119
    },
    "colab_type": "code",
    "id": "2Wp8zU6M5lDZ",
    "outputId": "78288f6d-1b1e-45b9-b1ce-e2e46319fca0"
   },
   "outputs": [
    {
     "name": "stdout",
     "output_type": "stream",
     "text": [
      "Gradient Boosting:\n",
      "Регион 1:\n",
      "Средняя выручка: -1609079362.8213964\n",
      "2.5%-квантиль: -2165504790.5740175\n",
      "Риск убытков: 100.00%\n",
      "Доверительный интервал: (-2165504790.5740175, -1033937056.4259568)\n"
     ]
    }
   ],
   "source": [
    "values_0 = calc_bootstrap(y_val_0, result_gradient_1[\"predicted\"], POINTS, SELECTED_POINTS)\n",
    "mean_0 = values_0.mean()\n",
    "\n",
    "#interval_0 = st.t.interval(alpha=0.95, df=len(values_0)-1, loc=mean_0, scale=values_0.sem())\n",
    "lower_0 = values_0.quantile(0.025)\n",
    "confidence_interval_0 = (lower_0, values_0.quantile(0.975))\n",
    "risk_0 = (values_0 < 0).mean()\n",
    "\n",
    "print('Gradient Boosting:')\n",
    "print('Регион 1:')\n",
    "print(\"Средняя выручка:\", mean_0)\n",
    "print(\"2.5%-квантиль:\", lower_0)\n",
    "print(f\"Риск убытков: {risk_0:.2%}\")\n",
    "print(\"Доверительный интервал:\", confidence_interval_0)"
   ]
  },
  {
   "cell_type": "code",
   "execution_count": 45,
   "metadata": {
    "colab": {},
    "colab_type": "code",
    "id": "FD3uyt9H5qS4"
   },
   "outputs": [],
   "source": []
  },
  {
   "cell_type": "code",
   "execution_count": 46,
   "metadata": {
    "colab": {
     "base_uri": "https://localhost:8080/",
     "height": 102
    },
    "colab_type": "code",
    "id": "hmXb-3pS2lHK",
    "outputId": "f3bce8cd-3c57-405e-d7fb-841332cc47c6"
   },
   "outputs": [
    {
     "name": "stdout",
     "output_type": "stream",
     "text": [
      "Регион 3:\n",
      "Средняя выручка: 399676959.1642946\n",
      "2.5%-квантиль: -183596061.12714967\n",
      "Риск убытков: 9.40%\n",
      "Доверительный интервал: (-183596061.12714967, 968278827.6580726)\n"
     ]
    }
   ],
   "source": [
    "values_2 = calc_bootstrap(y_val_2, result_2[\"predicted\"], POINTS, SELECTED_POINTS)\n",
    "mean_2 = values_2.mean()\n",
    "\n",
    "#interval_2 = st.t.interval(alpha=0.95, df=len(values_2)-1, loc=mean_2, scale=values_2.sem())\n",
    "lower_2 = values_2.quantile(0.025)\n",
    "confidence_interval_2 = (lower_2, values_2.quantile(0.975))\n",
    "risk_2 = (values_2 < 0).mean()\n",
    "\n",
    "print('Регион 3:')\n",
    "print(\"Средняя выручка:\", mean_2)\n",
    "print(\"2.5%-квантиль:\", lower_2)\n",
    "print(f\"Риск убытков: {risk_2:.2%}\")\n",
    "print(\"Доверительный интервал:\", confidence_interval_2)"
   ]
  },
  {
   "cell_type": "code",
   "execution_count": 47,
   "metadata": {
    "colab": {
     "base_uri": "https://localhost:8080/",
     "height": 119
    },
    "colab_type": "code",
    "id": "oKSmKxpU5m7h",
    "outputId": "92587610-1300-4ad8-c463-4e8d0817ca53"
   },
   "outputs": [
    {
     "name": "stdout",
     "output_type": "stream",
     "text": [
      "Gradient Boosting:\n",
      "Регион 3:\n",
      "Средняя выручка: 673227611.3078744\n",
      "2.5%-квантиль: 92840763.3007162\n",
      "Риск убытков: 1.20%\n",
      "Доверительный интервал: (92840763.3007162, 1186980013.2502356)\n"
     ]
    }
   ],
   "source": [
    "values_2 = calc_bootstrap(y_val_2, result_gradient_2[\"predicted\"], POINTS, SELECTED_POINTS)\n",
    "mean_2 = values_2.mean()\n",
    "\n",
    "#interval_2 = st.t.interval(alpha=0.95, df=len(values_2)-1, loc=mean_2, scale=values_2.sem())\n",
    "lower_2 = values_2.quantile(0.025)\n",
    "confidence_interval_2 = (lower_2, values_2.quantile(0.975))\n",
    "risk_2 = (values_2 < 0).mean()\n",
    "\n",
    "print('Gradient Boosting:')\n",
    "print('Регион 3:')\n",
    "print(\"Средняя выручка:\", mean_2)\n",
    "print(\"2.5%-квантиль:\", lower_2)\n",
    "print(f\"Риск убытков: {risk_2:.2%}\")\n",
    "print(\"Доверительный интервал:\", confidence_interval_2)"
   ]
  },
  {
   "cell_type": "code",
   "execution_count": 47,
   "metadata": {
    "colab": {},
    "colab_type": "code",
    "id": "KIPHDoh42lO-"
   },
   "outputs": [],
   "source": []
  },
  {
   "cell_type": "code",
   "execution_count": 48,
   "metadata": {
    "colab": {
     "base_uri": "https://localhost:8080/",
     "height": 119
    },
    "colab_type": "code",
    "id": "-Ro5pt5n2oOd",
    "outputId": "02652b74-643e-44c3-aff2-98882307f165"
   },
   "outputs": [
    {
     "name": "stdout",
     "output_type": "stream",
     "text": [
      "Gradient Boosting without duplicates:\n",
      "Регион 1:\n",
      "Средняя выручка: 504110378.5395823\n",
      "2.5%-квантиль: -34854545.716773555\n",
      "Риск убытков: 3.10%\n",
      "Доверительный интервал: (-34854545.716773555, 1027349875.1716329)\n"
     ]
    }
   ],
   "source": [
    "result_gradient_wod_0 = calc_product_gradient(X_wod_train_0, X_wod_val_0, y_wod_train_0, y_wod_val_0)\n",
    "result_gradient_wod_1 = calc_product_gradient(X_wod_train_1, X_wod_val_1, y_wod_train_1, y_wod_val_1)\n",
    "result_gradient_wod_2 = calc_product_gradient(X_wod_train_2, X_wod_val_2, y_wod_train_2, y_wod_val_2)\n",
    "\n",
    "values_0 = calc_bootstrap(y_wod_val_0, result_gradient_wod_0[\"predicted\"], POINTS, SELECTED_POINTS)\n",
    "mean_0 = values_0.mean()\n",
    "\n",
    "#interval_0 = st.t.interval(alpha=0.95, df=len(values_0)-1, loc=mean_0, scale=values_0.sem())\n",
    "lower_0 = values_0.quantile(0.025)\n",
    "confidence_interval_0 = (lower_0, values_0.quantile(0.975))\n",
    "risk_0 = (values_0 < 0).mean()\n",
    "\n",
    "print('Gradient Boosting without duplicates:')\n",
    "print('Регион 1:')\n",
    "print(\"Средняя выручка:\", mean_0)\n",
    "print(\"2.5%-квантиль:\", lower_0)\n",
    "print(f\"Риск убытков: {risk_0:.2%}\")\n",
    "print(\"Доверительный интервал:\", confidence_interval_0)\n",
    "\n"
   ]
  },
  {
   "cell_type": "markdown",
   "metadata": {
    "colab_type": "text",
    "id": "4i61ENb6ASG-"
   },
   "source": []
  },
  {
   "cell_type": "code",
   "execution_count": 49,
   "metadata": {
    "colab": {
     "base_uri": "https://localhost:8080/",
     "height": 510
    },
    "colab_type": "code",
    "id": "u3Tq8JamyJfj",
    "outputId": "e080bc92-9cf0-4cf5-cfdd-28c21b910dd2"
   },
   "outputs": [
    {
     "name": "stdout",
     "output_type": "stream",
     "text": [
      "0:\tlearn: 43.7604402\ttest: 43.6623442\tbest: 43.6623442 (0)\ttotal: 65.5ms\tremaining: 1h 49m 11s\n",
      "100:\tlearn: 37.1257876\ttest: 36.9617996\tbest: 36.9617996 (100)\ttotal: 1.36s\tremaining: 22m 29s\n",
      "200:\tlearn: 37.0511749\ttest: 36.9306070\tbest: 36.9297325 (183)\ttotal: 2.64s\tremaining: 21m 48s\n",
      "300:\tlearn: 36.9755239\ttest: 36.9376137\tbest: 36.9297325 (183)\ttotal: 3.91s\tremaining: 21m 35s\n",
      "400:\tlearn: 36.8993711\ttest: 36.9447052\tbest: 36.9297325 (183)\ttotal: 5.18s\tremaining: 21m 26s\n",
      "500:\tlearn: 36.8268981\ttest: 36.9537802\tbest: 36.9297325 (183)\ttotal: 6.47s\tremaining: 21m 25s\n",
      "600:\tlearn: 36.7577875\ttest: 36.9636802\tbest: 36.9297325 (183)\ttotal: 7.75s\tremaining: 21m 21s\n",
      "700:\tlearn: 36.6934929\ttest: 36.9709448\tbest: 36.9297325 (183)\ttotal: 9.03s\tremaining: 21m 18s\n",
      "800:\tlearn: 36.6336504\ttest: 36.9831497\tbest: 36.9297325 (183)\ttotal: 10.3s\tremaining: 21m 18s\n",
      "900:\tlearn: 36.5733777\ttest: 36.9930931\tbest: 36.9297325 (183)\ttotal: 11.6s\tremaining: 21m 19s\n",
      "1000:\tlearn: 36.5134809\ttest: 37.0040327\tbest: 36.9297325 (183)\ttotal: 13s\tremaining: 21m 21s\n",
      "1100:\tlearn: 36.4605848\ttest: 37.0149884\tbest: 36.9297325 (183)\ttotal: 14.2s\tremaining: 21m 19s\n",
      "1200:\tlearn: 36.4073015\ttest: 37.0288691\tbest: 36.9297325 (183)\ttotal: 15.6s\tremaining: 21m 20s\n",
      "1300:\tlearn: 36.3540625\ttest: 37.0396515\tbest: 36.9297325 (183)\ttotal: 16.9s\tremaining: 21m 18s\n",
      "1400:\tlearn: 36.3018563\ttest: 37.0501187\tbest: 36.9297325 (183)\ttotal: 18.1s\tremaining: 21m 16s\n",
      "1500:\tlearn: 36.2488685\ttest: 37.0578121\tbest: 36.9297325 (183)\ttotal: 19.4s\tremaining: 21m 15s\n",
      "1600:\tlearn: 36.1999213\ttest: 37.0643969\tbest: 36.9297325 (183)\ttotal: 20.7s\tremaining: 21m 14s\n",
      "1700:\tlearn: 36.1499133\ttest: 37.0748122\tbest: 36.9297325 (183)\ttotal: 22s\tremaining: 21m 12s\n",
      "1800:\tlearn: 36.1025229\ttest: 37.0846458\tbest: 36.9297325 (183)\ttotal: 23.3s\tremaining: 21m 11s\n",
      "1900:\tlearn: 36.0560435\ttest: 37.0971060\tbest: 36.9297325 (183)\ttotal: 24.6s\tremaining: 21m 10s\n",
      "2000:\tlearn: 36.0077019\ttest: 37.1037083\tbest: 36.9297325 (183)\ttotal: 25.9s\tremaining: 21m 9s\n",
      "2100:\tlearn: 35.9623241\ttest: 37.1113175\tbest: 36.9297325 (183)\ttotal: 27.2s\tremaining: 21m 7s\n",
      "Stopped by overfitting detector  (2000 iterations wait)\n",
      "\n",
      "bestTest = 36.92973251\n",
      "bestIteration = 183\n",
      "\n",
      "Shrink model to first 184 iterations.\n",
      "{'learn': {'RMSE': 35.924368655084436}, 'validation': {'RMSE': 36.929732506392284}}\n"
     ]
    }
   ],
   "source": [
    "train_pool_0 = Pool(X_wod_train_0, y_wod_train_0)\n",
    "valid_pool_0 = Pool(X_wod_val_0, y_wod_val_0)\n",
    "\n",
    "cat_model_0 = CatBoostRegressor(iterations=100000, early_stopping_rounds=2000, learning_rate=0.05, thread_count=-1, random_state=123456)\n",
    "cat_model_0.fit(train_pool_0, eval_set=valid_pool_0, verbose=100)\n",
    "\n",
    "print(cat_model_0.best_score_)"
   ]
  },
  {
   "cell_type": "code",
   "execution_count": 50,
   "metadata": {
    "colab": {
     "base_uri": "https://localhost:8080/",
     "height": 102
    },
    "colab_type": "code",
    "id": "71k1set-9HG8",
    "outputId": "71468882-06e7-4f86-e30f-14125a2c613b"
   },
   "outputs": [
    {
     "name": "stdout",
     "output_type": "stream",
     "text": [
      "Регион 1:\n",
      "Средняя выручка: 525402667.9783285\n",
      "2.5%-квантиль: 8523688.580779457\n",
      "Риск убытков: 2.30%\n",
      "Доверительный интервал: (508027860.3484447, 542777475.6082124)\n"
     ]
    }
   ],
   "source": [
    "cat_predict_0 = cat_model_0.predict(X_wod_val_0)\n",
    "cat_predict_0 = pd.Series(cat_predict_0, index=X_wod_val_0.index)\n",
    "cat_values_0 = calc_bootstrap(y_wod_val_0, cat_predict_0, POINTS, SELECTED_POINTS)\n",
    "\n",
    "cat_mean_0 = cat_values_0.mean()\n",
    "cat_interval_0 = st.t.interval(alpha=0.95, df=len(cat_values_0)-1, loc=cat_mean_0, scale=cat_values_0.sem())\n",
    "cat_lower_0 = cat_values_0.quantile(0.025)\n",
    "cat_risk_0 = (cat_values_0 < 0).mean()\n",
    "\n",
    "print('Регион 1:')\n",
    "print(\"Средняя выручка:\", cat_mean_0)\n",
    "print(\"2.5%-квантиль:\", cat_lower_0)\n",
    "print(f\"Риск убытков: {cat_risk_0:.2%}\")\n",
    "print(\"Доверительный интервал:\", cat_interval_0)"
   ]
  },
  {
   "cell_type": "code",
   "execution_count": 51,
   "metadata": {
    "colab": {
     "base_uri": "https://localhost:8080/",
     "height": 544
    },
    "colab_type": "code",
    "id": "W9YpyAa7_W-X",
    "outputId": "fdcbb5da-7ae3-4f4f-ff31-fac276d3926d"
   },
   "outputs": [
    {
     "name": "stdout",
     "output_type": "stream",
     "text": [
      "0:\tlearn: 43.7041302\ttest: 43.7650293\tbest: 43.7650293 (0)\ttotal: 16ms\tremaining: 26m 41s\n",
      "100:\tlearn: 1.8217780\ttest: 1.8462330\tbest: 1.8462330 (100)\ttotal: 1.33s\tremaining: 22m 1s\n",
      "200:\tlearn: 1.5502635\ttest: 1.6048497\tbest: 1.6048497 (200)\ttotal: 2.66s\tremaining: 22m\n",
      "300:\tlearn: 1.5015659\ttest: 1.5820899\tbest: 1.5820899 (300)\ttotal: 3.98s\tremaining: 21m 57s\n",
      "400:\tlearn: 1.4817752\ttest: 1.5810816\tbest: 1.5805787 (393)\ttotal: 5.28s\tremaining: 21m 50s\n",
      "500:\tlearn: 1.4620907\ttest: 1.5834637\tbest: 1.5805787 (393)\ttotal: 6.57s\tremaining: 21m 44s\n",
      "600:\tlearn: 1.4491370\ttest: 1.5842182\tbest: 1.5805787 (393)\ttotal: 7.88s\tremaining: 21m 43s\n",
      "700:\tlearn: 1.4370393\ttest: 1.5872356\tbest: 1.5805787 (393)\ttotal: 9.19s\tremaining: 21m 42s\n",
      "800:\tlearn: 1.4242591\ttest: 1.5899156\tbest: 1.5805787 (393)\ttotal: 10.5s\tremaining: 21m 37s\n",
      "900:\tlearn: 1.4123994\ttest: 1.5910357\tbest: 1.5805787 (393)\ttotal: 11.8s\tremaining: 21m 33s\n",
      "1000:\tlearn: 1.4031141\ttest: 1.5935278\tbest: 1.5805787 (393)\ttotal: 13s\tremaining: 21m 30s\n",
      "1100:\tlearn: 1.3912977\ttest: 1.5947095\tbest: 1.5805787 (393)\ttotal: 14.3s\tremaining: 21m 27s\n",
      "1200:\tlearn: 1.3803116\ttest: 1.5970889\tbest: 1.5805787 (393)\ttotal: 15.6s\tremaining: 21m 24s\n",
      "1300:\tlearn: 1.3720817\ttest: 1.5985293\tbest: 1.5805787 (393)\ttotal: 16.9s\tremaining: 21m 22s\n",
      "1400:\tlearn: 1.3623561\ttest: 1.6004578\tbest: 1.5805787 (393)\ttotal: 18.2s\tremaining: 21m 20s\n",
      "1500:\tlearn: 1.3515802\ttest: 1.6034251\tbest: 1.5805787 (393)\ttotal: 19.5s\tremaining: 21m 19s\n",
      "1600:\tlearn: 1.3420395\ttest: 1.6052222\tbest: 1.5805787 (393)\ttotal: 20.8s\tremaining: 21m 19s\n",
      "1700:\tlearn: 1.3342913\ttest: 1.6071515\tbest: 1.5805787 (393)\ttotal: 22.1s\tremaining: 21m 17s\n",
      "1800:\tlearn: 1.3261807\ttest: 1.6079754\tbest: 1.5805787 (393)\ttotal: 23.4s\tremaining: 21m 14s\n",
      "1900:\tlearn: 1.3173353\ttest: 1.6109234\tbest: 1.5805787 (393)\ttotal: 24.7s\tremaining: 21m 12s\n",
      "2000:\tlearn: 1.3113597\ttest: 1.6121768\tbest: 1.5805787 (393)\ttotal: 26s\tremaining: 21m 11s\n",
      "2100:\tlearn: 1.3040175\ttest: 1.6131763\tbest: 1.5805787 (393)\ttotal: 27.2s\tremaining: 21m 9s\n",
      "2200:\tlearn: 1.2978146\ttest: 1.6138718\tbest: 1.5805787 (393)\ttotal: 28.5s\tremaining: 21m 7s\n",
      "2300:\tlearn: 1.2932392\ttest: 1.6145239\tbest: 1.5805787 (393)\ttotal: 29.8s\tremaining: 21m 6s\n",
      "Stopped by overfitting detector  (2000 iterations wait)\n",
      "\n",
      "bestTest = 1.580578723\n",
      "bestIteration = 393\n",
      "\n",
      "Shrink model to first 394 iterations.\n",
      "{'learn': {'RMSE': 1.287306505419306}, 'validation': {'RMSE': 1.5805787230185728}}\n"
     ]
    }
   ],
   "source": [
    "train_pool_1 = Pool(X_wod_train_1, y_wod_train_1)\n",
    "valid_pool_1 = Pool(X_wod_val_1, y_wod_val_1)\n",
    "\n",
    "cat_model_1 = CatBoostRegressor(iterations=100000, early_stopping_rounds=2000, learning_rate=0.05, thread_count=-1, random_state=123456)\n",
    "cat_model_1.fit(train_pool_1, eval_set=valid_pool_1, verbose=100)\n",
    "\n",
    "print(cat_model_1.best_score_)"
   ]
  },
  {
   "cell_type": "code",
   "execution_count": 52,
   "metadata": {
    "colab": {
     "base_uri": "https://localhost:8080/",
     "height": 102
    },
    "colab_type": "code",
    "id": "b6ws99sKMd7_",
    "outputId": "50a3ce53-32a1-4519-9c56-dd9100932135"
   },
   "outputs": [
    {
     "name": "stdout",
     "output_type": "stream",
     "text": [
      "Регион 2:\n",
      "Средняя выручка: 457459529.9924857\n",
      "2.5%-квантиль: 6726262.07897349\n",
      "Риск убытков: 2.40%\n",
      "Доверительный интервал: (443673122.0940079, 471245937.8909635)\n"
     ]
    }
   ],
   "source": [
    "cat_predict_1 = cat_model_1.predict(X_wod_val_1)\n",
    "cat_predict_1 = pd.Series(cat_predict_1, index=X_wod_val_1.index)\n",
    "cat_values_1 = calc_bootstrap(y_wod_val_1, cat_predict_1, POINTS, SELECTED_POINTS)\n",
    "\n",
    "cat_mean_1 = cat_values_1.mean()\n",
    "cat_interval_1 = st.t.interval(alpha=0.95, df=len(cat_values_1)-1, loc=cat_mean_1, scale=cat_values_1.sem())\n",
    "cat_lower_1 = cat_values_1.quantile(0.025)\n",
    "cat_risk_1 = (cat_values_1 < 0).mean()\n",
    "\n",
    "print('Регион 2:')\n",
    "print(\"Средняя выручка:\", cat_mean_1)\n",
    "print(\"2.5%-квантиль:\", cat_lower_1)\n",
    "print(f\"Риск убытков: {cat_risk_1:.2%}\")\n",
    "print(\"Доверительный интервал:\", cat_interval_1)"
   ]
  },
  {
   "cell_type": "code",
   "execution_count": 53,
   "metadata": {
    "colab": {
     "base_uri": "https://localhost:8080/",
     "height": 561
    },
    "colab_type": "code",
    "id": "cVdOyxneMnm3",
    "outputId": "7c48dae9-1162-4fdb-8e4f-caa9198ae455"
   },
   "outputs": [
    {
     "name": "stdout",
     "output_type": "stream",
     "text": [
      "0:\tlearn: 44.2561253\ttest: 44.0624756\tbest: 44.0624756 (0)\ttotal: 15.7ms\tremaining: 26m 6s\n",
      "100:\tlearn: 37.6259663\ttest: 37.5600995\tbest: 37.5600995 (100)\ttotal: 1.3s\tremaining: 21m 24s\n",
      "200:\tlearn: 37.5044872\ttest: 37.4791416\tbest: 37.4787553 (192)\ttotal: 2.59s\tremaining: 21m 25s\n",
      "300:\tlearn: 37.3931791\ttest: 37.4346622\tbest: 37.4338111 (297)\ttotal: 3.86s\tremaining: 21m 18s\n",
      "400:\tlearn: 37.2986528\ttest: 37.4184410\tbest: 37.4176164 (384)\ttotal: 5.16s\tremaining: 21m 22s\n",
      "500:\tlearn: 37.2200126\ttest: 37.4112580\tbest: 37.4106775 (497)\ttotal: 6.48s\tremaining: 21m 27s\n",
      "600:\tlearn: 37.1487323\ttest: 37.4132253\tbest: 37.4106775 (497)\ttotal: 7.76s\tremaining: 21m 24s\n",
      "700:\tlearn: 37.0816342\ttest: 37.4172308\tbest: 37.4106775 (497)\ttotal: 9.05s\tremaining: 21m 22s\n",
      "800:\tlearn: 37.0184377\ttest: 37.4183022\tbest: 37.4106775 (497)\ttotal: 10.3s\tremaining: 21m 18s\n",
      "900:\tlearn: 36.9565321\ttest: 37.4227193\tbest: 37.4106775 (497)\ttotal: 11.6s\tremaining: 21m 17s\n",
      "1000:\tlearn: 36.8953058\ttest: 37.4247352\tbest: 37.4106775 (497)\ttotal: 12.9s\tremaining: 21m 14s\n",
      "1100:\tlearn: 36.8343984\ttest: 37.4267384\tbest: 37.4106775 (497)\ttotal: 14.2s\tremaining: 21m 13s\n",
      "1200:\tlearn: 36.7789358\ttest: 37.4329843\tbest: 37.4106775 (497)\ttotal: 15.5s\tremaining: 21m 13s\n",
      "1300:\tlearn: 36.7221868\ttest: 37.4380748\tbest: 37.4106775 (497)\ttotal: 16.8s\tremaining: 21m 14s\n",
      "1400:\tlearn: 36.6667029\ttest: 37.4438233\tbest: 37.4106775 (497)\ttotal: 18.1s\tremaining: 21m 13s\n",
      "1500:\tlearn: 36.6193853\ttest: 37.4488517\tbest: 37.4106775 (497)\ttotal: 19.4s\tremaining: 21m 11s\n",
      "1600:\tlearn: 36.5643316\ttest: 37.4571586\tbest: 37.4106775 (497)\ttotal: 20.7s\tremaining: 21m 10s\n",
      "1700:\tlearn: 36.5134852\ttest: 37.4647302\tbest: 37.4106775 (497)\ttotal: 21.9s\tremaining: 21m 8s\n",
      "1800:\tlearn: 36.4619735\ttest: 37.4704754\tbest: 37.4106775 (497)\ttotal: 23.2s\tremaining: 21m 6s\n",
      "1900:\tlearn: 36.4135633\ttest: 37.4800748\tbest: 37.4106775 (497)\ttotal: 24.5s\tremaining: 21m 5s\n",
      "2000:\tlearn: 36.3665292\ttest: 37.4878669\tbest: 37.4106775 (497)\ttotal: 25.8s\tremaining: 21m 4s\n",
      "2100:\tlearn: 36.3216635\ttest: 37.4945237\tbest: 37.4106775 (497)\ttotal: 27.1s\tremaining: 21m 3s\n",
      "2200:\tlearn: 36.2726707\ttest: 37.4994929\tbest: 37.4106775 (497)\ttotal: 28.4s\tremaining: 21m 2s\n",
      "2300:\tlearn: 36.2270194\ttest: 37.5053555\tbest: 37.4106775 (497)\ttotal: 29.7s\tremaining: 21m 1s\n",
      "2400:\tlearn: 36.1811684\ttest: 37.5142634\tbest: 37.4106775 (497)\ttotal: 31s\tremaining: 21m\n",
      "Stopped by overfitting detector  (2000 iterations wait)\n",
      "\n",
      "bestTest = 37.41067752\n",
      "bestIteration = 497\n",
      "\n",
      "Shrink model to first 498 iterations.\n",
      "{'learn': {'RMSE': 36.13890705886097}, 'validation': {'RMSE': 37.410677517825405}}\n"
     ]
    }
   ],
   "source": [
    "train_pool_2 = Pool(X_wod_train_2, y_wod_train_2)\n",
    "valid_pool_2 = Pool(X_wod_val_2, y_wod_val_2)\n",
    "\n",
    "cat_model_2 = CatBoostRegressor(iterations=100000, early_stopping_rounds=2000, learning_rate=0.05, thread_count=-1, random_state=123456)\n",
    "cat_model_2.fit(train_pool_2, eval_set=valid_pool_2, verbose=100)\n",
    "\n",
    "print(cat_model_2.best_score_)"
   ]
  },
  {
   "cell_type": "code",
   "execution_count": 54,
   "metadata": {
    "colab": {
     "base_uri": "https://localhost:8080/",
     "height": 102
    },
    "colab_type": "code",
    "id": "_gvOldwDMrgI",
    "outputId": "5c55b3a0-fd3c-41e0-ce65-22f3e2ba3d8f"
   },
   "outputs": [
    {
     "name": "stdout",
     "output_type": "stream",
     "text": [
      "Регион 3:\n",
      "Средняя выручка: 706816105.1446465\n",
      "2.5%-квантиль: 144081218.39718682\n",
      "Риск убытков: 0.80%\n",
      "Доверительный интервал: (689347695.6083621, 724284514.680931)\n"
     ]
    }
   ],
   "source": [
    "cat_predict_2 = cat_model_2.predict(X_wod_val_2)\n",
    "cat_predict_2 = pd.Series(cat_predict_2, index=X_wod_val_2.index)\n",
    "cat_values_2 = calc_bootstrap(y_wod_val_2, cat_predict_2, POINTS, SELECTED_POINTS)\n",
    "\n",
    "cat_mean_2 = cat_values_2.mean()\n",
    "cat_interval_2 = st.t.interval(alpha=0.95, df=len(cat_values_2)-1, loc=cat_mean_2, scale=cat_values_2.sem())\n",
    "cat_lower_2 = cat_values_2.quantile(0.025)\n",
    "cat_risk_2 = (cat_values_2 < 0).mean()\n",
    "\n",
    "print('Регион 3:')\n",
    "print(\"Средняя выручка:\", cat_mean_2)\n",
    "print(\"2.5%-квантиль:\", cat_lower_2)\n",
    "print(f\"Риск убытков: {cat_risk_2:.2%}\")\n",
    "print(\"Доверительный интервал:\", cat_interval_2)"
   ]
  }
 ],
 "metadata": {
  "colab": {
   "collapsed_sections": [],
   "name": "ml_business_1596116540.ipynb",
   "provenance": []
  },
  "kernelspec": {
   "display_name": "Python 3",
   "language": "python",
   "name": "python3"
  },
  "language_info": {
   "codemirror_mode": {
    "name": "ipython",
    "version": 3
   },
   "file_extension": ".py",
   "mimetype": "text/x-python",
   "name": "python",
   "nbconvert_exporter": "python",
   "pygments_lexer": "ipython3",
   "version": "3.8.3"
  }
 },
 "nbformat": 4,
 "nbformat_minor": 4
}
